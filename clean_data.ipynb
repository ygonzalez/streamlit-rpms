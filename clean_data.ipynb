{
 "cells": [
  {
   "cell_type": "code",
   "execution_count": 80,
   "metadata": {},
   "outputs": [],
   "source": [
    "import pandas as pd"
   ]
  },
  {
   "cell_type": "markdown",
   "metadata": {},
   "source": [
    "## Import Raw Files"
   ]
  },
  {
   "cell_type": "code",
   "execution_count": 81,
   "metadata": {},
   "outputs": [],
   "source": [
    "student_list = pd.read_csv('data/student_list.csv', skiprows=[1])"
   ]
  },
  {
   "cell_type": "code",
   "execution_count": 82,
   "metadata": {},
   "outputs": [],
   "source": [
    "historical = pd.read_csv('data/Historical Demographic Data.csv', header=1)"
   ]
  },
  {
   "cell_type": "code",
   "execution_count": 83,
   "metadata": {},
   "outputs": [],
   "source": [
    "student_program = pd.read_csv('data/Student Query Name and Program.csv')"
   ]
  },
  {
   "cell_type": "code",
   "execution_count": 84,
   "metadata": {},
   "outputs": [
    {
     "data": {
      "text/html": [
       "<div>\n",
       "<style scoped>\n",
       "    .dataframe tbody tr th:only-of-type {\n",
       "        vertical-align: middle;\n",
       "    }\n",
       "\n",
       "    .dataframe tbody tr th {\n",
       "        vertical-align: top;\n",
       "    }\n",
       "\n",
       "    .dataframe thead th {\n",
       "        text-align: right;\n",
       "    }\n",
       "</style>\n",
       "<table border=\"1\" class=\"dataframe\">\n",
       "  <thead>\n",
       "    <tr style=\"text-align: right;\">\n",
       "      <th></th>\n",
       "      <th>name</th>\n",
       "      <th>name_title</th>\n",
       "      <th>ethnicity</th>\n",
       "    </tr>\n",
       "  </thead>\n",
       "  <tbody>\n",
       "    <tr>\n",
       "      <th>0</th>\n",
       "      <td>Omar M. Barakat</td>\n",
       "      <td>NaN</td>\n",
       "      <td>Asian</td>\n",
       "    </tr>\n",
       "    <tr>\n",
       "      <th>1</th>\n",
       "      <td>Lucas Breit</td>\n",
       "      <td>NaN</td>\n",
       "      <td>Asian</td>\n",
       "    </tr>\n",
       "    <tr>\n",
       "      <th>2</th>\n",
       "      <td>Stella Breit</td>\n",
       "      <td>NaN</td>\n",
       "      <td>Asian</td>\n",
       "    </tr>\n",
       "    <tr>\n",
       "      <th>3</th>\n",
       "      <td>Julian Rizk Callahan</td>\n",
       "      <td>NaN</td>\n",
       "      <td>Asian</td>\n",
       "    </tr>\n",
       "    <tr>\n",
       "      <th>4</th>\n",
       "      <td>Magnolia Ciardi</td>\n",
       "      <td>NaN</td>\n",
       "      <td>Asian</td>\n",
       "    </tr>\n",
       "  </tbody>\n",
       "</table>\n",
       "</div>"
      ],
      "text/plain": [
       "                   name  name_title ethnicity\n",
       "0       Omar M. Barakat         NaN     Asian\n",
       "1           Lucas Breit         NaN     Asian\n",
       "2          Stella Breit         NaN     Asian\n",
       "3  Julian Rizk Callahan         NaN     Asian\n",
       "4       Magnolia Ciardi         NaN     Asian"
      ]
     },
     "execution_count": 84,
     "metadata": {},
     "output_type": "execute_result"
    }
   ],
   "source": [
    "student_list.head()"
   ]
  },
  {
   "cell_type": "code",
   "execution_count": 85,
   "metadata": {},
   "outputs": [
    {
     "data": {
      "text/plain": [
       "(338, 3)"
      ]
     },
     "execution_count": 85,
     "metadata": {},
     "output_type": "execute_result"
    }
   ],
   "source": [
    "student_list.shape"
   ]
  },
  {
   "cell_type": "code",
   "execution_count": 86,
   "metadata": {},
   "outputs": [
    {
     "data": {
      "text/html": [
       "<div>\n",
       "<style scoped>\n",
       "    .dataframe tbody tr th:only-of-type {\n",
       "        vertical-align: middle;\n",
       "    }\n",
       "\n",
       "    .dataframe tbody tr th {\n",
       "        vertical-align: top;\n",
       "    }\n",
       "\n",
       "    .dataframe thead th {\n",
       "        text-align: right;\n",
       "    }\n",
       "</style>\n",
       "<table border=\"1\" class=\"dataframe\">\n",
       "  <thead>\n",
       "    <tr style=\"text-align: right;\">\n",
       "      <th></th>\n",
       "      <th>2008-2009</th>\n",
       "      <th>295</th>\n",
       "      <th>30</th>\n",
       "      <th>6</th>\n",
       "      <th>23</th>\n",
       "      <th>236</th>\n",
       "      <th>0</th>\n",
       "      <th>295.1</th>\n",
       "      <th>59</th>\n",
       "      <th>20.00%</th>\n",
       "      <th>4</th>\n",
       "    </tr>\n",
       "  </thead>\n",
       "  <tbody>\n",
       "    <tr>\n",
       "      <th>0</th>\n",
       "      <td>2009-2010</td>\n",
       "      <td>316</td>\n",
       "      <td>30</td>\n",
       "      <td>7</td>\n",
       "      <td>22</td>\n",
       "      <td>257</td>\n",
       "      <td>0</td>\n",
       "      <td>316</td>\n",
       "      <td>59</td>\n",
       "      <td>18.67%</td>\n",
       "      <td>6.0</td>\n",
       "    </tr>\n",
       "    <tr>\n",
       "      <th>1</th>\n",
       "      <td>2010-2011</td>\n",
       "      <td>334</td>\n",
       "      <td>39</td>\n",
       "      <td>4</td>\n",
       "      <td>25</td>\n",
       "      <td>266</td>\n",
       "      <td>0</td>\n",
       "      <td>334</td>\n",
       "      <td>68</td>\n",
       "      <td>20.36%</td>\n",
       "      <td>6.0</td>\n",
       "    </tr>\n",
       "    <tr>\n",
       "      <th>2</th>\n",
       "      <td>2011-2012</td>\n",
       "      <td>350</td>\n",
       "      <td>41</td>\n",
       "      <td>7</td>\n",
       "      <td>22</td>\n",
       "      <td>280</td>\n",
       "      <td>0</td>\n",
       "      <td>350</td>\n",
       "      <td>70</td>\n",
       "      <td>20.00%</td>\n",
       "      <td>8.0</td>\n",
       "    </tr>\n",
       "    <tr>\n",
       "      <th>3</th>\n",
       "      <td>2012-2013</td>\n",
       "      <td>371</td>\n",
       "      <td>55</td>\n",
       "      <td>10</td>\n",
       "      <td>27</td>\n",
       "      <td>279</td>\n",
       "      <td>0</td>\n",
       "      <td>371</td>\n",
       "      <td>92</td>\n",
       "      <td>24.80%</td>\n",
       "      <td>11.0</td>\n",
       "    </tr>\n",
       "    <tr>\n",
       "      <th>4</th>\n",
       "      <td>2013-2014</td>\n",
       "      <td>376</td>\n",
       "      <td>49</td>\n",
       "      <td>12</td>\n",
       "      <td>30</td>\n",
       "      <td>285</td>\n",
       "      <td>0</td>\n",
       "      <td>376</td>\n",
       "      <td>91</td>\n",
       "      <td>24.20%</td>\n",
       "      <td>11.0</td>\n",
       "    </tr>\n",
       "    <tr>\n",
       "      <th>5</th>\n",
       "      <td>2014-2015</td>\n",
       "      <td>383</td>\n",
       "      <td>47</td>\n",
       "      <td>13</td>\n",
       "      <td>32</td>\n",
       "      <td>291</td>\n",
       "      <td>0</td>\n",
       "      <td>383</td>\n",
       "      <td>92</td>\n",
       "      <td>24.02%</td>\n",
       "      <td>13.0</td>\n",
       "    </tr>\n",
       "    <tr>\n",
       "      <th>6</th>\n",
       "      <td>2015-2016</td>\n",
       "      <td>397</td>\n",
       "      <td>55</td>\n",
       "      <td>16</td>\n",
       "      <td>32</td>\n",
       "      <td>294</td>\n",
       "      <td>0</td>\n",
       "      <td>397</td>\n",
       "      <td>103</td>\n",
       "      <td>25.94%</td>\n",
       "      <td>16.0</td>\n",
       "    </tr>\n",
       "    <tr>\n",
       "      <th>7</th>\n",
       "      <td>2016-2017</td>\n",
       "      <td>405</td>\n",
       "      <td>59</td>\n",
       "      <td>17</td>\n",
       "      <td>36</td>\n",
       "      <td>293</td>\n",
       "      <td>0</td>\n",
       "      <td>405</td>\n",
       "      <td>112</td>\n",
       "      <td>27.65%</td>\n",
       "      <td>17.0</td>\n",
       "    </tr>\n",
       "    <tr>\n",
       "      <th>8</th>\n",
       "      <td>2017-2018</td>\n",
       "      <td>410</td>\n",
       "      <td>58</td>\n",
       "      <td>20</td>\n",
       "      <td>40</td>\n",
       "      <td>292</td>\n",
       "      <td>0</td>\n",
       "      <td>410</td>\n",
       "      <td>118</td>\n",
       "      <td>28.78%</td>\n",
       "      <td>25.0</td>\n",
       "    </tr>\n",
       "    <tr>\n",
       "      <th>9</th>\n",
       "      <td>2018-2019</td>\n",
       "      <td>411</td>\n",
       "      <td>55</td>\n",
       "      <td>20</td>\n",
       "      <td>41</td>\n",
       "      <td>295</td>\n",
       "      <td>0</td>\n",
       "      <td>411</td>\n",
       "      <td>116</td>\n",
       "      <td>28.22%</td>\n",
       "      <td>21.0</td>\n",
       "    </tr>\n",
       "    <tr>\n",
       "      <th>10</th>\n",
       "      <td>2019-2020</td>\n",
       "      <td>391</td>\n",
       "      <td>59</td>\n",
       "      <td>16</td>\n",
       "      <td>44</td>\n",
       "      <td>272</td>\n",
       "      <td>0</td>\n",
       "      <td>391</td>\n",
       "      <td>119</td>\n",
       "      <td>30.40%</td>\n",
       "      <td>17.0</td>\n",
       "    </tr>\n",
       "    <tr>\n",
       "      <th>11</th>\n",
       "      <td>2020-2021</td>\n",
       "      <td>333</td>\n",
       "      <td>45</td>\n",
       "      <td>10</td>\n",
       "      <td>37</td>\n",
       "      <td>241</td>\n",
       "      <td>0</td>\n",
       "      <td>333</td>\n",
       "      <td>92</td>\n",
       "      <td>27.60%</td>\n",
       "      <td>9.0</td>\n",
       "    </tr>\n",
       "    <tr>\n",
       "      <th>12</th>\n",
       "      <td>2021-2022</td>\n",
       "      <td>361</td>\n",
       "      <td>34</td>\n",
       "      <td>9</td>\n",
       "      <td>30</td>\n",
       "      <td>246</td>\n",
       "      <td>42</td>\n",
       "      <td>361</td>\n",
       "      <td>73</td>\n",
       "      <td>22.60%</td>\n",
       "      <td>NaN</td>\n",
       "    </tr>\n",
       "  </tbody>\n",
       "</table>\n",
       "</div>"
      ],
      "text/plain": [
       "    2008-2009   295  30   6  23  236   0  295.1   59  20.00%     4\n",
       "0   2009-2010   316  30   7  22  257   0    316   59  18.67%   6.0\n",
       "1   2010-2011   334  39   4  25  266   0    334   68  20.36%   6.0\n",
       "2   2011-2012   350  41   7  22  280   0    350   70  20.00%   8.0\n",
       "3   2012-2013   371  55  10  27  279   0    371   92  24.80%  11.0\n",
       "4   2013-2014   376  49  12  30  285   0    376   91  24.20%  11.0\n",
       "5   2014-2015   383  47  13  32  291   0    383   92  24.02%  13.0\n",
       "6   2015-2016   397  55  16  32  294   0    397  103  25.94%  16.0\n",
       "7   2016-2017   405  59  17  36  293   0    405  112  27.65%  17.0\n",
       "8   2017-2018   410  58  20  40  292   0    410  118  28.78%  25.0\n",
       "9   2018-2019   411  55  20  41  295   0    411  116  28.22%  21.0\n",
       "10  2019-2020   391  59  16  44  272   0    391  119  30.40%  17.0\n",
       "11   2020-2021  333  45  10  37  241   0    333   92  27.60%   9.0\n",
       "12   2021-2022  361  34   9  30  246  42    361   73  22.60%   NaN"
      ]
     },
     "execution_count": 86,
     "metadata": {},
     "output_type": "execute_result"
    }
   ],
   "source": [
    "historical"
   ]
  },
  {
   "cell_type": "code",
   "execution_count": 87,
   "metadata": {},
   "outputs": [
    {
     "data": {
      "text/html": [
       "<div>\n",
       "<style scoped>\n",
       "    .dataframe tbody tr th:only-of-type {\n",
       "        vertical-align: middle;\n",
       "    }\n",
       "\n",
       "    .dataframe tbody tr th {\n",
       "        vertical-align: top;\n",
       "    }\n",
       "\n",
       "    .dataframe thead th {\n",
       "        text-align: right;\n",
       "    }\n",
       "</style>\n",
       "<table border=\"1\" class=\"dataframe\">\n",
       "  <thead>\n",
       "    <tr style=\"text-align: right;\">\n",
       "      <th></th>\n",
       "      <th>Person ID</th>\n",
       "      <th>Full Name</th>\n",
       "      <th>Current Grade</th>\n",
       "      <th>Ethnicity</th>\n",
       "      <th>Enrollment Status</th>\n",
       "      <th>Roles</th>\n",
       "    </tr>\n",
       "  </thead>\n",
       "  <tbody>\n",
       "    <tr>\n",
       "      <th>0</th>\n",
       "      <td>100314.0</td>\n",
       "      <td>Bechard, Declan</td>\n",
       "      <td>Toddler</td>\n",
       "      <td>Caucasian</td>\n",
       "      <td>EN: Newly Enrolled</td>\n",
       "      <td>Student (T), Prg Stud</td>\n",
       "    </tr>\n",
       "    <tr>\n",
       "      <th>1</th>\n",
       "      <td>100318.0</td>\n",
       "      <td>Carrigan, JonMateo</td>\n",
       "      <td>Toddler</td>\n",
       "      <td>Multi-racial</td>\n",
       "      <td>EN: Newly Enrolled</td>\n",
       "      <td>Student (T), Prg Stud</td>\n",
       "    </tr>\n",
       "    <tr>\n",
       "      <th>2</th>\n",
       "      <td>100319.0</td>\n",
       "      <td>Ciardi, Nelson</td>\n",
       "      <td>Toddler</td>\n",
       "      <td>Asian</td>\n",
       "      <td>EN: Newly Enrolled</td>\n",
       "      <td>Student (T), Prg Stud</td>\n",
       "    </tr>\n",
       "    <tr>\n",
       "      <th>3</th>\n",
       "      <td>100320.0</td>\n",
       "      <td>Elkington, Max</td>\n",
       "      <td>Toddler</td>\n",
       "      <td>Caucasian</td>\n",
       "      <td>EN: Newly Enrolled</td>\n",
       "      <td>Student (T), Prg Stud</td>\n",
       "    </tr>\n",
       "    <tr>\n",
       "      <th>4</th>\n",
       "      <td>100354.0</td>\n",
       "      <td>Gaster, Eve</td>\n",
       "      <td>Toddler</td>\n",
       "      <td>&lt;None Specified&gt;</td>\n",
       "      <td>EN: Newly Enrolled</td>\n",
       "      <td>Student (T)</td>\n",
       "    </tr>\n",
       "  </tbody>\n",
       "</table>\n",
       "</div>"
      ],
      "text/plain": [
       "   Person ID           Full Name Current Grade         Ethnicity  \\\n",
       "0   100314.0     Bechard, Declan       Toddler         Caucasian   \n",
       "1   100318.0  Carrigan, JonMateo       Toddler      Multi-racial   \n",
       "2   100319.0      Ciardi, Nelson       Toddler             Asian   \n",
       "3   100320.0      Elkington, Max       Toddler         Caucasian   \n",
       "4   100354.0         Gaster, Eve       Toddler  <None Specified>   \n",
       "\n",
       "    Enrollment Status                  Roles  \n",
       "0  EN: Newly Enrolled  Student (T), Prg Stud  \n",
       "1  EN: Newly Enrolled  Student (T), Prg Stud  \n",
       "2  EN: Newly Enrolled  Student (T), Prg Stud  \n",
       "3  EN: Newly Enrolled  Student (T), Prg Stud  \n",
       "4  EN: Newly Enrolled            Student (T)  "
      ]
     },
     "execution_count": 87,
     "metadata": {},
     "output_type": "execute_result"
    }
   ],
   "source": [
    "student_program.head()"
   ]
  },
  {
   "cell_type": "code",
   "execution_count": 88,
   "metadata": {},
   "outputs": [
    {
     "data": {
      "text/plain": [
       "(365, 6)"
      ]
     },
     "execution_count": 88,
     "metadata": {},
     "output_type": "execute_result"
    }
   ],
   "source": [
    "student_program.shape"
   ]
  },
  {
   "cell_type": "code",
   "execution_count": 89,
   "metadata": {},
   "outputs": [],
   "source": [
    "names = student_program['Full Name'].str.split(',', expand=True)"
   ]
  },
  {
   "cell_type": "code",
   "execution_count": 90,
   "metadata": {},
   "outputs": [
    {
     "data": {
      "text/html": [
       "<div>\n",
       "<style scoped>\n",
       "    .dataframe tbody tr th:only-of-type {\n",
       "        vertical-align: middle;\n",
       "    }\n",
       "\n",
       "    .dataframe tbody tr th {\n",
       "        vertical-align: top;\n",
       "    }\n",
       "\n",
       "    .dataframe thead th {\n",
       "        text-align: right;\n",
       "    }\n",
       "</style>\n",
       "<table border=\"1\" class=\"dataframe\">\n",
       "  <thead>\n",
       "    <tr style=\"text-align: right;\">\n",
       "      <th></th>\n",
       "      <th>0</th>\n",
       "      <th>1</th>\n",
       "    </tr>\n",
       "  </thead>\n",
       "  <tbody>\n",
       "    <tr>\n",
       "      <th>0</th>\n",
       "      <td>Bechard</td>\n",
       "      <td>Declan</td>\n",
       "    </tr>\n",
       "    <tr>\n",
       "      <th>1</th>\n",
       "      <td>Carrigan</td>\n",
       "      <td>JonMateo</td>\n",
       "    </tr>\n",
       "  </tbody>\n",
       "</table>\n",
       "</div>"
      ],
      "text/plain": [
       "          0          1\n",
       "0   Bechard     Declan\n",
       "1  Carrigan   JonMateo"
      ]
     },
     "execution_count": 90,
     "metadata": {},
     "output_type": "execute_result"
    }
   ],
   "source": [
    "names.head(2)"
   ]
  },
  {
   "cell_type": "code",
   "execution_count": 91,
   "metadata": {},
   "outputs": [],
   "source": [
    "student_program['Last Name'] = names[0]"
   ]
  },
  {
   "cell_type": "code",
   "execution_count": 92,
   "metadata": {},
   "outputs": [],
   "source": [
    "student_program['First Name'] = names[1]"
   ]
  },
  {
   "cell_type": "code",
   "execution_count": 93,
   "metadata": {},
   "outputs": [
    {
     "data": {
      "text/html": [
       "<div>\n",
       "<style scoped>\n",
       "    .dataframe tbody tr th:only-of-type {\n",
       "        vertical-align: middle;\n",
       "    }\n",
       "\n",
       "    .dataframe tbody tr th {\n",
       "        vertical-align: top;\n",
       "    }\n",
       "\n",
       "    .dataframe thead th {\n",
       "        text-align: right;\n",
       "    }\n",
       "</style>\n",
       "<table border=\"1\" class=\"dataframe\">\n",
       "  <thead>\n",
       "    <tr style=\"text-align: right;\">\n",
       "      <th></th>\n",
       "      <th>0</th>\n",
       "      <th>1</th>\n",
       "      <th>2</th>\n",
       "      <th>3</th>\n",
       "    </tr>\n",
       "  </thead>\n",
       "  <tbody>\n",
       "    <tr>\n",
       "      <th>0</th>\n",
       "      <td>Omar</td>\n",
       "      <td>M.</td>\n",
       "      <td>Barakat</td>\n",
       "      <td>None</td>\n",
       "    </tr>\n",
       "    <tr>\n",
       "      <th>1</th>\n",
       "      <td>Lucas</td>\n",
       "      <td>Breit</td>\n",
       "      <td>None</td>\n",
       "      <td>None</td>\n",
       "    </tr>\n",
       "    <tr>\n",
       "      <th>2</th>\n",
       "      <td>Stella</td>\n",
       "      <td>Breit</td>\n",
       "      <td>None</td>\n",
       "      <td>None</td>\n",
       "    </tr>\n",
       "    <tr>\n",
       "      <th>3</th>\n",
       "      <td>Julian</td>\n",
       "      <td>Rizk</td>\n",
       "      <td>Callahan</td>\n",
       "      <td>None</td>\n",
       "    </tr>\n",
       "    <tr>\n",
       "      <th>4</th>\n",
       "      <td>Magnolia</td>\n",
       "      <td>Ciardi</td>\n",
       "      <td>None</td>\n",
       "      <td>None</td>\n",
       "    </tr>\n",
       "    <tr>\n",
       "      <th>...</th>\n",
       "      <td>...</td>\n",
       "      <td>...</td>\n",
       "      <td>...</td>\n",
       "      <td>...</td>\n",
       "    </tr>\n",
       "    <tr>\n",
       "      <th>333</th>\n",
       "      <td>Rebecca</td>\n",
       "      <td>Asher</td>\n",
       "      <td>Wilson</td>\n",
       "      <td>None</td>\n",
       "    </tr>\n",
       "    <tr>\n",
       "      <th>334</th>\n",
       "      <td>Ava</td>\n",
       "      <td>Wise</td>\n",
       "      <td>None</td>\n",
       "      <td>None</td>\n",
       "    </tr>\n",
       "    <tr>\n",
       "      <th>335</th>\n",
       "      <td>Asa</td>\n",
       "      <td>Trussell</td>\n",
       "      <td>Wolfson</td>\n",
       "      <td>None</td>\n",
       "    </tr>\n",
       "    <tr>\n",
       "      <th>336</th>\n",
       "      <td>Alec</td>\n",
       "      <td>Younger</td>\n",
       "      <td>None</td>\n",
       "      <td>None</td>\n",
       "    </tr>\n",
       "    <tr>\n",
       "      <th>337</th>\n",
       "      <td>Annabel</td>\n",
       "      <td>Zolner</td>\n",
       "      <td>None</td>\n",
       "      <td>None</td>\n",
       "    </tr>\n",
       "  </tbody>\n",
       "</table>\n",
       "<p>338 rows × 4 columns</p>\n",
       "</div>"
      ],
      "text/plain": [
       "            0         1         2     3\n",
       "0        Omar        M.   Barakat  None\n",
       "1       Lucas     Breit      None  None\n",
       "2      Stella     Breit      None  None\n",
       "3      Julian      Rizk  Callahan  None\n",
       "4    Magnolia    Ciardi      None  None\n",
       "..        ...       ...       ...   ...\n",
       "333   Rebecca     Asher    Wilson  None\n",
       "334       Ava      Wise      None  None\n",
       "335       Asa  Trussell   Wolfson  None\n",
       "336      Alec   Younger      None  None\n",
       "337   Annabel    Zolner      None  None\n",
       "\n",
       "[338 rows x 4 columns]"
      ]
     },
     "execution_count": 93,
     "metadata": {},
     "output_type": "execute_result"
    }
   ],
   "source": [
    "student_list['name'].str.split(' ', expand=True)"
   ]
  },
  {
   "cell_type": "code",
   "execution_count": 94,
   "metadata": {},
   "outputs": [
    {
     "data": {
      "text/html": [
       "<div>\n",
       "<style scoped>\n",
       "    .dataframe tbody tr th:only-of-type {\n",
       "        vertical-align: middle;\n",
       "    }\n",
       "\n",
       "    .dataframe tbody tr th {\n",
       "        vertical-align: top;\n",
       "    }\n",
       "\n",
       "    .dataframe thead th {\n",
       "        text-align: right;\n",
       "    }\n",
       "</style>\n",
       "<table border=\"1\" class=\"dataframe\">\n",
       "  <thead>\n",
       "    <tr style=\"text-align: right;\">\n",
       "      <th></th>\n",
       "      <th>name</th>\n",
       "      <th>name_title</th>\n",
       "      <th>ethnicity</th>\n",
       "    </tr>\n",
       "  </thead>\n",
       "  <tbody>\n",
       "    <tr>\n",
       "      <th>0</th>\n",
       "      <td>Omar M. Barakat</td>\n",
       "      <td>NaN</td>\n",
       "      <td>Asian</td>\n",
       "    </tr>\n",
       "    <tr>\n",
       "      <th>1</th>\n",
       "      <td>Lucas Breit</td>\n",
       "      <td>NaN</td>\n",
       "      <td>Asian</td>\n",
       "    </tr>\n",
       "    <tr>\n",
       "      <th>2</th>\n",
       "      <td>Stella Breit</td>\n",
       "      <td>NaN</td>\n",
       "      <td>Asian</td>\n",
       "    </tr>\n",
       "  </tbody>\n",
       "</table>\n",
       "</div>"
      ],
      "text/plain": [
       "              name  name_title ethnicity\n",
       "0  Omar M. Barakat         NaN     Asian\n",
       "1      Lucas Breit         NaN     Asian\n",
       "2     Stella Breit         NaN     Asian"
      ]
     },
     "execution_count": 94,
     "metadata": {},
     "output_type": "execute_result"
    }
   ],
   "source": [
    "student_list.head(3)"
   ]
  },
  {
   "cell_type": "code",
   "execution_count": 95,
   "metadata": {},
   "outputs": [
    {
     "data": {
      "text/plain": [
       "0           Omar M. Barakat\n",
       "1               Lucas Breit\n",
       "2              Stella Breit\n",
       "3      Julian Rizk Callahan\n",
       "4           Magnolia Ciardi\n",
       "               ...         \n",
       "333    Rebecca Asher Wilson\n",
       "334                Ava Wise\n",
       "335    Asa Trussell Wolfson\n",
       "336            Alec Younger\n",
       "337          Annabel Zolner\n",
       "Name: name, Length: 338, dtype: object"
      ]
     },
     "execution_count": 95,
     "metadata": {},
     "output_type": "execute_result"
    }
   ],
   "source": [
    "student_list['name']"
   ]
  },
  {
   "cell_type": "code",
   "execution_count": 96,
   "metadata": {},
   "outputs": [],
   "source": [
    "p = r'^(?P<First_Name>.*) \\b\\s*(?P<Middle_Name>.*) (?P<Last_Name>\\S+)' \n",
    "middle = student_list['name'].str.extract(p)"
   ]
  },
  {
   "cell_type": "code",
   "execution_count": 97,
   "metadata": {},
   "outputs": [],
   "source": [
    "middle = middle.dropna()"
   ]
  },
  {
   "cell_type": "code",
   "execution_count": 98,
   "metadata": {},
   "outputs": [],
   "source": [
    "p = r'^(?P<First_Name>.*) (?P<Last_Name>\\S+)' \n",
    "last = student_list['name'].str.extract(p)"
   ]
  },
  {
   "cell_type": "code",
   "execution_count": 99,
   "metadata": {},
   "outputs": [],
   "source": [
    "student_list_combined = pd.merge(student_list, last, how='left',left_index=True, right_index=True)"
   ]
  },
  {
   "cell_type": "code",
   "execution_count": 100,
   "metadata": {},
   "outputs": [],
   "source": [
    "student_list_combined = pd.merge(student_list_combined, middle, how='left',left_index=True, right_index=True)"
   ]
  },
  {
   "cell_type": "code",
   "execution_count": 101,
   "metadata": {},
   "outputs": [
    {
     "data": {
      "text/html": [
       "<div>\n",
       "<style scoped>\n",
       "    .dataframe tbody tr th:only-of-type {\n",
       "        vertical-align: middle;\n",
       "    }\n",
       "\n",
       "    .dataframe tbody tr th {\n",
       "        vertical-align: top;\n",
       "    }\n",
       "\n",
       "    .dataframe thead th {\n",
       "        text-align: right;\n",
       "    }\n",
       "</style>\n",
       "<table border=\"1\" class=\"dataframe\">\n",
       "  <thead>\n",
       "    <tr style=\"text-align: right;\">\n",
       "      <th></th>\n",
       "      <th>name</th>\n",
       "      <th>name_title</th>\n",
       "      <th>ethnicity</th>\n",
       "      <th>First_Name_x</th>\n",
       "      <th>Last_Name_x</th>\n",
       "      <th>First_Name_y</th>\n",
       "      <th>Middle_Name</th>\n",
       "      <th>Last_Name_y</th>\n",
       "    </tr>\n",
       "  </thead>\n",
       "  <tbody>\n",
       "    <tr>\n",
       "      <th>0</th>\n",
       "      <td>Omar M. Barakat</td>\n",
       "      <td>NaN</td>\n",
       "      <td>Asian</td>\n",
       "      <td>Omar M.</td>\n",
       "      <td>Barakat</td>\n",
       "      <td>Omar</td>\n",
       "      <td>M.</td>\n",
       "      <td>Barakat</td>\n",
       "    </tr>\n",
       "    <tr>\n",
       "      <th>1</th>\n",
       "      <td>Lucas Breit</td>\n",
       "      <td>NaN</td>\n",
       "      <td>Asian</td>\n",
       "      <td>Lucas</td>\n",
       "      <td>Breit</td>\n",
       "      <td>NaN</td>\n",
       "      <td>NaN</td>\n",
       "      <td>NaN</td>\n",
       "    </tr>\n",
       "    <tr>\n",
       "      <th>2</th>\n",
       "      <td>Stella Breit</td>\n",
       "      <td>NaN</td>\n",
       "      <td>Asian</td>\n",
       "      <td>Stella</td>\n",
       "      <td>Breit</td>\n",
       "      <td>NaN</td>\n",
       "      <td>NaN</td>\n",
       "      <td>NaN</td>\n",
       "    </tr>\n",
       "    <tr>\n",
       "      <th>3</th>\n",
       "      <td>Julian Rizk Callahan</td>\n",
       "      <td>NaN</td>\n",
       "      <td>Asian</td>\n",
       "      <td>Julian Rizk</td>\n",
       "      <td>Callahan</td>\n",
       "      <td>Julian</td>\n",
       "      <td>Rizk</td>\n",
       "      <td>Callahan</td>\n",
       "    </tr>\n",
       "    <tr>\n",
       "      <th>4</th>\n",
       "      <td>Magnolia Ciardi</td>\n",
       "      <td>NaN</td>\n",
       "      <td>Asian</td>\n",
       "      <td>Magnolia</td>\n",
       "      <td>Ciardi</td>\n",
       "      <td>NaN</td>\n",
       "      <td>NaN</td>\n",
       "      <td>NaN</td>\n",
       "    </tr>\n",
       "  </tbody>\n",
       "</table>\n",
       "</div>"
      ],
      "text/plain": [
       "                   name  name_title ethnicity First_Name_x Last_Name_x  \\\n",
       "0       Omar M. Barakat         NaN     Asian      Omar M.     Barakat   \n",
       "1           Lucas Breit         NaN     Asian        Lucas       Breit   \n",
       "2          Stella Breit         NaN     Asian       Stella       Breit   \n",
       "3  Julian Rizk Callahan         NaN     Asian  Julian Rizk    Callahan   \n",
       "4       Magnolia Ciardi         NaN     Asian     Magnolia      Ciardi   \n",
       "\n",
       "  First_Name_y Middle_Name Last_Name_y  \n",
       "0         Omar          M.     Barakat  \n",
       "1          NaN         NaN         NaN  \n",
       "2          NaN         NaN         NaN  \n",
       "3       Julian        Rizk    Callahan  \n",
       "4          NaN         NaN         NaN  "
      ]
     },
     "execution_count": 101,
     "metadata": {},
     "output_type": "execute_result"
    }
   ],
   "source": [
    "student_list_combined.head()"
   ]
  },
  {
   "cell_type": "code",
   "execution_count": 102,
   "metadata": {},
   "outputs": [],
   "source": [
    "student_list_combined.loc[student_list_combined['First_Name_y'].isnull(), 'First_Name_y'] = student_list_combined['First_Name_x']"
   ]
  },
  {
   "cell_type": "code",
   "execution_count": 103,
   "metadata": {},
   "outputs": [],
   "source": [
    "student_list_combined.loc[student_list_combined['Last_Name_y'].isnull(), 'Last_Name_y'] = student_list_combined['Last_Name_x']"
   ]
  },
  {
   "cell_type": "code",
   "execution_count": 104,
   "metadata": {},
   "outputs": [
    {
     "data": {
      "text/html": [
       "<div>\n",
       "<style scoped>\n",
       "    .dataframe tbody tr th:only-of-type {\n",
       "        vertical-align: middle;\n",
       "    }\n",
       "\n",
       "    .dataframe tbody tr th {\n",
       "        vertical-align: top;\n",
       "    }\n",
       "\n",
       "    .dataframe thead th {\n",
       "        text-align: right;\n",
       "    }\n",
       "</style>\n",
       "<table border=\"1\" class=\"dataframe\">\n",
       "  <thead>\n",
       "    <tr style=\"text-align: right;\">\n",
       "      <th></th>\n",
       "      <th>name</th>\n",
       "      <th>name_title</th>\n",
       "      <th>ethnicity</th>\n",
       "      <th>First_Name_x</th>\n",
       "      <th>Last_Name_x</th>\n",
       "      <th>First_Name_y</th>\n",
       "      <th>Middle_Name</th>\n",
       "      <th>Last_Name_y</th>\n",
       "    </tr>\n",
       "  </thead>\n",
       "  <tbody>\n",
       "    <tr>\n",
       "      <th>0</th>\n",
       "      <td>Omar M. Barakat</td>\n",
       "      <td>NaN</td>\n",
       "      <td>Asian</td>\n",
       "      <td>Omar M.</td>\n",
       "      <td>Barakat</td>\n",
       "      <td>Omar</td>\n",
       "      <td>M.</td>\n",
       "      <td>Barakat</td>\n",
       "    </tr>\n",
       "    <tr>\n",
       "      <th>1</th>\n",
       "      <td>Lucas Breit</td>\n",
       "      <td>NaN</td>\n",
       "      <td>Asian</td>\n",
       "      <td>Lucas</td>\n",
       "      <td>Breit</td>\n",
       "      <td>Lucas</td>\n",
       "      <td>NaN</td>\n",
       "      <td>Breit</td>\n",
       "    </tr>\n",
       "    <tr>\n",
       "      <th>2</th>\n",
       "      <td>Stella Breit</td>\n",
       "      <td>NaN</td>\n",
       "      <td>Asian</td>\n",
       "      <td>Stella</td>\n",
       "      <td>Breit</td>\n",
       "      <td>Stella</td>\n",
       "      <td>NaN</td>\n",
       "      <td>Breit</td>\n",
       "    </tr>\n",
       "    <tr>\n",
       "      <th>3</th>\n",
       "      <td>Julian Rizk Callahan</td>\n",
       "      <td>NaN</td>\n",
       "      <td>Asian</td>\n",
       "      <td>Julian Rizk</td>\n",
       "      <td>Callahan</td>\n",
       "      <td>Julian</td>\n",
       "      <td>Rizk</td>\n",
       "      <td>Callahan</td>\n",
       "    </tr>\n",
       "    <tr>\n",
       "      <th>4</th>\n",
       "      <td>Magnolia Ciardi</td>\n",
       "      <td>NaN</td>\n",
       "      <td>Asian</td>\n",
       "      <td>Magnolia</td>\n",
       "      <td>Ciardi</td>\n",
       "      <td>Magnolia</td>\n",
       "      <td>NaN</td>\n",
       "      <td>Ciardi</td>\n",
       "    </tr>\n",
       "  </tbody>\n",
       "</table>\n",
       "</div>"
      ],
      "text/plain": [
       "                   name  name_title ethnicity First_Name_x Last_Name_x  \\\n",
       "0       Omar M. Barakat         NaN     Asian      Omar M.     Barakat   \n",
       "1           Lucas Breit         NaN     Asian        Lucas       Breit   \n",
       "2          Stella Breit         NaN     Asian       Stella       Breit   \n",
       "3  Julian Rizk Callahan         NaN     Asian  Julian Rizk    Callahan   \n",
       "4       Magnolia Ciardi         NaN     Asian     Magnolia      Ciardi   \n",
       "\n",
       "  First_Name_y Middle_Name Last_Name_y  \n",
       "0         Omar          M.     Barakat  \n",
       "1        Lucas         NaN       Breit  \n",
       "2       Stella         NaN       Breit  \n",
       "3       Julian        Rizk    Callahan  \n",
       "4     Magnolia         NaN      Ciardi  "
      ]
     },
     "execution_count": 104,
     "metadata": {},
     "output_type": "execute_result"
    }
   ],
   "source": [
    "student_list_combined.head()"
   ]
  },
  {
   "cell_type": "code",
   "execution_count": 105,
   "metadata": {},
   "outputs": [],
   "source": [
    "student_list_combined = student_list_combined.drop(columns=['First_Name_x','Last_Name_x'], index=1)"
   ]
  },
  {
   "cell_type": "code",
   "execution_count": 106,
   "metadata": {},
   "outputs": [
    {
     "data": {
      "text/plain": [
       "Index(['name', 'name_title', 'ethnicity', 'First_Name_y', 'Middle_Name',\n",
       "       'Last_Name_y'],\n",
       "      dtype='object')"
      ]
     },
     "execution_count": 106,
     "metadata": {},
     "output_type": "execute_result"
    }
   ],
   "source": [
    "student_list_combined.columns"
   ]
  },
  {
   "cell_type": "code",
   "execution_count": 107,
   "metadata": {},
   "outputs": [],
   "source": [
    "student_list_combined.columns = ['name', 'name_title', 'ethnicity', 'First Name', 'Middle Name',\n",
    "       'Last Name']"
   ]
  },
  {
   "cell_type": "code",
   "execution_count": 108,
   "metadata": {},
   "outputs": [
    {
     "data": {
      "text/plain": [
       "Index(['name', 'name_title', 'ethnicity', 'First Name', 'Middle Name',\n",
       "       'Last Name'],\n",
       "      dtype='object')"
      ]
     },
     "execution_count": 108,
     "metadata": {},
     "output_type": "execute_result"
    }
   ],
   "source": [
    "student_list_combined.columns"
   ]
  },
  {
   "cell_type": "code",
   "execution_count": 109,
   "metadata": {},
   "outputs": [],
   "source": [
    "student_list_combined['First Name'] = student_list_combined['First Name'].str.strip()\n",
    "student_list_combined['Last Name'] = student_list_combined['Last Name'].str.strip()\n",
    "student_program['First Name'] = student_program['First Name'].str.strip()\n",
    "student_program['Last Name'] = student_program['Last Name'].str.strip()"
   ]
  },
  {
   "cell_type": "code",
   "execution_count": 110,
   "metadata": {},
   "outputs": [
    {
     "data": {
      "text/html": [
       "<div>\n",
       "<style scoped>\n",
       "    .dataframe tbody tr th:only-of-type {\n",
       "        vertical-align: middle;\n",
       "    }\n",
       "\n",
       "    .dataframe tbody tr th {\n",
       "        vertical-align: top;\n",
       "    }\n",
       "\n",
       "    .dataframe thead th {\n",
       "        text-align: right;\n",
       "    }\n",
       "</style>\n",
       "<table border=\"1\" class=\"dataframe\">\n",
       "  <thead>\n",
       "    <tr style=\"text-align: right;\">\n",
       "      <th></th>\n",
       "      <th>name</th>\n",
       "      <th>name_title</th>\n",
       "      <th>ethnicity</th>\n",
       "      <th>First Name</th>\n",
       "      <th>Middle Name</th>\n",
       "      <th>Last Name</th>\n",
       "    </tr>\n",
       "  </thead>\n",
       "  <tbody>\n",
       "    <tr>\n",
       "      <th>0</th>\n",
       "      <td>Omar M. Barakat</td>\n",
       "      <td>NaN</td>\n",
       "      <td>Asian</td>\n",
       "      <td>Omar</td>\n",
       "      <td>M.</td>\n",
       "      <td>Barakat</td>\n",
       "    </tr>\n",
       "    <tr>\n",
       "      <th>2</th>\n",
       "      <td>Stella Breit</td>\n",
       "      <td>NaN</td>\n",
       "      <td>Asian</td>\n",
       "      <td>Stella</td>\n",
       "      <td>NaN</td>\n",
       "      <td>Breit</td>\n",
       "    </tr>\n",
       "    <tr>\n",
       "      <th>3</th>\n",
       "      <td>Julian Rizk Callahan</td>\n",
       "      <td>NaN</td>\n",
       "      <td>Asian</td>\n",
       "      <td>Julian</td>\n",
       "      <td>Rizk</td>\n",
       "      <td>Callahan</td>\n",
       "    </tr>\n",
       "    <tr>\n",
       "      <th>4</th>\n",
       "      <td>Magnolia Ciardi</td>\n",
       "      <td>NaN</td>\n",
       "      <td>Asian</td>\n",
       "      <td>Magnolia</td>\n",
       "      <td>NaN</td>\n",
       "      <td>Ciardi</td>\n",
       "    </tr>\n",
       "    <tr>\n",
       "      <th>5</th>\n",
       "      <td>Nelson D Ciardi</td>\n",
       "      <td>NaN</td>\n",
       "      <td>Asian</td>\n",
       "      <td>Nelson</td>\n",
       "      <td>D</td>\n",
       "      <td>Ciardi</td>\n",
       "    </tr>\n",
       "  </tbody>\n",
       "</table>\n",
       "</div>"
      ],
      "text/plain": [
       "                   name  name_title ethnicity First Name Middle Name Last Name\n",
       "0       Omar M. Barakat         NaN     Asian       Omar          M.   Barakat\n",
       "2          Stella Breit         NaN     Asian     Stella         NaN     Breit\n",
       "3  Julian Rizk Callahan         NaN     Asian     Julian        Rizk  Callahan\n",
       "4       Magnolia Ciardi         NaN     Asian   Magnolia         NaN    Ciardi\n",
       "5       Nelson D Ciardi         NaN     Asian     Nelson           D    Ciardi"
      ]
     },
     "execution_count": 110,
     "metadata": {},
     "output_type": "execute_result"
    }
   ],
   "source": [
    "student_list_combined.head()"
   ]
  },
  {
   "cell_type": "code",
   "execution_count": 111,
   "metadata": {},
   "outputs": [
    {
     "data": {
      "text/html": [
       "<div>\n",
       "<style scoped>\n",
       "    .dataframe tbody tr th:only-of-type {\n",
       "        vertical-align: middle;\n",
       "    }\n",
       "\n",
       "    .dataframe tbody tr th {\n",
       "        vertical-align: top;\n",
       "    }\n",
       "\n",
       "    .dataframe thead th {\n",
       "        text-align: right;\n",
       "    }\n",
       "</style>\n",
       "<table border=\"1\" class=\"dataframe\">\n",
       "  <thead>\n",
       "    <tr style=\"text-align: right;\">\n",
       "      <th></th>\n",
       "      <th>Person ID</th>\n",
       "      <th>Full Name</th>\n",
       "      <th>Current Grade</th>\n",
       "      <th>Ethnicity</th>\n",
       "      <th>Enrollment Status</th>\n",
       "      <th>Roles</th>\n",
       "      <th>Last Name</th>\n",
       "      <th>First Name</th>\n",
       "    </tr>\n",
       "  </thead>\n",
       "  <tbody>\n",
       "    <tr>\n",
       "      <th>0</th>\n",
       "      <td>100314.0</td>\n",
       "      <td>Bechard, Declan</td>\n",
       "      <td>Toddler</td>\n",
       "      <td>Caucasian</td>\n",
       "      <td>EN: Newly Enrolled</td>\n",
       "      <td>Student (T), Prg Stud</td>\n",
       "      <td>Bechard</td>\n",
       "      <td>Declan</td>\n",
       "    </tr>\n",
       "    <tr>\n",
       "      <th>1</th>\n",
       "      <td>100318.0</td>\n",
       "      <td>Carrigan, JonMateo</td>\n",
       "      <td>Toddler</td>\n",
       "      <td>Multi-racial</td>\n",
       "      <td>EN: Newly Enrolled</td>\n",
       "      <td>Student (T), Prg Stud</td>\n",
       "      <td>Carrigan</td>\n",
       "      <td>JonMateo</td>\n",
       "    </tr>\n",
       "    <tr>\n",
       "      <th>2</th>\n",
       "      <td>100319.0</td>\n",
       "      <td>Ciardi, Nelson</td>\n",
       "      <td>Toddler</td>\n",
       "      <td>Asian</td>\n",
       "      <td>EN: Newly Enrolled</td>\n",
       "      <td>Student (T), Prg Stud</td>\n",
       "      <td>Ciardi</td>\n",
       "      <td>Nelson</td>\n",
       "    </tr>\n",
       "    <tr>\n",
       "      <th>3</th>\n",
       "      <td>100320.0</td>\n",
       "      <td>Elkington, Max</td>\n",
       "      <td>Toddler</td>\n",
       "      <td>Caucasian</td>\n",
       "      <td>EN: Newly Enrolled</td>\n",
       "      <td>Student (T), Prg Stud</td>\n",
       "      <td>Elkington</td>\n",
       "      <td>Max</td>\n",
       "    </tr>\n",
       "    <tr>\n",
       "      <th>4</th>\n",
       "      <td>100354.0</td>\n",
       "      <td>Gaster, Eve</td>\n",
       "      <td>Toddler</td>\n",
       "      <td>&lt;None Specified&gt;</td>\n",
       "      <td>EN: Newly Enrolled</td>\n",
       "      <td>Student (T)</td>\n",
       "      <td>Gaster</td>\n",
       "      <td>Eve</td>\n",
       "    </tr>\n",
       "  </tbody>\n",
       "</table>\n",
       "</div>"
      ],
      "text/plain": [
       "   Person ID           Full Name Current Grade         Ethnicity  \\\n",
       "0   100314.0     Bechard, Declan       Toddler         Caucasian   \n",
       "1   100318.0  Carrigan, JonMateo       Toddler      Multi-racial   \n",
       "2   100319.0      Ciardi, Nelson       Toddler             Asian   \n",
       "3   100320.0      Elkington, Max       Toddler         Caucasian   \n",
       "4   100354.0         Gaster, Eve       Toddler  <None Specified>   \n",
       "\n",
       "    Enrollment Status                  Roles  Last Name First Name  \n",
       "0  EN: Newly Enrolled  Student (T), Prg Stud    Bechard     Declan  \n",
       "1  EN: Newly Enrolled  Student (T), Prg Stud   Carrigan   JonMateo  \n",
       "2  EN: Newly Enrolled  Student (T), Prg Stud     Ciardi     Nelson  \n",
       "3  EN: Newly Enrolled  Student (T), Prg Stud  Elkington        Max  \n",
       "4  EN: Newly Enrolled            Student (T)     Gaster        Eve  "
      ]
     },
     "execution_count": 111,
     "metadata": {},
     "output_type": "execute_result"
    }
   ],
   "source": [
    "student_program.head()"
   ]
  },
  {
   "cell_type": "code",
   "execution_count": 112,
   "metadata": {},
   "outputs": [],
   "source": [
    "combined_student_list = pd.merge(student_program, student_list_combined, how='left',\n",
    "                                 on =['First Name','Last Name'])"
   ]
  },
  {
   "cell_type": "code",
   "execution_count": 113,
   "metadata": {},
   "outputs": [
    {
     "data": {
      "text/plain": [
       "(365, 12)"
      ]
     },
     "execution_count": 113,
     "metadata": {},
     "output_type": "execute_result"
    }
   ],
   "source": [
    "combined_student_list.shape"
   ]
  },
  {
   "cell_type": "code",
   "execution_count": 114,
   "metadata": {},
   "outputs": [
    {
     "data": {
      "text/html": [
       "<div>\n",
       "<style scoped>\n",
       "    .dataframe tbody tr th:only-of-type {\n",
       "        vertical-align: middle;\n",
       "    }\n",
       "\n",
       "    .dataframe tbody tr th {\n",
       "        vertical-align: top;\n",
       "    }\n",
       "\n",
       "    .dataframe thead th {\n",
       "        text-align: right;\n",
       "    }\n",
       "</style>\n",
       "<table border=\"1\" class=\"dataframe\">\n",
       "  <thead>\n",
       "    <tr style=\"text-align: right;\">\n",
       "      <th></th>\n",
       "      <th>Person ID</th>\n",
       "      <th>Full Name</th>\n",
       "      <th>Current Grade</th>\n",
       "      <th>Ethnicity</th>\n",
       "      <th>Enrollment Status</th>\n",
       "      <th>Roles</th>\n",
       "      <th>Last Name</th>\n",
       "      <th>First Name</th>\n",
       "      <th>name</th>\n",
       "      <th>name_title</th>\n",
       "      <th>ethnicity</th>\n",
       "      <th>Middle Name</th>\n",
       "    </tr>\n",
       "  </thead>\n",
       "  <tbody>\n",
       "    <tr>\n",
       "      <th>0</th>\n",
       "      <td>100314.0</td>\n",
       "      <td>Bechard, Declan</td>\n",
       "      <td>Toddler</td>\n",
       "      <td>Caucasian</td>\n",
       "      <td>EN: Newly Enrolled</td>\n",
       "      <td>Student (T), Prg Stud</td>\n",
       "      <td>Bechard</td>\n",
       "      <td>Declan</td>\n",
       "      <td>Declan Bechard</td>\n",
       "      <td>NaN</td>\n",
       "      <td>White</td>\n",
       "      <td>NaN</td>\n",
       "    </tr>\n",
       "    <tr>\n",
       "      <th>1</th>\n",
       "      <td>100318.0</td>\n",
       "      <td>Carrigan, JonMateo</td>\n",
       "      <td>Toddler</td>\n",
       "      <td>Multi-racial</td>\n",
       "      <td>EN: Newly Enrolled</td>\n",
       "      <td>Student (T), Prg Stud</td>\n",
       "      <td>Carrigan</td>\n",
       "      <td>JonMateo</td>\n",
       "      <td>NaN</td>\n",
       "      <td>NaN</td>\n",
       "      <td>NaN</td>\n",
       "      <td>NaN</td>\n",
       "    </tr>\n",
       "    <tr>\n",
       "      <th>2</th>\n",
       "      <td>100319.0</td>\n",
       "      <td>Ciardi, Nelson</td>\n",
       "      <td>Toddler</td>\n",
       "      <td>Asian</td>\n",
       "      <td>EN: Newly Enrolled</td>\n",
       "      <td>Student (T), Prg Stud</td>\n",
       "      <td>Ciardi</td>\n",
       "      <td>Nelson</td>\n",
       "      <td>Nelson D Ciardi</td>\n",
       "      <td>NaN</td>\n",
       "      <td>Asian</td>\n",
       "      <td>D</td>\n",
       "    </tr>\n",
       "    <tr>\n",
       "      <th>3</th>\n",
       "      <td>100320.0</td>\n",
       "      <td>Elkington, Max</td>\n",
       "      <td>Toddler</td>\n",
       "      <td>Caucasian</td>\n",
       "      <td>EN: Newly Enrolled</td>\n",
       "      <td>Student (T), Prg Stud</td>\n",
       "      <td>Elkington</td>\n",
       "      <td>Max</td>\n",
       "      <td>Max Elkington</td>\n",
       "      <td>NaN</td>\n",
       "      <td>White</td>\n",
       "      <td>NaN</td>\n",
       "    </tr>\n",
       "    <tr>\n",
       "      <th>4</th>\n",
       "      <td>100354.0</td>\n",
       "      <td>Gaster, Eve</td>\n",
       "      <td>Toddler</td>\n",
       "      <td>&lt;None Specified&gt;</td>\n",
       "      <td>EN: Newly Enrolled</td>\n",
       "      <td>Student (T)</td>\n",
       "      <td>Gaster</td>\n",
       "      <td>Eve</td>\n",
       "      <td>Eve Gaster</td>\n",
       "      <td>NaN</td>\n",
       "      <td>Prefer Not To Answer</td>\n",
       "      <td>NaN</td>\n",
       "    </tr>\n",
       "  </tbody>\n",
       "</table>\n",
       "</div>"
      ],
      "text/plain": [
       "   Person ID           Full Name Current Grade         Ethnicity  \\\n",
       "0   100314.0     Bechard, Declan       Toddler         Caucasian   \n",
       "1   100318.0  Carrigan, JonMateo       Toddler      Multi-racial   \n",
       "2   100319.0      Ciardi, Nelson       Toddler             Asian   \n",
       "3   100320.0      Elkington, Max       Toddler         Caucasian   \n",
       "4   100354.0         Gaster, Eve       Toddler  <None Specified>   \n",
       "\n",
       "    Enrollment Status                  Roles  Last Name First Name  \\\n",
       "0  EN: Newly Enrolled  Student (T), Prg Stud    Bechard     Declan   \n",
       "1  EN: Newly Enrolled  Student (T), Prg Stud   Carrigan   JonMateo   \n",
       "2  EN: Newly Enrolled  Student (T), Prg Stud     Ciardi     Nelson   \n",
       "3  EN: Newly Enrolled  Student (T), Prg Stud  Elkington        Max   \n",
       "4  EN: Newly Enrolled            Student (T)     Gaster        Eve   \n",
       "\n",
       "              name  name_title             ethnicity Middle Name  \n",
       "0   Declan Bechard         NaN                 White         NaN  \n",
       "1              NaN         NaN                   NaN         NaN  \n",
       "2  Nelson D Ciardi         NaN                 Asian           D  \n",
       "3    Max Elkington         NaN                 White         NaN  \n",
       "4       Eve Gaster         NaN  Prefer Not To Answer         NaN  "
      ]
     },
     "execution_count": 114,
     "metadata": {},
     "output_type": "execute_result"
    }
   ],
   "source": [
    "combined_student_list.head()"
   ]
  },
  {
   "cell_type": "code",
   "execution_count": 115,
   "metadata": {},
   "outputs": [],
   "source": [
    "combined_student_list = combined_student_list.dropna(how='all')"
   ]
  },
  {
   "cell_type": "code",
   "execution_count": 116,
   "metadata": {},
   "outputs": [],
   "source": [
    "# combined_student_list[combined_student_list['ethnicity'].isnull()]"
   ]
  },
  {
   "cell_type": "code",
   "execution_count": 117,
   "metadata": {},
   "outputs": [
    {
     "data": {
      "text/plain": [
       "Index(['Person ID', 'Full Name', 'Current Grade', 'Ethnicity',\n",
       "       'Enrollment Status', 'Roles', 'Last Name', 'First Name', 'name',\n",
       "       'name_title', 'ethnicity', 'Middle Name'],\n",
       "      dtype='object')"
      ]
     },
     "execution_count": 117,
     "metadata": {},
     "output_type": "execute_result"
    }
   ],
   "source": [
    "combined_student_list.columns"
   ]
  },
  {
   "cell_type": "code",
   "execution_count": 118,
   "metadata": {},
   "outputs": [],
   "source": [
    "final_student_list = combined_student_list[['First Name', 'Last Name', 'ethnicity', 'Current Grade']]"
   ]
  },
  {
   "cell_type": "code",
   "execution_count": 119,
   "metadata": {},
   "outputs": [
    {
     "data": {
      "text/plain": [
       "(361, 4)"
      ]
     },
     "execution_count": 119,
     "metadata": {},
     "output_type": "execute_result"
    }
   ],
   "source": [
    "final_student_list.shape"
   ]
  },
  {
   "cell_type": "code",
   "execution_count": 120,
   "metadata": {},
   "outputs": [],
   "source": [
    "final_student_list.to_csv('data/final_student_list.csv', index=False)"
   ]
  },
  {
   "cell_type": "code",
   "execution_count": 121,
   "metadata": {},
   "outputs": [
    {
     "data": {
      "text/plain": [
       "(323, 4)"
      ]
     },
     "execution_count": 121,
     "metadata": {},
     "output_type": "execute_result"
    }
   ],
   "source": [
    "final_student_list[~final_student_list['ethnicity'].isnull()].shape"
   ]
  },
  {
   "cell_type": "code",
   "execution_count": 122,
   "metadata": {},
   "outputs": [
    {
     "data": {
      "text/plain": [
       "White                        246\n",
       "Asian                         34\n",
       "Hispanic or Latino            30\n",
       "Black or African American      9\n",
       "Prefer Not To Answer           4\n",
       "Name: ethnicity, dtype: int64"
      ]
     },
     "execution_count": 122,
     "metadata": {},
     "output_type": "execute_result"
    }
   ],
   "source": [
    "final_student_list['ethnicity'].value_counts()"
   ]
  },
  {
   "cell_type": "code",
   "execution_count": 125,
   "metadata": {},
   "outputs": [],
   "source": [
    "final_student_list[final_student_list['ethnicity'].isnull()].to_csv('student_missing_demo.csv', index=False)"
   ]
  },
  {
   "cell_type": "markdown",
   "metadata": {},
   "source": [
    "## Map"
   ]
  },
  {
   "cell_type": "code",
   "execution_count": 8,
   "metadata": {},
   "outputs": [],
   "source": [
    "import geopandas as gpd\n",
    "import matplotlib.pyplot as plt\n",
    "import pyproj\n",
    "import plotly.graph_objs as go"
   ]
  },
  {
   "cell_type": "code",
   "execution_count": 9,
   "metadata": {},
   "outputs": [],
   "source": [
    "chi_zips = gpd.read_file(r\"Boundaries - ZIP Codes/geo_export_a9707f61-f834-4e7b-b8a5-0f0ff4c8412d.shp\")\n"
   ]
  },
  {
   "cell_type": "code",
   "execution_count": 10,
   "metadata": {},
   "outputs": [],
   "source": [
    "map_df = chi_zips \n",
    "map_df.to_crs(pyproj.CRS.from_epsg(4326), inplace=True)"
   ]
  },
  {
   "cell_type": "code",
   "execution_count": 12,
   "metadata": {},
   "outputs": [
    {
     "data": {
      "text/html": [
       "<div>\n",
       "<style scoped>\n",
       "    .dataframe tbody tr th:only-of-type {\n",
       "        vertical-align: middle;\n",
       "    }\n",
       "\n",
       "    .dataframe tbody tr th {\n",
       "        vertical-align: top;\n",
       "    }\n",
       "\n",
       "    .dataframe thead th {\n",
       "        text-align: right;\n",
       "    }\n",
       "</style>\n",
       "<table border=\"1\" class=\"dataframe\">\n",
       "  <thead>\n",
       "    <tr style=\"text-align: right;\">\n",
       "      <th></th>\n",
       "      <th>objectid</th>\n",
       "      <th>shape_area</th>\n",
       "      <th>shape_len</th>\n",
       "      <th>zip</th>\n",
       "      <th>geometry</th>\n",
       "    </tr>\n",
       "  </thead>\n",
       "  <tbody>\n",
       "    <tr>\n",
       "      <th>0</th>\n",
       "      <td>33.0</td>\n",
       "      <td>1.060523e+08</td>\n",
       "      <td>42720.044406</td>\n",
       "      <td>60647</td>\n",
       "      <td>POLYGON ((-87.67762 41.91776, -87.67761 41.917...</td>\n",
       "    </tr>\n",
       "    <tr>\n",
       "      <th>1</th>\n",
       "      <td>34.0</td>\n",
       "      <td>1.274761e+08</td>\n",
       "      <td>48103.782721</td>\n",
       "      <td>60639</td>\n",
       "      <td>POLYGON ((-87.72683 41.92265, -87.72693 41.922...</td>\n",
       "    </tr>\n",
       "    <tr>\n",
       "      <th>2</th>\n",
       "      <td>35.0</td>\n",
       "      <td>4.506904e+07</td>\n",
       "      <td>27288.609612</td>\n",
       "      <td>60707</td>\n",
       "      <td>POLYGON ((-87.78500 41.90915, -87.78531 41.909...</td>\n",
       "    </tr>\n",
       "    <tr>\n",
       "      <th>3</th>\n",
       "      <td>36.0</td>\n",
       "      <td>7.085383e+07</td>\n",
       "      <td>42527.989679</td>\n",
       "      <td>60622</td>\n",
       "      <td>POLYGON ((-87.66707 41.88885, -87.66707 41.888...</td>\n",
       "    </tr>\n",
       "    <tr>\n",
       "      <th>4</th>\n",
       "      <td>37.0</td>\n",
       "      <td>9.903962e+07</td>\n",
       "      <td>47970.140153</td>\n",
       "      <td>60651</td>\n",
       "      <td>POLYGON ((-87.70656 41.89555, -87.70672 41.895...</td>\n",
       "    </tr>\n",
       "  </tbody>\n",
       "</table>\n",
       "</div>"
      ],
      "text/plain": [
       "   objectid    shape_area     shape_len    zip  \\\n",
       "0      33.0  1.060523e+08  42720.044406  60647   \n",
       "1      34.0  1.274761e+08  48103.782721  60639   \n",
       "2      35.0  4.506904e+07  27288.609612  60707   \n",
       "3      36.0  7.085383e+07  42527.989679  60622   \n",
       "4      37.0  9.903962e+07  47970.140153  60651   \n",
       "\n",
       "                                            geometry  \n",
       "0  POLYGON ((-87.67762 41.91776, -87.67761 41.917...  \n",
       "1  POLYGON ((-87.72683 41.92265, -87.72693 41.922...  \n",
       "2  POLYGON ((-87.78500 41.90915, -87.78531 41.909...  \n",
       "3  POLYGON ((-87.66707 41.88885, -87.66707 41.888...  \n",
       "4  POLYGON ((-87.70656 41.89555, -87.70672 41.895...  "
      ]
     },
     "execution_count": 12,
     "metadata": {},
     "output_type": "execute_result"
    }
   ],
   "source": [
    "map_df.head()"
   ]
  },
  {
   "cell_type": "code",
   "execution_count": 15,
   "metadata": {},
   "outputs": [],
   "source": [
    "import folium\n",
    "import branca.colormap as cm"
   ]
  },
  {
   "cell_type": "code",
   "execution_count": 36,
   "metadata": {},
   "outputs": [
    {
     "name": "stderr",
     "output_type": "stream",
     "text": [
      "<ipython-input-36-94f388c2eff9>:1: UserWarning: Geometry is in a geographic CRS. Results from 'centroid' are likely incorrect. Use 'GeoSeries.to_crs()' to re-project geometries to a projected CRS before this operation.\n",
      "\n",
      "  x_map=map_df.centroid.x.mean()\n",
      "<ipython-input-36-94f388c2eff9>:2: UserWarning: Geometry is in a geographic CRS. Results from 'centroid' are likely incorrect. Use 'GeoSeries.to_crs()' to re-project geometries to a projected CRS before this operation.\n",
      "\n",
      "  y_map=map_df.centroid.y.mean()+.1\n"
     ]
    }
   ],
   "source": [
    "x_map=map_df.centroid.x.mean()\n",
    "y_map=map_df.centroid.y.mean()+.1"
   ]
  },
  {
   "cell_type": "code",
   "execution_count": 1,
   "metadata": {},
   "outputs": [],
   "source": [
    "# mymap = folium.Map(location=[y_map, x_map], zoom_start=12,tiles=None)\n",
    "# folium.TileLayer('CartoDB positron',name=\"Light Map\",control=False).add_to(mymap)\n",
    "# mymap"
   ]
  },
  {
   "cell_type": "markdown",
   "metadata": {},
   "source": [
    "## "
   ]
  }
 ],
 "metadata": {
  "kernelspec": {
   "display_name": "Python 3",
   "language": "python",
   "name": "python3"
  },
  "language_info": {
   "codemirror_mode": {
    "name": "ipython",
    "version": 3
   },
   "file_extension": ".py",
   "mimetype": "text/x-python",
   "name": "python",
   "nbconvert_exporter": "python",
   "pygments_lexer": "ipython3",
   "version": "3.8.3"
  }
 },
 "nbformat": 4,
 "nbformat_minor": 4
}