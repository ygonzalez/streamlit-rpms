{
 "cells": [
  {
   "cell_type": "code",
   "execution_count": 1,
   "metadata": {},
   "outputs": [],
   "source": [
    "import pandas as pd"
   ]
  },
  {
   "cell_type": "markdown",
   "metadata": {},
   "source": [
    "## Import Raw Files"
   ]
  },
  {
   "cell_type": "code",
   "execution_count": 2,
   "metadata": {},
   "outputs": [],
   "source": [
    "student_list = pd.read_csv('data/student_list.csv', skiprows=[1])"
   ]
  },
  {
   "cell_type": "code",
   "execution_count": 3,
   "metadata": {},
   "outputs": [],
   "source": [
    "historical = pd.read_csv('data/Historical Demographic Data.csv', header=1)"
   ]
  },
  {
   "cell_type": "code",
   "execution_count": 4,
   "metadata": {},
   "outputs": [],
   "source": [
    "student_program = pd.read_csv('data/Student Query Name and Program.csv')"
   ]
  },
  {
   "cell_type": "code",
   "execution_count": 5,
   "metadata": {},
   "outputs": [
    {
     "data": {
      "text/html": [
       "<div>\n",
       "<style scoped>\n",
       "    .dataframe tbody tr th:only-of-type {\n",
       "        vertical-align: middle;\n",
       "    }\n",
       "\n",
       "    .dataframe tbody tr th {\n",
       "        vertical-align: top;\n",
       "    }\n",
       "\n",
       "    .dataframe thead th {\n",
       "        text-align: right;\n",
       "    }\n",
       "</style>\n",
       "<table border=\"1\" class=\"dataframe\">\n",
       "  <thead>\n",
       "    <tr style=\"text-align: right;\">\n",
       "      <th></th>\n",
       "      <th>name</th>\n",
       "      <th>name_title</th>\n",
       "      <th>ethnicity</th>\n",
       "    </tr>\n",
       "  </thead>\n",
       "  <tbody>\n",
       "    <tr>\n",
       "      <th>0</th>\n",
       "      <td>Omar M. Barakat</td>\n",
       "      <td>NaN</td>\n",
       "      <td>Asian</td>\n",
       "    </tr>\n",
       "    <tr>\n",
       "      <th>1</th>\n",
       "      <td>Lucas Breit</td>\n",
       "      <td>NaN</td>\n",
       "      <td>Asian</td>\n",
       "    </tr>\n",
       "    <tr>\n",
       "      <th>2</th>\n",
       "      <td>Stella Breit</td>\n",
       "      <td>NaN</td>\n",
       "      <td>Asian</td>\n",
       "    </tr>\n",
       "    <tr>\n",
       "      <th>3</th>\n",
       "      <td>Julian Rizk Callahan</td>\n",
       "      <td>NaN</td>\n",
       "      <td>Asian</td>\n",
       "    </tr>\n",
       "    <tr>\n",
       "      <th>4</th>\n",
       "      <td>Magnolia Ciardi</td>\n",
       "      <td>NaN</td>\n",
       "      <td>Asian</td>\n",
       "    </tr>\n",
       "  </tbody>\n",
       "</table>\n",
       "</div>"
      ],
      "text/plain": [
       "                   name  name_title ethnicity\n",
       "0       Omar M. Barakat         NaN     Asian\n",
       "1           Lucas Breit         NaN     Asian\n",
       "2          Stella Breit         NaN     Asian\n",
       "3  Julian Rizk Callahan         NaN     Asian\n",
       "4       Magnolia Ciardi         NaN     Asian"
      ]
     },
     "execution_count": 5,
     "metadata": {},
     "output_type": "execute_result"
    }
   ],
   "source": [
    "student_list.head()"
   ]
  },
  {
   "cell_type": "code",
   "execution_count": 6,
   "metadata": {},
   "outputs": [
    {
     "data": {
      "text/plain": [
       "(338, 3)"
      ]
     },
     "execution_count": 6,
     "metadata": {},
     "output_type": "execute_result"
    }
   ],
   "source": [
    "student_list.shape"
   ]
  },
  {
   "cell_type": "code",
   "execution_count": 7,
   "metadata": {},
   "outputs": [
    {
     "data": {
      "text/html": [
       "<div>\n",
       "<style scoped>\n",
       "    .dataframe tbody tr th:only-of-type {\n",
       "        vertical-align: middle;\n",
       "    }\n",
       "\n",
       "    .dataframe tbody tr th {\n",
       "        vertical-align: top;\n",
       "    }\n",
       "\n",
       "    .dataframe thead th {\n",
       "        text-align: right;\n",
       "    }\n",
       "</style>\n",
       "<table border=\"1\" class=\"dataframe\">\n",
       "  <thead>\n",
       "    <tr style=\"text-align: right;\">\n",
       "      <th></th>\n",
       "      <th>2008-2009</th>\n",
       "      <th>295</th>\n",
       "      <th>236</th>\n",
       "      <th>30</th>\n",
       "      <th>6</th>\n",
       "      <th>23</th>\n",
       "      <th>0</th>\n",
       "      <th>Unnamed: 7</th>\n",
       "      <th>295.1</th>\n",
       "      <th>59</th>\n",
       "      <th>20</th>\n",
       "      <th>4</th>\n",
       "      <th>80</th>\n",
       "      <th>10.17</th>\n",
       "      <th>2.03</th>\n",
       "      <th>7.8</th>\n",
       "      <th>0.1</th>\n",
       "    </tr>\n",
       "  </thead>\n",
       "  <tbody>\n",
       "    <tr>\n",
       "      <th>0</th>\n",
       "      <td>2009-2010</td>\n",
       "      <td>316.0</td>\n",
       "      <td>257.0</td>\n",
       "      <td>30.0</td>\n",
       "      <td>7.0</td>\n",
       "      <td>22.0</td>\n",
       "      <td>0.0</td>\n",
       "      <td>NaN</td>\n",
       "      <td>316.0</td>\n",
       "      <td>59.0</td>\n",
       "      <td>18.67</td>\n",
       "      <td>6.0</td>\n",
       "      <td>81.33</td>\n",
       "      <td>9.49</td>\n",
       "      <td>2.22</td>\n",
       "      <td>6.96</td>\n",
       "      <td>0.0</td>\n",
       "    </tr>\n",
       "    <tr>\n",
       "      <th>1</th>\n",
       "      <td>2010-2011</td>\n",
       "      <td>334.0</td>\n",
       "      <td>266.0</td>\n",
       "      <td>39.0</td>\n",
       "      <td>4.0</td>\n",
       "      <td>25.0</td>\n",
       "      <td>0.0</td>\n",
       "      <td>NaN</td>\n",
       "      <td>334.0</td>\n",
       "      <td>68.0</td>\n",
       "      <td>20.36</td>\n",
       "      <td>6.0</td>\n",
       "      <td>79.64</td>\n",
       "      <td>11.68</td>\n",
       "      <td>1.20</td>\n",
       "      <td>7.49</td>\n",
       "      <td>0.0</td>\n",
       "    </tr>\n",
       "    <tr>\n",
       "      <th>2</th>\n",
       "      <td>2011-2012</td>\n",
       "      <td>350.0</td>\n",
       "      <td>280.0</td>\n",
       "      <td>41.0</td>\n",
       "      <td>7.0</td>\n",
       "      <td>22.0</td>\n",
       "      <td>0.0</td>\n",
       "      <td>NaN</td>\n",
       "      <td>350.0</td>\n",
       "      <td>70.0</td>\n",
       "      <td>20.00</td>\n",
       "      <td>8.0</td>\n",
       "      <td>80.00</td>\n",
       "      <td>11.71</td>\n",
       "      <td>2.00</td>\n",
       "      <td>6.29</td>\n",
       "      <td>0.0</td>\n",
       "    </tr>\n",
       "    <tr>\n",
       "      <th>3</th>\n",
       "      <td>2012-2013</td>\n",
       "      <td>371.0</td>\n",
       "      <td>279.0</td>\n",
       "      <td>55.0</td>\n",
       "      <td>10.0</td>\n",
       "      <td>27.0</td>\n",
       "      <td>0.0</td>\n",
       "      <td>NaN</td>\n",
       "      <td>371.0</td>\n",
       "      <td>92.0</td>\n",
       "      <td>24.80</td>\n",
       "      <td>11.0</td>\n",
       "      <td>75.20</td>\n",
       "      <td>14.82</td>\n",
       "      <td>2.70</td>\n",
       "      <td>7.28</td>\n",
       "      <td>0.0</td>\n",
       "    </tr>\n",
       "    <tr>\n",
       "      <th>4</th>\n",
       "      <td>2013-2014</td>\n",
       "      <td>376.0</td>\n",
       "      <td>285.0</td>\n",
       "      <td>49.0</td>\n",
       "      <td>12.0</td>\n",
       "      <td>30.0</td>\n",
       "      <td>0.0</td>\n",
       "      <td>NaN</td>\n",
       "      <td>376.0</td>\n",
       "      <td>91.0</td>\n",
       "      <td>24.20</td>\n",
       "      <td>11.0</td>\n",
       "      <td>75.80</td>\n",
       "      <td>13.03</td>\n",
       "      <td>3.19</td>\n",
       "      <td>7.98</td>\n",
       "      <td>0.0</td>\n",
       "    </tr>\n",
       "    <tr>\n",
       "      <th>5</th>\n",
       "      <td>2014-2015</td>\n",
       "      <td>383.0</td>\n",
       "      <td>291.0</td>\n",
       "      <td>47.0</td>\n",
       "      <td>13.0</td>\n",
       "      <td>32.0</td>\n",
       "      <td>0.0</td>\n",
       "      <td>NaN</td>\n",
       "      <td>383.0</td>\n",
       "      <td>92.0</td>\n",
       "      <td>24.02</td>\n",
       "      <td>13.0</td>\n",
       "      <td>75.98</td>\n",
       "      <td>12.27</td>\n",
       "      <td>3.39</td>\n",
       "      <td>8.36</td>\n",
       "      <td>0.0</td>\n",
       "    </tr>\n",
       "    <tr>\n",
       "      <th>6</th>\n",
       "      <td>2015-2016</td>\n",
       "      <td>397.0</td>\n",
       "      <td>294.0</td>\n",
       "      <td>55.0</td>\n",
       "      <td>16.0</td>\n",
       "      <td>32.0</td>\n",
       "      <td>0.0</td>\n",
       "      <td>NaN</td>\n",
       "      <td>397.0</td>\n",
       "      <td>103.0</td>\n",
       "      <td>25.94</td>\n",
       "      <td>16.0</td>\n",
       "      <td>74.06</td>\n",
       "      <td>13.85</td>\n",
       "      <td>4.03</td>\n",
       "      <td>8.06</td>\n",
       "      <td>0.0</td>\n",
       "    </tr>\n",
       "    <tr>\n",
       "      <th>7</th>\n",
       "      <td>2016-2017</td>\n",
       "      <td>405.0</td>\n",
       "      <td>293.0</td>\n",
       "      <td>59.0</td>\n",
       "      <td>17.0</td>\n",
       "      <td>36.0</td>\n",
       "      <td>0.0</td>\n",
       "      <td>NaN</td>\n",
       "      <td>405.0</td>\n",
       "      <td>112.0</td>\n",
       "      <td>27.65</td>\n",
       "      <td>17.0</td>\n",
       "      <td>72.35</td>\n",
       "      <td>14.57</td>\n",
       "      <td>4.20</td>\n",
       "      <td>8.89</td>\n",
       "      <td>0.0</td>\n",
       "    </tr>\n",
       "    <tr>\n",
       "      <th>8</th>\n",
       "      <td>2017-2018</td>\n",
       "      <td>410.0</td>\n",
       "      <td>292.0</td>\n",
       "      <td>58.0</td>\n",
       "      <td>20.0</td>\n",
       "      <td>40.0</td>\n",
       "      <td>0.0</td>\n",
       "      <td>NaN</td>\n",
       "      <td>410.0</td>\n",
       "      <td>118.0</td>\n",
       "      <td>28.78</td>\n",
       "      <td>25.0</td>\n",
       "      <td>71.22</td>\n",
       "      <td>14.15</td>\n",
       "      <td>4.88</td>\n",
       "      <td>9.76</td>\n",
       "      <td>0.0</td>\n",
       "    </tr>\n",
       "    <tr>\n",
       "      <th>9</th>\n",
       "      <td>2018-2019</td>\n",
       "      <td>411.0</td>\n",
       "      <td>295.0</td>\n",
       "      <td>55.0</td>\n",
       "      <td>20.0</td>\n",
       "      <td>41.0</td>\n",
       "      <td>0.0</td>\n",
       "      <td>NaN</td>\n",
       "      <td>411.0</td>\n",
       "      <td>116.0</td>\n",
       "      <td>28.22</td>\n",
       "      <td>21.0</td>\n",
       "      <td>71.78</td>\n",
       "      <td>13.38</td>\n",
       "      <td>4.87</td>\n",
       "      <td>9.98</td>\n",
       "      <td>0.0</td>\n",
       "    </tr>\n",
       "    <tr>\n",
       "      <th>10</th>\n",
       "      <td>2019-2020</td>\n",
       "      <td>391.0</td>\n",
       "      <td>272.0</td>\n",
       "      <td>59.0</td>\n",
       "      <td>16.0</td>\n",
       "      <td>44.0</td>\n",
       "      <td>0.0</td>\n",
       "      <td>NaN</td>\n",
       "      <td>391.0</td>\n",
       "      <td>119.0</td>\n",
       "      <td>30.40</td>\n",
       "      <td>17.0</td>\n",
       "      <td>69.57</td>\n",
       "      <td>15.09</td>\n",
       "      <td>4.09</td>\n",
       "      <td>11.25</td>\n",
       "      <td>0.0</td>\n",
       "    </tr>\n",
       "    <tr>\n",
       "      <th>11</th>\n",
       "      <td>2020-2021</td>\n",
       "      <td>333.0</td>\n",
       "      <td>241.0</td>\n",
       "      <td>45.0</td>\n",
       "      <td>10.0</td>\n",
       "      <td>37.0</td>\n",
       "      <td>0.0</td>\n",
       "      <td>NaN</td>\n",
       "      <td>333.0</td>\n",
       "      <td>92.0</td>\n",
       "      <td>27.60</td>\n",
       "      <td>9.0</td>\n",
       "      <td>72.37</td>\n",
       "      <td>13.51</td>\n",
       "      <td>3.00</td>\n",
       "      <td>11.11</td>\n",
       "      <td>0.0</td>\n",
       "    </tr>\n",
       "    <tr>\n",
       "      <th>12</th>\n",
       "      <td>2021-2022</td>\n",
       "      <td>361.0</td>\n",
       "      <td>265.0</td>\n",
       "      <td>40.0</td>\n",
       "      <td>9.0</td>\n",
       "      <td>33.0</td>\n",
       "      <td>10.0</td>\n",
       "      <td>4.0</td>\n",
       "      <td>357.0</td>\n",
       "      <td>92.0</td>\n",
       "      <td>25.77</td>\n",
       "      <td>NaN</td>\n",
       "      <td>74.23</td>\n",
       "      <td>11.20</td>\n",
       "      <td>2.52</td>\n",
       "      <td>9.24</td>\n",
       "      <td>2.8</td>\n",
       "    </tr>\n",
       "    <tr>\n",
       "      <th>13</th>\n",
       "      <td>NaN</td>\n",
       "      <td>NaN</td>\n",
       "      <td>NaN</td>\n",
       "      <td>NaN</td>\n",
       "      <td>NaN</td>\n",
       "      <td>NaN</td>\n",
       "      <td>NaN</td>\n",
       "      <td>NaN</td>\n",
       "      <td>NaN</td>\n",
       "      <td>NaN</td>\n",
       "      <td>-1.83</td>\n",
       "      <td>NaN</td>\n",
       "      <td>1.86</td>\n",
       "      <td>-2.31</td>\n",
       "      <td>-0.48</td>\n",
       "      <td>-1.87</td>\n",
       "      <td>2.8</td>\n",
       "    </tr>\n",
       "    <tr>\n",
       "      <th>14</th>\n",
       "      <td>NaN</td>\n",
       "      <td>NaN</td>\n",
       "      <td>NaN</td>\n",
       "      <td>NaN</td>\n",
       "      <td>NaN</td>\n",
       "      <td>NaN</td>\n",
       "      <td>NaN</td>\n",
       "      <td>NaN</td>\n",
       "      <td>NaN</td>\n",
       "      <td>NaN</td>\n",
       "      <td>NaN</td>\n",
       "      <td>NaN</td>\n",
       "      <td>25.77</td>\n",
       "      <td>NaN</td>\n",
       "      <td>NaN</td>\n",
       "      <td>NaN</td>\n",
       "      <td>NaN</td>\n",
       "    </tr>\n",
       "  </tbody>\n",
       "</table>\n",
       "</div>"
      ],
      "text/plain": [
       "    2008-2009     295    236    30     6    23     0  Unnamed: 7  295.1  \\\n",
       "0   2009-2010   316.0  257.0  30.0   7.0  22.0   0.0         NaN  316.0   \n",
       "1   2010-2011   334.0  266.0  39.0   4.0  25.0   0.0         NaN  334.0   \n",
       "2   2011-2012   350.0  280.0  41.0   7.0  22.0   0.0         NaN  350.0   \n",
       "3   2012-2013   371.0  279.0  55.0  10.0  27.0   0.0         NaN  371.0   \n",
       "4   2013-2014   376.0  285.0  49.0  12.0  30.0   0.0         NaN  376.0   \n",
       "5   2014-2015   383.0  291.0  47.0  13.0  32.0   0.0         NaN  383.0   \n",
       "6   2015-2016   397.0  294.0  55.0  16.0  32.0   0.0         NaN  397.0   \n",
       "7   2016-2017   405.0  293.0  59.0  17.0  36.0   0.0         NaN  405.0   \n",
       "8   2017-2018   410.0  292.0  58.0  20.0  40.0   0.0         NaN  410.0   \n",
       "9   2018-2019   411.0  295.0  55.0  20.0  41.0   0.0         NaN  411.0   \n",
       "10  2019-2020   391.0  272.0  59.0  16.0  44.0   0.0         NaN  391.0   \n",
       "11   2020-2021  333.0  241.0  45.0  10.0  37.0   0.0         NaN  333.0   \n",
       "12   2021-2022  361.0  265.0  40.0   9.0  33.0  10.0         4.0  357.0   \n",
       "13         NaN    NaN    NaN   NaN   NaN   NaN   NaN         NaN    NaN   \n",
       "14         NaN    NaN    NaN   NaN   NaN   NaN   NaN         NaN    NaN   \n",
       "\n",
       "       59     20     4     80  10.17  2.03    7.8  0.1  \n",
       "0    59.0  18.67   6.0  81.33   9.49  2.22   6.96  0.0  \n",
       "1    68.0  20.36   6.0  79.64  11.68  1.20   7.49  0.0  \n",
       "2    70.0  20.00   8.0  80.00  11.71  2.00   6.29  0.0  \n",
       "3    92.0  24.80  11.0  75.20  14.82  2.70   7.28  0.0  \n",
       "4    91.0  24.20  11.0  75.80  13.03  3.19   7.98  0.0  \n",
       "5    92.0  24.02  13.0  75.98  12.27  3.39   8.36  0.0  \n",
       "6   103.0  25.94  16.0  74.06  13.85  4.03   8.06  0.0  \n",
       "7   112.0  27.65  17.0  72.35  14.57  4.20   8.89  0.0  \n",
       "8   118.0  28.78  25.0  71.22  14.15  4.88   9.76  0.0  \n",
       "9   116.0  28.22  21.0  71.78  13.38  4.87   9.98  0.0  \n",
       "10  119.0  30.40  17.0  69.57  15.09  4.09  11.25  0.0  \n",
       "11   92.0  27.60   9.0  72.37  13.51  3.00  11.11  0.0  \n",
       "12   92.0  25.77   NaN  74.23  11.20  2.52   9.24  2.8  \n",
       "13    NaN  -1.83   NaN   1.86  -2.31 -0.48  -1.87  2.8  \n",
       "14    NaN    NaN   NaN  25.77    NaN   NaN    NaN  NaN  "
      ]
     },
     "execution_count": 7,
     "metadata": {},
     "output_type": "execute_result"
    }
   ],
   "source": [
    "historical"
   ]
  },
  {
   "cell_type": "code",
   "execution_count": 8,
   "metadata": {},
   "outputs": [
    {
     "data": {
      "text/html": [
       "<div>\n",
       "<style scoped>\n",
       "    .dataframe tbody tr th:only-of-type {\n",
       "        vertical-align: middle;\n",
       "    }\n",
       "\n",
       "    .dataframe tbody tr th {\n",
       "        vertical-align: top;\n",
       "    }\n",
       "\n",
       "    .dataframe thead th {\n",
       "        text-align: right;\n",
       "    }\n",
       "</style>\n",
       "<table border=\"1\" class=\"dataframe\">\n",
       "  <thead>\n",
       "    <tr style=\"text-align: right;\">\n",
       "      <th></th>\n",
       "      <th>Person ID</th>\n",
       "      <th>Full Name</th>\n",
       "      <th>Current Grade</th>\n",
       "      <th>Ethnicity</th>\n",
       "      <th>Enrollment Status</th>\n",
       "      <th>Roles</th>\n",
       "    </tr>\n",
       "  </thead>\n",
       "  <tbody>\n",
       "    <tr>\n",
       "      <th>0</th>\n",
       "      <td>100314.0</td>\n",
       "      <td>Bechard, Declan</td>\n",
       "      <td>Toddler</td>\n",
       "      <td>Caucasian</td>\n",
       "      <td>EN: Newly Enrolled</td>\n",
       "      <td>Student (T), Prg Stud</td>\n",
       "    </tr>\n",
       "    <tr>\n",
       "      <th>1</th>\n",
       "      <td>100318.0</td>\n",
       "      <td>Carrigan, JonMateo</td>\n",
       "      <td>Toddler</td>\n",
       "      <td>Multi-racial</td>\n",
       "      <td>EN: Newly Enrolled</td>\n",
       "      <td>Student (T), Prg Stud</td>\n",
       "    </tr>\n",
       "    <tr>\n",
       "      <th>2</th>\n",
       "      <td>100319.0</td>\n",
       "      <td>Ciardi, Nelson</td>\n",
       "      <td>Toddler</td>\n",
       "      <td>Asian</td>\n",
       "      <td>EN: Newly Enrolled</td>\n",
       "      <td>Student (T), Prg Stud</td>\n",
       "    </tr>\n",
       "    <tr>\n",
       "      <th>3</th>\n",
       "      <td>100320.0</td>\n",
       "      <td>Elkington, Max</td>\n",
       "      <td>Toddler</td>\n",
       "      <td>Caucasian</td>\n",
       "      <td>EN: Newly Enrolled</td>\n",
       "      <td>Student (T), Prg Stud</td>\n",
       "    </tr>\n",
       "    <tr>\n",
       "      <th>4</th>\n",
       "      <td>100354.0</td>\n",
       "      <td>Gaster, Eve</td>\n",
       "      <td>Toddler</td>\n",
       "      <td>&lt;None Specified&gt;</td>\n",
       "      <td>EN: Newly Enrolled</td>\n",
       "      <td>Student (T)</td>\n",
       "    </tr>\n",
       "  </tbody>\n",
       "</table>\n",
       "</div>"
      ],
      "text/plain": [
       "   Person ID           Full Name Current Grade         Ethnicity  \\\n",
       "0   100314.0     Bechard, Declan       Toddler         Caucasian   \n",
       "1   100318.0  Carrigan, JonMateo       Toddler      Multi-racial   \n",
       "2   100319.0      Ciardi, Nelson       Toddler             Asian   \n",
       "3   100320.0      Elkington, Max       Toddler         Caucasian   \n",
       "4   100354.0         Gaster, Eve       Toddler  <None Specified>   \n",
       "\n",
       "    Enrollment Status                  Roles  \n",
       "0  EN: Newly Enrolled  Student (T), Prg Stud  \n",
       "1  EN: Newly Enrolled  Student (T), Prg Stud  \n",
       "2  EN: Newly Enrolled  Student (T), Prg Stud  \n",
       "3  EN: Newly Enrolled  Student (T), Prg Stud  \n",
       "4  EN: Newly Enrolled            Student (T)  "
      ]
     },
     "execution_count": 8,
     "metadata": {},
     "output_type": "execute_result"
    }
   ],
   "source": [
    "student_program.head()"
   ]
  },
  {
   "cell_type": "code",
   "execution_count": 9,
   "metadata": {},
   "outputs": [
    {
     "data": {
      "text/plain": [
       "(365, 6)"
      ]
     },
     "execution_count": 9,
     "metadata": {},
     "output_type": "execute_result"
    }
   ],
   "source": [
    "student_program.shape"
   ]
  },
  {
   "cell_type": "code",
   "execution_count": 10,
   "metadata": {},
   "outputs": [],
   "source": [
    "names = student_program['Full Name'].str.split(',', expand=True)"
   ]
  },
  {
   "cell_type": "code",
   "execution_count": 11,
   "metadata": {},
   "outputs": [
    {
     "data": {
      "text/html": [
       "<div>\n",
       "<style scoped>\n",
       "    .dataframe tbody tr th:only-of-type {\n",
       "        vertical-align: middle;\n",
       "    }\n",
       "\n",
       "    .dataframe tbody tr th {\n",
       "        vertical-align: top;\n",
       "    }\n",
       "\n",
       "    .dataframe thead th {\n",
       "        text-align: right;\n",
       "    }\n",
       "</style>\n",
       "<table border=\"1\" class=\"dataframe\">\n",
       "  <thead>\n",
       "    <tr style=\"text-align: right;\">\n",
       "      <th></th>\n",
       "      <th>0</th>\n",
       "      <th>1</th>\n",
       "    </tr>\n",
       "  </thead>\n",
       "  <tbody>\n",
       "    <tr>\n",
       "      <th>0</th>\n",
       "      <td>Bechard</td>\n",
       "      <td>Declan</td>\n",
       "    </tr>\n",
       "    <tr>\n",
       "      <th>1</th>\n",
       "      <td>Carrigan</td>\n",
       "      <td>JonMateo</td>\n",
       "    </tr>\n",
       "  </tbody>\n",
       "</table>\n",
       "</div>"
      ],
      "text/plain": [
       "          0          1\n",
       "0   Bechard     Declan\n",
       "1  Carrigan   JonMateo"
      ]
     },
     "execution_count": 11,
     "metadata": {},
     "output_type": "execute_result"
    }
   ],
   "source": [
    "names.head(2)"
   ]
  },
  {
   "cell_type": "code",
   "execution_count": 12,
   "metadata": {},
   "outputs": [],
   "source": [
    "student_program['Last Name'] = names[0]"
   ]
  },
  {
   "cell_type": "code",
   "execution_count": 13,
   "metadata": {},
   "outputs": [],
   "source": [
    "student_program['First Name'] = names[1]"
   ]
  },
  {
   "cell_type": "code",
   "execution_count": 14,
   "metadata": {},
   "outputs": [
    {
     "data": {
      "text/html": [
       "<div>\n",
       "<style scoped>\n",
       "    .dataframe tbody tr th:only-of-type {\n",
       "        vertical-align: middle;\n",
       "    }\n",
       "\n",
       "    .dataframe tbody tr th {\n",
       "        vertical-align: top;\n",
       "    }\n",
       "\n",
       "    .dataframe thead th {\n",
       "        text-align: right;\n",
       "    }\n",
       "</style>\n",
       "<table border=\"1\" class=\"dataframe\">\n",
       "  <thead>\n",
       "    <tr style=\"text-align: right;\">\n",
       "      <th></th>\n",
       "      <th>0</th>\n",
       "      <th>1</th>\n",
       "      <th>2</th>\n",
       "      <th>3</th>\n",
       "    </tr>\n",
       "  </thead>\n",
       "  <tbody>\n",
       "    <tr>\n",
       "      <th>0</th>\n",
       "      <td>Omar</td>\n",
       "      <td>M.</td>\n",
       "      <td>Barakat</td>\n",
       "      <td>None</td>\n",
       "    </tr>\n",
       "    <tr>\n",
       "      <th>1</th>\n",
       "      <td>Lucas</td>\n",
       "      <td>Breit</td>\n",
       "      <td>None</td>\n",
       "      <td>None</td>\n",
       "    </tr>\n",
       "    <tr>\n",
       "      <th>2</th>\n",
       "      <td>Stella</td>\n",
       "      <td>Breit</td>\n",
       "      <td>None</td>\n",
       "      <td>None</td>\n",
       "    </tr>\n",
       "    <tr>\n",
       "      <th>3</th>\n",
       "      <td>Julian</td>\n",
       "      <td>Rizk</td>\n",
       "      <td>Callahan</td>\n",
       "      <td>None</td>\n",
       "    </tr>\n",
       "    <tr>\n",
       "      <th>4</th>\n",
       "      <td>Magnolia</td>\n",
       "      <td>Ciardi</td>\n",
       "      <td>None</td>\n",
       "      <td>None</td>\n",
       "    </tr>\n",
       "    <tr>\n",
       "      <th>...</th>\n",
       "      <td>...</td>\n",
       "      <td>...</td>\n",
       "      <td>...</td>\n",
       "      <td>...</td>\n",
       "    </tr>\n",
       "    <tr>\n",
       "      <th>333</th>\n",
       "      <td>Rebecca</td>\n",
       "      <td>Asher</td>\n",
       "      <td>Wilson</td>\n",
       "      <td>None</td>\n",
       "    </tr>\n",
       "    <tr>\n",
       "      <th>334</th>\n",
       "      <td>Ava</td>\n",
       "      <td>Wise</td>\n",
       "      <td>None</td>\n",
       "      <td>None</td>\n",
       "    </tr>\n",
       "    <tr>\n",
       "      <th>335</th>\n",
       "      <td>Asa</td>\n",
       "      <td>Trussell</td>\n",
       "      <td>Wolfson</td>\n",
       "      <td>None</td>\n",
       "    </tr>\n",
       "    <tr>\n",
       "      <th>336</th>\n",
       "      <td>Alec</td>\n",
       "      <td>Younger</td>\n",
       "      <td>None</td>\n",
       "      <td>None</td>\n",
       "    </tr>\n",
       "    <tr>\n",
       "      <th>337</th>\n",
       "      <td>Annabel</td>\n",
       "      <td>Zolner</td>\n",
       "      <td>None</td>\n",
       "      <td>None</td>\n",
       "    </tr>\n",
       "  </tbody>\n",
       "</table>\n",
       "<p>338 rows × 4 columns</p>\n",
       "</div>"
      ],
      "text/plain": [
       "            0         1         2     3\n",
       "0        Omar        M.   Barakat  None\n",
       "1       Lucas     Breit      None  None\n",
       "2      Stella     Breit      None  None\n",
       "3      Julian      Rizk  Callahan  None\n",
       "4    Magnolia    Ciardi      None  None\n",
       "..        ...       ...       ...   ...\n",
       "333   Rebecca     Asher    Wilson  None\n",
       "334       Ava      Wise      None  None\n",
       "335       Asa  Trussell   Wolfson  None\n",
       "336      Alec   Younger      None  None\n",
       "337   Annabel    Zolner      None  None\n",
       "\n",
       "[338 rows x 4 columns]"
      ]
     },
     "execution_count": 14,
     "metadata": {},
     "output_type": "execute_result"
    }
   ],
   "source": [
    "student_list['name'].str.split(' ', expand=True)"
   ]
  },
  {
   "cell_type": "code",
   "execution_count": 15,
   "metadata": {},
   "outputs": [
    {
     "data": {
      "text/html": [
       "<div>\n",
       "<style scoped>\n",
       "    .dataframe tbody tr th:only-of-type {\n",
       "        vertical-align: middle;\n",
       "    }\n",
       "\n",
       "    .dataframe tbody tr th {\n",
       "        vertical-align: top;\n",
       "    }\n",
       "\n",
       "    .dataframe thead th {\n",
       "        text-align: right;\n",
       "    }\n",
       "</style>\n",
       "<table border=\"1\" class=\"dataframe\">\n",
       "  <thead>\n",
       "    <tr style=\"text-align: right;\">\n",
       "      <th></th>\n",
       "      <th>name</th>\n",
       "      <th>name_title</th>\n",
       "      <th>ethnicity</th>\n",
       "    </tr>\n",
       "  </thead>\n",
       "  <tbody>\n",
       "    <tr>\n",
       "      <th>0</th>\n",
       "      <td>Omar M. Barakat</td>\n",
       "      <td>NaN</td>\n",
       "      <td>Asian</td>\n",
       "    </tr>\n",
       "    <tr>\n",
       "      <th>1</th>\n",
       "      <td>Lucas Breit</td>\n",
       "      <td>NaN</td>\n",
       "      <td>Asian</td>\n",
       "    </tr>\n",
       "    <tr>\n",
       "      <th>2</th>\n",
       "      <td>Stella Breit</td>\n",
       "      <td>NaN</td>\n",
       "      <td>Asian</td>\n",
       "    </tr>\n",
       "  </tbody>\n",
       "</table>\n",
       "</div>"
      ],
      "text/plain": [
       "              name  name_title ethnicity\n",
       "0  Omar M. Barakat         NaN     Asian\n",
       "1      Lucas Breit         NaN     Asian\n",
       "2     Stella Breit         NaN     Asian"
      ]
     },
     "execution_count": 15,
     "metadata": {},
     "output_type": "execute_result"
    }
   ],
   "source": [
    "student_list.head(3)"
   ]
  },
  {
   "cell_type": "code",
   "execution_count": 16,
   "metadata": {},
   "outputs": [
    {
     "data": {
      "text/plain": [
       "0           Omar M. Barakat\n",
       "1               Lucas Breit\n",
       "2              Stella Breit\n",
       "3      Julian Rizk Callahan\n",
       "4           Magnolia Ciardi\n",
       "               ...         \n",
       "333    Rebecca Asher Wilson\n",
       "334                Ava Wise\n",
       "335    Asa Trussell Wolfson\n",
       "336            Alec Younger\n",
       "337          Annabel Zolner\n",
       "Name: name, Length: 338, dtype: object"
      ]
     },
     "execution_count": 16,
     "metadata": {},
     "output_type": "execute_result"
    }
   ],
   "source": [
    "student_list['name']"
   ]
  },
  {
   "cell_type": "code",
   "execution_count": 17,
   "metadata": {},
   "outputs": [],
   "source": [
    "p = r'^(?P<First_Name>.*) \\b\\s*(?P<Middle_Name>.*) (?P<Last_Name>\\S+)' \n",
    "middle = student_list['name'].str.extract(p)"
   ]
  },
  {
   "cell_type": "code",
   "execution_count": 18,
   "metadata": {},
   "outputs": [],
   "source": [
    "middle = middle.dropna()"
   ]
  },
  {
   "cell_type": "code",
   "execution_count": 19,
   "metadata": {},
   "outputs": [],
   "source": [
    "p = r'^(?P<First_Name>.*) (?P<Last_Name>\\S+)' \n",
    "last = student_list['name'].str.extract(p)"
   ]
  },
  {
   "cell_type": "code",
   "execution_count": 20,
   "metadata": {},
   "outputs": [],
   "source": [
    "student_list_combined = pd.merge(student_list, last, how='left',left_index=True, right_index=True)"
   ]
  },
  {
   "cell_type": "code",
   "execution_count": 21,
   "metadata": {},
   "outputs": [],
   "source": [
    "student_list_combined = pd.merge(student_list_combined, middle, how='left',left_index=True, right_index=True)"
   ]
  },
  {
   "cell_type": "code",
   "execution_count": 22,
   "metadata": {},
   "outputs": [
    {
     "data": {
      "text/html": [
       "<div>\n",
       "<style scoped>\n",
       "    .dataframe tbody tr th:only-of-type {\n",
       "        vertical-align: middle;\n",
       "    }\n",
       "\n",
       "    .dataframe tbody tr th {\n",
       "        vertical-align: top;\n",
       "    }\n",
       "\n",
       "    .dataframe thead th {\n",
       "        text-align: right;\n",
       "    }\n",
       "</style>\n",
       "<table border=\"1\" class=\"dataframe\">\n",
       "  <thead>\n",
       "    <tr style=\"text-align: right;\">\n",
       "      <th></th>\n",
       "      <th>name</th>\n",
       "      <th>name_title</th>\n",
       "      <th>ethnicity</th>\n",
       "      <th>First_Name_x</th>\n",
       "      <th>Last_Name_x</th>\n",
       "      <th>First_Name_y</th>\n",
       "      <th>Middle_Name</th>\n",
       "      <th>Last_Name_y</th>\n",
       "    </tr>\n",
       "  </thead>\n",
       "  <tbody>\n",
       "    <tr>\n",
       "      <th>0</th>\n",
       "      <td>Omar M. Barakat</td>\n",
       "      <td>NaN</td>\n",
       "      <td>Asian</td>\n",
       "      <td>Omar M.</td>\n",
       "      <td>Barakat</td>\n",
       "      <td>Omar</td>\n",
       "      <td>M.</td>\n",
       "      <td>Barakat</td>\n",
       "    </tr>\n",
       "    <tr>\n",
       "      <th>1</th>\n",
       "      <td>Lucas Breit</td>\n",
       "      <td>NaN</td>\n",
       "      <td>Asian</td>\n",
       "      <td>Lucas</td>\n",
       "      <td>Breit</td>\n",
       "      <td>NaN</td>\n",
       "      <td>NaN</td>\n",
       "      <td>NaN</td>\n",
       "    </tr>\n",
       "    <tr>\n",
       "      <th>2</th>\n",
       "      <td>Stella Breit</td>\n",
       "      <td>NaN</td>\n",
       "      <td>Asian</td>\n",
       "      <td>Stella</td>\n",
       "      <td>Breit</td>\n",
       "      <td>NaN</td>\n",
       "      <td>NaN</td>\n",
       "      <td>NaN</td>\n",
       "    </tr>\n",
       "    <tr>\n",
       "      <th>3</th>\n",
       "      <td>Julian Rizk Callahan</td>\n",
       "      <td>NaN</td>\n",
       "      <td>Asian</td>\n",
       "      <td>Julian Rizk</td>\n",
       "      <td>Callahan</td>\n",
       "      <td>Julian</td>\n",
       "      <td>Rizk</td>\n",
       "      <td>Callahan</td>\n",
       "    </tr>\n",
       "    <tr>\n",
       "      <th>4</th>\n",
       "      <td>Magnolia Ciardi</td>\n",
       "      <td>NaN</td>\n",
       "      <td>Asian</td>\n",
       "      <td>Magnolia</td>\n",
       "      <td>Ciardi</td>\n",
       "      <td>NaN</td>\n",
       "      <td>NaN</td>\n",
       "      <td>NaN</td>\n",
       "    </tr>\n",
       "  </tbody>\n",
       "</table>\n",
       "</div>"
      ],
      "text/plain": [
       "                   name  name_title ethnicity First_Name_x Last_Name_x  \\\n",
       "0       Omar M. Barakat         NaN     Asian      Omar M.     Barakat   \n",
       "1           Lucas Breit         NaN     Asian        Lucas       Breit   \n",
       "2          Stella Breit         NaN     Asian       Stella       Breit   \n",
       "3  Julian Rizk Callahan         NaN     Asian  Julian Rizk    Callahan   \n",
       "4       Magnolia Ciardi         NaN     Asian     Magnolia      Ciardi   \n",
       "\n",
       "  First_Name_y Middle_Name Last_Name_y  \n",
       "0         Omar          M.     Barakat  \n",
       "1          NaN         NaN         NaN  \n",
       "2          NaN         NaN         NaN  \n",
       "3       Julian        Rizk    Callahan  \n",
       "4          NaN         NaN         NaN  "
      ]
     },
     "execution_count": 22,
     "metadata": {},
     "output_type": "execute_result"
    }
   ],
   "source": [
    "student_list_combined.head()"
   ]
  },
  {
   "cell_type": "code",
   "execution_count": 23,
   "metadata": {},
   "outputs": [],
   "source": [
    "student_list_combined.loc[student_list_combined['First_Name_y'].isnull(), 'First_Name_y'] = student_list_combined['First_Name_x']"
   ]
  },
  {
   "cell_type": "code",
   "execution_count": 24,
   "metadata": {},
   "outputs": [],
   "source": [
    "student_list_combined.loc[student_list_combined['Last_Name_y'].isnull(), 'Last_Name_y'] = student_list_combined['Last_Name_x']"
   ]
  },
  {
   "cell_type": "code",
   "execution_count": 25,
   "metadata": {},
   "outputs": [
    {
     "data": {
      "text/html": [
       "<div>\n",
       "<style scoped>\n",
       "    .dataframe tbody tr th:only-of-type {\n",
       "        vertical-align: middle;\n",
       "    }\n",
       "\n",
       "    .dataframe tbody tr th {\n",
       "        vertical-align: top;\n",
       "    }\n",
       "\n",
       "    .dataframe thead th {\n",
       "        text-align: right;\n",
       "    }\n",
       "</style>\n",
       "<table border=\"1\" class=\"dataframe\">\n",
       "  <thead>\n",
       "    <tr style=\"text-align: right;\">\n",
       "      <th></th>\n",
       "      <th>name</th>\n",
       "      <th>name_title</th>\n",
       "      <th>ethnicity</th>\n",
       "      <th>First_Name_x</th>\n",
       "      <th>Last_Name_x</th>\n",
       "      <th>First_Name_y</th>\n",
       "      <th>Middle_Name</th>\n",
       "      <th>Last_Name_y</th>\n",
       "    </tr>\n",
       "  </thead>\n",
       "  <tbody>\n",
       "    <tr>\n",
       "      <th>0</th>\n",
       "      <td>Omar M. Barakat</td>\n",
       "      <td>NaN</td>\n",
       "      <td>Asian</td>\n",
       "      <td>Omar M.</td>\n",
       "      <td>Barakat</td>\n",
       "      <td>Omar</td>\n",
       "      <td>M.</td>\n",
       "      <td>Barakat</td>\n",
       "    </tr>\n",
       "    <tr>\n",
       "      <th>1</th>\n",
       "      <td>Lucas Breit</td>\n",
       "      <td>NaN</td>\n",
       "      <td>Asian</td>\n",
       "      <td>Lucas</td>\n",
       "      <td>Breit</td>\n",
       "      <td>Lucas</td>\n",
       "      <td>NaN</td>\n",
       "      <td>Breit</td>\n",
       "    </tr>\n",
       "    <tr>\n",
       "      <th>2</th>\n",
       "      <td>Stella Breit</td>\n",
       "      <td>NaN</td>\n",
       "      <td>Asian</td>\n",
       "      <td>Stella</td>\n",
       "      <td>Breit</td>\n",
       "      <td>Stella</td>\n",
       "      <td>NaN</td>\n",
       "      <td>Breit</td>\n",
       "    </tr>\n",
       "    <tr>\n",
       "      <th>3</th>\n",
       "      <td>Julian Rizk Callahan</td>\n",
       "      <td>NaN</td>\n",
       "      <td>Asian</td>\n",
       "      <td>Julian Rizk</td>\n",
       "      <td>Callahan</td>\n",
       "      <td>Julian</td>\n",
       "      <td>Rizk</td>\n",
       "      <td>Callahan</td>\n",
       "    </tr>\n",
       "    <tr>\n",
       "      <th>4</th>\n",
       "      <td>Magnolia Ciardi</td>\n",
       "      <td>NaN</td>\n",
       "      <td>Asian</td>\n",
       "      <td>Magnolia</td>\n",
       "      <td>Ciardi</td>\n",
       "      <td>Magnolia</td>\n",
       "      <td>NaN</td>\n",
       "      <td>Ciardi</td>\n",
       "    </tr>\n",
       "  </tbody>\n",
       "</table>\n",
       "</div>"
      ],
      "text/plain": [
       "                   name  name_title ethnicity First_Name_x Last_Name_x  \\\n",
       "0       Omar M. Barakat         NaN     Asian      Omar M.     Barakat   \n",
       "1           Lucas Breit         NaN     Asian        Lucas       Breit   \n",
       "2          Stella Breit         NaN     Asian       Stella       Breit   \n",
       "3  Julian Rizk Callahan         NaN     Asian  Julian Rizk    Callahan   \n",
       "4       Magnolia Ciardi         NaN     Asian     Magnolia      Ciardi   \n",
       "\n",
       "  First_Name_y Middle_Name Last_Name_y  \n",
       "0         Omar          M.     Barakat  \n",
       "1        Lucas         NaN       Breit  \n",
       "2       Stella         NaN       Breit  \n",
       "3       Julian        Rizk    Callahan  \n",
       "4     Magnolia         NaN      Ciardi  "
      ]
     },
     "execution_count": 25,
     "metadata": {},
     "output_type": "execute_result"
    }
   ],
   "source": [
    "student_list_combined.head()"
   ]
  },
  {
   "cell_type": "code",
   "execution_count": 26,
   "metadata": {},
   "outputs": [],
   "source": [
    "student_list_combined = student_list_combined.drop(columns=['First_Name_x','Last_Name_x'], index=1)"
   ]
  },
  {
   "cell_type": "code",
   "execution_count": 27,
   "metadata": {},
   "outputs": [
    {
     "data": {
      "text/plain": [
       "Index(['name', 'name_title', 'ethnicity', 'First_Name_y', 'Middle_Name',\n",
       "       'Last_Name_y'],\n",
       "      dtype='object')"
      ]
     },
     "execution_count": 27,
     "metadata": {},
     "output_type": "execute_result"
    }
   ],
   "source": [
    "student_list_combined.columns"
   ]
  },
  {
   "cell_type": "code",
   "execution_count": 28,
   "metadata": {},
   "outputs": [],
   "source": [
    "student_list_combined.columns = ['name', 'name_title', 'ethnicity', 'First Name', 'Middle Name',\n",
    "       'Last Name']"
   ]
  },
  {
   "cell_type": "code",
   "execution_count": 29,
   "metadata": {},
   "outputs": [
    {
     "data": {
      "text/plain": [
       "Index(['name', 'name_title', 'ethnicity', 'First Name', 'Middle Name',\n",
       "       'Last Name'],\n",
       "      dtype='object')"
      ]
     },
     "execution_count": 29,
     "metadata": {},
     "output_type": "execute_result"
    }
   ],
   "source": [
    "student_list_combined.columns"
   ]
  },
  {
   "cell_type": "code",
   "execution_count": 30,
   "metadata": {},
   "outputs": [],
   "source": [
    "student_list_combined['First Name'] = student_list_combined['First Name'].str.strip()\n",
    "student_list_combined['Last Name'] = student_list_combined['Last Name'].str.strip()\n",
    "student_program['First Name'] = student_program['First Name'].str.strip()\n",
    "student_program['Last Name'] = student_program['Last Name'].str.strip()"
   ]
  },
  {
   "cell_type": "code",
   "execution_count": 31,
   "metadata": {},
   "outputs": [
    {
     "data": {
      "text/html": [
       "<div>\n",
       "<style scoped>\n",
       "    .dataframe tbody tr th:only-of-type {\n",
       "        vertical-align: middle;\n",
       "    }\n",
       "\n",
       "    .dataframe tbody tr th {\n",
       "        vertical-align: top;\n",
       "    }\n",
       "\n",
       "    .dataframe thead th {\n",
       "        text-align: right;\n",
       "    }\n",
       "</style>\n",
       "<table border=\"1\" class=\"dataframe\">\n",
       "  <thead>\n",
       "    <tr style=\"text-align: right;\">\n",
       "      <th></th>\n",
       "      <th>name</th>\n",
       "      <th>name_title</th>\n",
       "      <th>ethnicity</th>\n",
       "      <th>First Name</th>\n",
       "      <th>Middle Name</th>\n",
       "      <th>Last Name</th>\n",
       "    </tr>\n",
       "  </thead>\n",
       "  <tbody>\n",
       "    <tr>\n",
       "      <th>0</th>\n",
       "      <td>Omar M. Barakat</td>\n",
       "      <td>NaN</td>\n",
       "      <td>Asian</td>\n",
       "      <td>Omar</td>\n",
       "      <td>M.</td>\n",
       "      <td>Barakat</td>\n",
       "    </tr>\n",
       "    <tr>\n",
       "      <th>2</th>\n",
       "      <td>Stella Breit</td>\n",
       "      <td>NaN</td>\n",
       "      <td>Asian</td>\n",
       "      <td>Stella</td>\n",
       "      <td>NaN</td>\n",
       "      <td>Breit</td>\n",
       "    </tr>\n",
       "    <tr>\n",
       "      <th>3</th>\n",
       "      <td>Julian Rizk Callahan</td>\n",
       "      <td>NaN</td>\n",
       "      <td>Asian</td>\n",
       "      <td>Julian</td>\n",
       "      <td>Rizk</td>\n",
       "      <td>Callahan</td>\n",
       "    </tr>\n",
       "    <tr>\n",
       "      <th>4</th>\n",
       "      <td>Magnolia Ciardi</td>\n",
       "      <td>NaN</td>\n",
       "      <td>Asian</td>\n",
       "      <td>Magnolia</td>\n",
       "      <td>NaN</td>\n",
       "      <td>Ciardi</td>\n",
       "    </tr>\n",
       "    <tr>\n",
       "      <th>5</th>\n",
       "      <td>Nelson D Ciardi</td>\n",
       "      <td>NaN</td>\n",
       "      <td>Asian</td>\n",
       "      <td>Nelson</td>\n",
       "      <td>D</td>\n",
       "      <td>Ciardi</td>\n",
       "    </tr>\n",
       "  </tbody>\n",
       "</table>\n",
       "</div>"
      ],
      "text/plain": [
       "                   name  name_title ethnicity First Name Middle Name Last Name\n",
       "0       Omar M. Barakat         NaN     Asian       Omar          M.   Barakat\n",
       "2          Stella Breit         NaN     Asian     Stella         NaN     Breit\n",
       "3  Julian Rizk Callahan         NaN     Asian     Julian        Rizk  Callahan\n",
       "4       Magnolia Ciardi         NaN     Asian   Magnolia         NaN    Ciardi\n",
       "5       Nelson D Ciardi         NaN     Asian     Nelson           D    Ciardi"
      ]
     },
     "execution_count": 31,
     "metadata": {},
     "output_type": "execute_result"
    }
   ],
   "source": [
    "student_list_combined.head()"
   ]
  },
  {
   "cell_type": "code",
   "execution_count": 32,
   "metadata": {},
   "outputs": [
    {
     "data": {
      "text/html": [
       "<div>\n",
       "<style scoped>\n",
       "    .dataframe tbody tr th:only-of-type {\n",
       "        vertical-align: middle;\n",
       "    }\n",
       "\n",
       "    .dataframe tbody tr th {\n",
       "        vertical-align: top;\n",
       "    }\n",
       "\n",
       "    .dataframe thead th {\n",
       "        text-align: right;\n",
       "    }\n",
       "</style>\n",
       "<table border=\"1\" class=\"dataframe\">\n",
       "  <thead>\n",
       "    <tr style=\"text-align: right;\">\n",
       "      <th></th>\n",
       "      <th>Person ID</th>\n",
       "      <th>Full Name</th>\n",
       "      <th>Current Grade</th>\n",
       "      <th>Ethnicity</th>\n",
       "      <th>Enrollment Status</th>\n",
       "      <th>Roles</th>\n",
       "      <th>Last Name</th>\n",
       "      <th>First Name</th>\n",
       "    </tr>\n",
       "  </thead>\n",
       "  <tbody>\n",
       "    <tr>\n",
       "      <th>0</th>\n",
       "      <td>100314.0</td>\n",
       "      <td>Bechard, Declan</td>\n",
       "      <td>Toddler</td>\n",
       "      <td>Caucasian</td>\n",
       "      <td>EN: Newly Enrolled</td>\n",
       "      <td>Student (T), Prg Stud</td>\n",
       "      <td>Bechard</td>\n",
       "      <td>Declan</td>\n",
       "    </tr>\n",
       "    <tr>\n",
       "      <th>1</th>\n",
       "      <td>100318.0</td>\n",
       "      <td>Carrigan, JonMateo</td>\n",
       "      <td>Toddler</td>\n",
       "      <td>Multi-racial</td>\n",
       "      <td>EN: Newly Enrolled</td>\n",
       "      <td>Student (T), Prg Stud</td>\n",
       "      <td>Carrigan</td>\n",
       "      <td>JonMateo</td>\n",
       "    </tr>\n",
       "    <tr>\n",
       "      <th>2</th>\n",
       "      <td>100319.0</td>\n",
       "      <td>Ciardi, Nelson</td>\n",
       "      <td>Toddler</td>\n",
       "      <td>Asian</td>\n",
       "      <td>EN: Newly Enrolled</td>\n",
       "      <td>Student (T), Prg Stud</td>\n",
       "      <td>Ciardi</td>\n",
       "      <td>Nelson</td>\n",
       "    </tr>\n",
       "    <tr>\n",
       "      <th>3</th>\n",
       "      <td>100320.0</td>\n",
       "      <td>Elkington, Max</td>\n",
       "      <td>Toddler</td>\n",
       "      <td>Caucasian</td>\n",
       "      <td>EN: Newly Enrolled</td>\n",
       "      <td>Student (T), Prg Stud</td>\n",
       "      <td>Elkington</td>\n",
       "      <td>Max</td>\n",
       "    </tr>\n",
       "    <tr>\n",
       "      <th>4</th>\n",
       "      <td>100354.0</td>\n",
       "      <td>Gaster, Eve</td>\n",
       "      <td>Toddler</td>\n",
       "      <td>&lt;None Specified&gt;</td>\n",
       "      <td>EN: Newly Enrolled</td>\n",
       "      <td>Student (T)</td>\n",
       "      <td>Gaster</td>\n",
       "      <td>Eve</td>\n",
       "    </tr>\n",
       "  </tbody>\n",
       "</table>\n",
       "</div>"
      ],
      "text/plain": [
       "   Person ID           Full Name Current Grade         Ethnicity  \\\n",
       "0   100314.0     Bechard, Declan       Toddler         Caucasian   \n",
       "1   100318.0  Carrigan, JonMateo       Toddler      Multi-racial   \n",
       "2   100319.0      Ciardi, Nelson       Toddler             Asian   \n",
       "3   100320.0      Elkington, Max       Toddler         Caucasian   \n",
       "4   100354.0         Gaster, Eve       Toddler  <None Specified>   \n",
       "\n",
       "    Enrollment Status                  Roles  Last Name First Name  \n",
       "0  EN: Newly Enrolled  Student (T), Prg Stud    Bechard     Declan  \n",
       "1  EN: Newly Enrolled  Student (T), Prg Stud   Carrigan   JonMateo  \n",
       "2  EN: Newly Enrolled  Student (T), Prg Stud     Ciardi     Nelson  \n",
       "3  EN: Newly Enrolled  Student (T), Prg Stud  Elkington        Max  \n",
       "4  EN: Newly Enrolled            Student (T)     Gaster        Eve  "
      ]
     },
     "execution_count": 32,
     "metadata": {},
     "output_type": "execute_result"
    }
   ],
   "source": [
    "student_program.head()"
   ]
  },
  {
   "cell_type": "code",
   "execution_count": 112,
   "metadata": {},
   "outputs": [],
   "source": [
    "combined_student_list = pd.merge(student_program, student_list_combined, how='left',\n",
    "                                 on =['First Name','Last Name'])"
   ]
  },
  {
   "cell_type": "code",
   "execution_count": 113,
   "metadata": {},
   "outputs": [
    {
     "data": {
      "text/plain": [
       "(365, 12)"
      ]
     },
     "execution_count": 113,
     "metadata": {},
     "output_type": "execute_result"
    }
   ],
   "source": [
    "combined_student_list.shape"
   ]
  },
  {
   "cell_type": "code",
   "execution_count": 114,
   "metadata": {},
   "outputs": [
    {
     "data": {
      "text/html": [
       "<div>\n",
       "<style scoped>\n",
       "    .dataframe tbody tr th:only-of-type {\n",
       "        vertical-align: middle;\n",
       "    }\n",
       "\n",
       "    .dataframe tbody tr th {\n",
       "        vertical-align: top;\n",
       "    }\n",
       "\n",
       "    .dataframe thead th {\n",
       "        text-align: right;\n",
       "    }\n",
       "</style>\n",
       "<table border=\"1\" class=\"dataframe\">\n",
       "  <thead>\n",
       "    <tr style=\"text-align: right;\">\n",
       "      <th></th>\n",
       "      <th>Person ID</th>\n",
       "      <th>Full Name</th>\n",
       "      <th>Current Grade</th>\n",
       "      <th>Ethnicity</th>\n",
       "      <th>Enrollment Status</th>\n",
       "      <th>Roles</th>\n",
       "      <th>Last Name</th>\n",
       "      <th>First Name</th>\n",
       "      <th>name</th>\n",
       "      <th>name_title</th>\n",
       "      <th>ethnicity</th>\n",
       "      <th>Middle Name</th>\n",
       "    </tr>\n",
       "  </thead>\n",
       "  <tbody>\n",
       "    <tr>\n",
       "      <th>0</th>\n",
       "      <td>100314.0</td>\n",
       "      <td>Bechard, Declan</td>\n",
       "      <td>Toddler</td>\n",
       "      <td>Caucasian</td>\n",
       "      <td>EN: Newly Enrolled</td>\n",
       "      <td>Student (T), Prg Stud</td>\n",
       "      <td>Bechard</td>\n",
       "      <td>Declan</td>\n",
       "      <td>Declan Bechard</td>\n",
       "      <td>NaN</td>\n",
       "      <td>White</td>\n",
       "      <td>NaN</td>\n",
       "    </tr>\n",
       "    <tr>\n",
       "      <th>1</th>\n",
       "      <td>100318.0</td>\n",
       "      <td>Carrigan, JonMateo</td>\n",
       "      <td>Toddler</td>\n",
       "      <td>Multi-racial</td>\n",
       "      <td>EN: Newly Enrolled</td>\n",
       "      <td>Student (T), Prg Stud</td>\n",
       "      <td>Carrigan</td>\n",
       "      <td>JonMateo</td>\n",
       "      <td>NaN</td>\n",
       "      <td>NaN</td>\n",
       "      <td>NaN</td>\n",
       "      <td>NaN</td>\n",
       "    </tr>\n",
       "    <tr>\n",
       "      <th>2</th>\n",
       "      <td>100319.0</td>\n",
       "      <td>Ciardi, Nelson</td>\n",
       "      <td>Toddler</td>\n",
       "      <td>Asian</td>\n",
       "      <td>EN: Newly Enrolled</td>\n",
       "      <td>Student (T), Prg Stud</td>\n",
       "      <td>Ciardi</td>\n",
       "      <td>Nelson</td>\n",
       "      <td>Nelson D Ciardi</td>\n",
       "      <td>NaN</td>\n",
       "      <td>Asian</td>\n",
       "      <td>D</td>\n",
       "    </tr>\n",
       "    <tr>\n",
       "      <th>3</th>\n",
       "      <td>100320.0</td>\n",
       "      <td>Elkington, Max</td>\n",
       "      <td>Toddler</td>\n",
       "      <td>Caucasian</td>\n",
       "      <td>EN: Newly Enrolled</td>\n",
       "      <td>Student (T), Prg Stud</td>\n",
       "      <td>Elkington</td>\n",
       "      <td>Max</td>\n",
       "      <td>Max Elkington</td>\n",
       "      <td>NaN</td>\n",
       "      <td>White</td>\n",
       "      <td>NaN</td>\n",
       "    </tr>\n",
       "    <tr>\n",
       "      <th>4</th>\n",
       "      <td>100354.0</td>\n",
       "      <td>Gaster, Eve</td>\n",
       "      <td>Toddler</td>\n",
       "      <td>&lt;None Specified&gt;</td>\n",
       "      <td>EN: Newly Enrolled</td>\n",
       "      <td>Student (T)</td>\n",
       "      <td>Gaster</td>\n",
       "      <td>Eve</td>\n",
       "      <td>Eve Gaster</td>\n",
       "      <td>NaN</td>\n",
       "      <td>Prefer Not To Answer</td>\n",
       "      <td>NaN</td>\n",
       "    </tr>\n",
       "  </tbody>\n",
       "</table>\n",
       "</div>"
      ],
      "text/plain": [
       "   Person ID           Full Name Current Grade         Ethnicity  \\\n",
       "0   100314.0     Bechard, Declan       Toddler         Caucasian   \n",
       "1   100318.0  Carrigan, JonMateo       Toddler      Multi-racial   \n",
       "2   100319.0      Ciardi, Nelson       Toddler             Asian   \n",
       "3   100320.0      Elkington, Max       Toddler         Caucasian   \n",
       "4   100354.0         Gaster, Eve       Toddler  <None Specified>   \n",
       "\n",
       "    Enrollment Status                  Roles  Last Name First Name  \\\n",
       "0  EN: Newly Enrolled  Student (T), Prg Stud    Bechard     Declan   \n",
       "1  EN: Newly Enrolled  Student (T), Prg Stud   Carrigan   JonMateo   \n",
       "2  EN: Newly Enrolled  Student (T), Prg Stud     Ciardi     Nelson   \n",
       "3  EN: Newly Enrolled  Student (T), Prg Stud  Elkington        Max   \n",
       "4  EN: Newly Enrolled            Student (T)     Gaster        Eve   \n",
       "\n",
       "              name  name_title             ethnicity Middle Name  \n",
       "0   Declan Bechard         NaN                 White         NaN  \n",
       "1              NaN         NaN                   NaN         NaN  \n",
       "2  Nelson D Ciardi         NaN                 Asian           D  \n",
       "3    Max Elkington         NaN                 White         NaN  \n",
       "4       Eve Gaster         NaN  Prefer Not To Answer         NaN  "
      ]
     },
     "execution_count": 114,
     "metadata": {},
     "output_type": "execute_result"
    }
   ],
   "source": [
    "combined_student_list.head()"
   ]
  },
  {
   "cell_type": "code",
   "execution_count": 115,
   "metadata": {},
   "outputs": [],
   "source": [
    "combined_student_list = combined_student_list.dropna(how='all')"
   ]
  },
  {
   "cell_type": "code",
   "execution_count": 116,
   "metadata": {},
   "outputs": [],
   "source": [
    "# combined_student_list[combined_student_list['ethnicity'].isnull()]"
   ]
  },
  {
   "cell_type": "code",
   "execution_count": 117,
   "metadata": {},
   "outputs": [
    {
     "data": {
      "text/plain": [
       "Index(['Person ID', 'Full Name', 'Current Grade', 'Ethnicity',\n",
       "       'Enrollment Status', 'Roles', 'Last Name', 'First Name', 'name',\n",
       "       'name_title', 'ethnicity', 'Middle Name'],\n",
       "      dtype='object')"
      ]
     },
     "execution_count": 117,
     "metadata": {},
     "output_type": "execute_result"
    }
   ],
   "source": [
    "combined_student_list.columns"
   ]
  },
  {
   "cell_type": "code",
   "execution_count": 118,
   "metadata": {},
   "outputs": [],
   "source": [
    "final_student_list = combined_student_list[['First Name', 'Last Name', 'ethnicity', 'Current Grade']]"
   ]
  },
  {
   "cell_type": "code",
   "execution_count": 119,
   "metadata": {},
   "outputs": [
    {
     "data": {
      "text/plain": [
       "(361, 4)"
      ]
     },
     "execution_count": 119,
     "metadata": {},
     "output_type": "execute_result"
    }
   ],
   "source": [
    "final_student_list.shape"
   ]
  },
  {
   "cell_type": "code",
   "execution_count": 120,
   "metadata": {},
   "outputs": [],
   "source": [
    "final_student_list.to_csv('data/final_student_list.csv', index=False)"
   ]
  },
  {
   "cell_type": "code",
   "execution_count": 121,
   "metadata": {},
   "outputs": [
    {
     "data": {
      "text/plain": [
       "(323, 4)"
      ]
     },
     "execution_count": 121,
     "metadata": {},
     "output_type": "execute_result"
    }
   ],
   "source": [
    "final_student_list[~final_student_list['ethnicity'].isnull()].shape"
   ]
  },
  {
   "cell_type": "code",
   "execution_count": 122,
   "metadata": {},
   "outputs": [
    {
     "data": {
      "text/plain": [
       "White                        246\n",
       "Asian                         34\n",
       "Hispanic or Latino            30\n",
       "Black or African American      9\n",
       "Prefer Not To Answer           4\n",
       "Name: ethnicity, dtype: int64"
      ]
     },
     "execution_count": 122,
     "metadata": {},
     "output_type": "execute_result"
    }
   ],
   "source": [
    "final_student_list['ethnicity'].value_counts()"
   ]
  },
  {
   "cell_type": "code",
   "execution_count": 125,
   "metadata": {},
   "outputs": [],
   "source": [
    "final_student_list[final_student_list['ethnicity'].isnull()].to_csv('student_missing_demo.csv', index=False)"
   ]
  },
  {
   "cell_type": "markdown",
   "metadata": {},
   "source": [
    "## Map"
   ]
  },
  {
   "cell_type": "code",
   "execution_count": 8,
   "metadata": {},
   "outputs": [],
   "source": [
    "import geopandas as gpd\n",
    "import matplotlib.pyplot as plt\n",
    "import pyproj\n",
    "import plotly.graph_objs as go"
   ]
  },
  {
   "cell_type": "code",
   "execution_count": 9,
   "metadata": {},
   "outputs": [],
   "source": [
    "chi_zips = gpd.read_file(r\"Boundaries - ZIP Codes/geo_export_a9707f61-f834-4e7b-b8a5-0f0ff4c8412d.shp\")\n"
   ]
  },
  {
   "cell_type": "code",
   "execution_count": 10,
   "metadata": {},
   "outputs": [],
   "source": [
    "map_df = chi_zips \n",
    "map_df.to_crs(pyproj.CRS.from_epsg(4326), inplace=True)"
   ]
  },
  {
   "cell_type": "code",
   "execution_count": 12,
   "metadata": {},
   "outputs": [
    {
     "data": {
      "text/html": [
       "<div>\n",
       "<style scoped>\n",
       "    .dataframe tbody tr th:only-of-type {\n",
       "        vertical-align: middle;\n",
       "    }\n",
       "\n",
       "    .dataframe tbody tr th {\n",
       "        vertical-align: top;\n",
       "    }\n",
       "\n",
       "    .dataframe thead th {\n",
       "        text-align: right;\n",
       "    }\n",
       "</style>\n",
       "<table border=\"1\" class=\"dataframe\">\n",
       "  <thead>\n",
       "    <tr style=\"text-align: right;\">\n",
       "      <th></th>\n",
       "      <th>objectid</th>\n",
       "      <th>shape_area</th>\n",
       "      <th>shape_len</th>\n",
       "      <th>zip</th>\n",
       "      <th>geometry</th>\n",
       "    </tr>\n",
       "  </thead>\n",
       "  <tbody>\n",
       "    <tr>\n",
       "      <th>0</th>\n",
       "      <td>33.0</td>\n",
       "      <td>1.060523e+08</td>\n",
       "      <td>42720.044406</td>\n",
       "      <td>60647</td>\n",
       "      <td>POLYGON ((-87.67762 41.91776, -87.67761 41.917...</td>\n",
       "    </tr>\n",
       "    <tr>\n",
       "      <th>1</th>\n",
       "      <td>34.0</td>\n",
       "      <td>1.274761e+08</td>\n",
       "      <td>48103.782721</td>\n",
       "      <td>60639</td>\n",
       "      <td>POLYGON ((-87.72683 41.92265, -87.72693 41.922...</td>\n",
       "    </tr>\n",
       "    <tr>\n",
       "      <th>2</th>\n",
       "      <td>35.0</td>\n",
       "      <td>4.506904e+07</td>\n",
       "      <td>27288.609612</td>\n",
       "      <td>60707</td>\n",
       "      <td>POLYGON ((-87.78500 41.90915, -87.78531 41.909...</td>\n",
       "    </tr>\n",
       "    <tr>\n",
       "      <th>3</th>\n",
       "      <td>36.0</td>\n",
       "      <td>7.085383e+07</td>\n",
       "      <td>42527.989679</td>\n",
       "      <td>60622</td>\n",
       "      <td>POLYGON ((-87.66707 41.88885, -87.66707 41.888...</td>\n",
       "    </tr>\n",
       "    <tr>\n",
       "      <th>4</th>\n",
       "      <td>37.0</td>\n",
       "      <td>9.903962e+07</td>\n",
       "      <td>47970.140153</td>\n",
       "      <td>60651</td>\n",
       "      <td>POLYGON ((-87.70656 41.89555, -87.70672 41.895...</td>\n",
       "    </tr>\n",
       "  </tbody>\n",
       "</table>\n",
       "</div>"
      ],
      "text/plain": [
       "   objectid    shape_area     shape_len    zip  \\\n",
       "0      33.0  1.060523e+08  42720.044406  60647   \n",
       "1      34.0  1.274761e+08  48103.782721  60639   \n",
       "2      35.0  4.506904e+07  27288.609612  60707   \n",
       "3      36.0  7.085383e+07  42527.989679  60622   \n",
       "4      37.0  9.903962e+07  47970.140153  60651   \n",
       "\n",
       "                                            geometry  \n",
       "0  POLYGON ((-87.67762 41.91776, -87.67761 41.917...  \n",
       "1  POLYGON ((-87.72683 41.92265, -87.72693 41.922...  \n",
       "2  POLYGON ((-87.78500 41.90915, -87.78531 41.909...  \n",
       "3  POLYGON ((-87.66707 41.88885, -87.66707 41.888...  \n",
       "4  POLYGON ((-87.70656 41.89555, -87.70672 41.895...  "
      ]
     },
     "execution_count": 12,
     "metadata": {},
     "output_type": "execute_result"
    }
   ],
   "source": [
    "map_df.head()"
   ]
  },
  {
   "cell_type": "code",
   "execution_count": 15,
   "metadata": {},
   "outputs": [],
   "source": [
    "import folium\n",
    "import branca.colormap as cm"
   ]
  },
  {
   "cell_type": "code",
   "execution_count": 36,
   "metadata": {},
   "outputs": [
    {
     "name": "stderr",
     "output_type": "stream",
     "text": [
      "<ipython-input-36-94f388c2eff9>:1: UserWarning: Geometry is in a geographic CRS. Results from 'centroid' are likely incorrect. Use 'GeoSeries.to_crs()' to re-project geometries to a projected CRS before this operation.\n",
      "\n",
      "  x_map=map_df.centroid.x.mean()\n",
      "<ipython-input-36-94f388c2eff9>:2: UserWarning: Geometry is in a geographic CRS. Results from 'centroid' are likely incorrect. Use 'GeoSeries.to_crs()' to re-project geometries to a projected CRS before this operation.\n",
      "\n",
      "  y_map=map_df.centroid.y.mean()+.1\n"
     ]
    }
   ],
   "source": [
    "x_map=map_df.centroid.x.mean()\n",
    "y_map=map_df.centroid.y.mean()+.1"
   ]
  },
  {
   "cell_type": "code",
   "execution_count": 1,
   "metadata": {},
   "outputs": [],
   "source": [
    "# mymap = folium.Map(location=[y_map, x_map], zoom_start=12,tiles=None)\n",
    "# folium.TileLayer('CartoDB positron',name=\"Light Map\",control=False).add_to(mymap)\n",
    "# mymap"
   ]
  },
  {
   "cell_type": "code",
   "execution_count": 4,
   "metadata": {},
   "outputs": [],
   "source": [
    "final_student_list = pd.read_csv('data/final_student_list.csv')"
   ]
  },
  {
   "cell_type": "code",
   "execution_count": 5,
   "metadata": {},
   "outputs": [
    {
     "data": {
      "text/plain": [
       "(361, 4)"
      ]
     },
     "execution_count": 5,
     "metadata": {},
     "output_type": "execute_result"
    }
   ],
   "source": [
    "final_student_list.shape"
   ]
  },
  {
   "cell_type": "code",
   "execution_count": 6,
   "metadata": {},
   "outputs": [
    {
     "data": {
      "text/html": [
       "<div>\n",
       "<style scoped>\n",
       "    .dataframe tbody tr th:only-of-type {\n",
       "        vertical-align: middle;\n",
       "    }\n",
       "\n",
       "    .dataframe tbody tr th {\n",
       "        vertical-align: top;\n",
       "    }\n",
       "\n",
       "    .dataframe thead th {\n",
       "        text-align: right;\n",
       "    }\n",
       "</style>\n",
       "<table border=\"1\" class=\"dataframe\">\n",
       "  <thead>\n",
       "    <tr style=\"text-align: right;\">\n",
       "      <th></th>\n",
       "      <th>First Name</th>\n",
       "      <th>Last Name</th>\n",
       "      <th>ethnicity</th>\n",
       "      <th>Current Grade</th>\n",
       "    </tr>\n",
       "  </thead>\n",
       "  <tbody>\n",
       "    <tr>\n",
       "      <th>0</th>\n",
       "      <td>Declan</td>\n",
       "      <td>Bechard</td>\n",
       "      <td>White</td>\n",
       "      <td>Toddler</td>\n",
       "    </tr>\n",
       "    <tr>\n",
       "      <th>1</th>\n",
       "      <td>JonMateo</td>\n",
       "      <td>Carrigan</td>\n",
       "      <td>Multi-racial</td>\n",
       "      <td>Toddler</td>\n",
       "    </tr>\n",
       "    <tr>\n",
       "      <th>2</th>\n",
       "      <td>Nelson</td>\n",
       "      <td>Ciardi</td>\n",
       "      <td>Asian</td>\n",
       "      <td>Toddler</td>\n",
       "    </tr>\n",
       "    <tr>\n",
       "      <th>3</th>\n",
       "      <td>Max</td>\n",
       "      <td>Elkington</td>\n",
       "      <td>White</td>\n",
       "      <td>Toddler</td>\n",
       "    </tr>\n",
       "    <tr>\n",
       "      <th>4</th>\n",
       "      <td>Eve</td>\n",
       "      <td>Gaster</td>\n",
       "      <td>Prefer Not To Answer</td>\n",
       "      <td>Toddler</td>\n",
       "    </tr>\n",
       "  </tbody>\n",
       "</table>\n",
       "</div>"
      ],
      "text/plain": [
       "  First Name  Last Name             ethnicity Current Grade\n",
       "0     Declan    Bechard                 White       Toddler\n",
       "1   JonMateo   Carrigan          Multi-racial       Toddler\n",
       "2     Nelson     Ciardi                 Asian       Toddler\n",
       "3        Max  Elkington                 White       Toddler\n",
       "4        Eve     Gaster  Prefer Not To Answer       Toddler"
      ]
     },
     "execution_count": 6,
     "metadata": {},
     "output_type": "execute_result"
    }
   ],
   "source": [
    "final_student_list.head()"
   ]
  },
  {
   "cell_type": "code",
   "execution_count": 7,
   "metadata": {},
   "outputs": [
    {
     "data": {
      "text/plain": [
       "White                        265\n",
       "Asian                         40\n",
       "Hispanic or Latino            33\n",
       "Multi-racial                  10\n",
       "Black or African American      9\n",
       "Prefer Not To Answer           4\n",
       "Name: ethnicity, dtype: int64"
      ]
     },
     "execution_count": 7,
     "metadata": {},
     "output_type": "execute_result"
    }
   ],
   "source": [
    "final_student_list.ethnicity.value_counts()"
   ]
  },
  {
   "cell_type": "markdown",
   "metadata": {},
   "source": [
    "## Student Zip Counts"
   ]
  },
  {
   "cell_type": "code",
   "execution_count": 33,
   "metadata": {},
   "outputs": [
    {
     "data": {
      "text/html": [
       "<div>\n",
       "<style scoped>\n",
       "    .dataframe tbody tr th:only-of-type {\n",
       "        vertical-align: middle;\n",
       "    }\n",
       "\n",
       "    .dataframe tbody tr th {\n",
       "        vertical-align: top;\n",
       "    }\n",
       "\n",
       "    .dataframe thead th {\n",
       "        text-align: right;\n",
       "    }\n",
       "</style>\n",
       "<table border=\"1\" class=\"dataframe\">\n",
       "  <thead>\n",
       "    <tr style=\"text-align: right;\">\n",
       "      <th></th>\n",
       "      <th>Person ID</th>\n",
       "      <th>Full Name</th>\n",
       "      <th>Current Grade</th>\n",
       "      <th>Ethnicity</th>\n",
       "      <th>Enrollment Status</th>\n",
       "      <th>Roles</th>\n",
       "      <th>Last Name</th>\n",
       "      <th>First Name</th>\n",
       "    </tr>\n",
       "  </thead>\n",
       "  <tbody>\n",
       "    <tr>\n",
       "      <th>0</th>\n",
       "      <td>100314.0</td>\n",
       "      <td>Bechard, Declan</td>\n",
       "      <td>Toddler</td>\n",
       "      <td>Caucasian</td>\n",
       "      <td>EN: Newly Enrolled</td>\n",
       "      <td>Student (T), Prg Stud</td>\n",
       "      <td>Bechard</td>\n",
       "      <td>Declan</td>\n",
       "    </tr>\n",
       "    <tr>\n",
       "      <th>1</th>\n",
       "      <td>100318.0</td>\n",
       "      <td>Carrigan, JonMateo</td>\n",
       "      <td>Toddler</td>\n",
       "      <td>Multi-racial</td>\n",
       "      <td>EN: Newly Enrolled</td>\n",
       "      <td>Student (T), Prg Stud</td>\n",
       "      <td>Carrigan</td>\n",
       "      <td>JonMateo</td>\n",
       "    </tr>\n",
       "    <tr>\n",
       "      <th>2</th>\n",
       "      <td>100319.0</td>\n",
       "      <td>Ciardi, Nelson</td>\n",
       "      <td>Toddler</td>\n",
       "      <td>Asian</td>\n",
       "      <td>EN: Newly Enrolled</td>\n",
       "      <td>Student (T), Prg Stud</td>\n",
       "      <td>Ciardi</td>\n",
       "      <td>Nelson</td>\n",
       "    </tr>\n",
       "    <tr>\n",
       "      <th>3</th>\n",
       "      <td>100320.0</td>\n",
       "      <td>Elkington, Max</td>\n",
       "      <td>Toddler</td>\n",
       "      <td>Caucasian</td>\n",
       "      <td>EN: Newly Enrolled</td>\n",
       "      <td>Student (T), Prg Stud</td>\n",
       "      <td>Elkington</td>\n",
       "      <td>Max</td>\n",
       "    </tr>\n",
       "    <tr>\n",
       "      <th>4</th>\n",
       "      <td>100354.0</td>\n",
       "      <td>Gaster, Eve</td>\n",
       "      <td>Toddler</td>\n",
       "      <td>&lt;None Specified&gt;</td>\n",
       "      <td>EN: Newly Enrolled</td>\n",
       "      <td>Student (T)</td>\n",
       "      <td>Gaster</td>\n",
       "      <td>Eve</td>\n",
       "    </tr>\n",
       "  </tbody>\n",
       "</table>\n",
       "</div>"
      ],
      "text/plain": [
       "   Person ID           Full Name Current Grade         Ethnicity  \\\n",
       "0   100314.0     Bechard, Declan       Toddler         Caucasian   \n",
       "1   100318.0  Carrigan, JonMateo       Toddler      Multi-racial   \n",
       "2   100319.0      Ciardi, Nelson       Toddler             Asian   \n",
       "3   100320.0      Elkington, Max       Toddler         Caucasian   \n",
       "4   100354.0         Gaster, Eve       Toddler  <None Specified>   \n",
       "\n",
       "    Enrollment Status                  Roles  Last Name First Name  \n",
       "0  EN: Newly Enrolled  Student (T), Prg Stud    Bechard     Declan  \n",
       "1  EN: Newly Enrolled  Student (T), Prg Stud   Carrigan   JonMateo  \n",
       "2  EN: Newly Enrolled  Student (T), Prg Stud     Ciardi     Nelson  \n",
       "3  EN: Newly Enrolled  Student (T), Prg Stud  Elkington        Max  \n",
       "4  EN: Newly Enrolled            Student (T)     Gaster        Eve  "
      ]
     },
     "execution_count": 33,
     "metadata": {},
     "output_type": "execute_result"
    }
   ],
   "source": [
    "student_program.head()"
   ]
  },
  {
   "cell_type": "code",
   "execution_count": 41,
   "metadata": {},
   "outputs": [],
   "source": [
    "student_program_zip = pd.read_csv('data/student_program_zip.csv')"
   ]
  },
  {
   "cell_type": "code",
   "execution_count": 42,
   "metadata": {},
   "outputs": [],
   "source": [
    "student_program_zip['Zip Code'] = student_program_zip['Zip Code'].astype(pd.Int64Dtype())"
   ]
  },
  {
   "cell_type": "code",
   "execution_count": 43,
   "metadata": {},
   "outputs": [
    {
     "data": {
      "text/html": [
       "<div>\n",
       "<style scoped>\n",
       "    .dataframe tbody tr th:only-of-type {\n",
       "        vertical-align: middle;\n",
       "    }\n",
       "\n",
       "    .dataframe tbody tr th {\n",
       "        vertical-align: top;\n",
       "    }\n",
       "\n",
       "    .dataframe thead th {\n",
       "        text-align: right;\n",
       "    }\n",
       "</style>\n",
       "<table border=\"1\" class=\"dataframe\">\n",
       "  <thead>\n",
       "    <tr style=\"text-align: right;\">\n",
       "      <th></th>\n",
       "      <th>Person ID</th>\n",
       "      <th>Full Name</th>\n",
       "      <th>Current Grade</th>\n",
       "      <th>Zip Code</th>\n",
       "      <th>Ethnicity</th>\n",
       "      <th>Enrollment Status</th>\n",
       "      <th>Roles</th>\n",
       "    </tr>\n",
       "  </thead>\n",
       "  <tbody>\n",
       "    <tr>\n",
       "      <th>0</th>\n",
       "      <td>100314.0</td>\n",
       "      <td>Bechard, Declan</td>\n",
       "      <td>Toddler</td>\n",
       "      <td>60640</td>\n",
       "      <td>Caucasian</td>\n",
       "      <td>EN: Newly Enrolled</td>\n",
       "      <td>Student (T), Prg Stud</td>\n",
       "    </tr>\n",
       "    <tr>\n",
       "      <th>1</th>\n",
       "      <td>100318.0</td>\n",
       "      <td>Carrigan, JonMateo</td>\n",
       "      <td>Toddler</td>\n",
       "      <td>60660</td>\n",
       "      <td>Multi-racial</td>\n",
       "      <td>EN: Newly Enrolled</td>\n",
       "      <td>Student (T), Prg Stud</td>\n",
       "    </tr>\n",
       "    <tr>\n",
       "      <th>2</th>\n",
       "      <td>100319.0</td>\n",
       "      <td>Ciardi, Nelson</td>\n",
       "      <td>Toddler</td>\n",
       "      <td>60625</td>\n",
       "      <td>Asian</td>\n",
       "      <td>EN: Newly Enrolled</td>\n",
       "      <td>Student (T), Prg Stud</td>\n",
       "    </tr>\n",
       "    <tr>\n",
       "      <th>3</th>\n",
       "      <td>100320.0</td>\n",
       "      <td>Elkington, Max</td>\n",
       "      <td>Toddler</td>\n",
       "      <td>60640</td>\n",
       "      <td>Caucasian</td>\n",
       "      <td>EN: Newly Enrolled</td>\n",
       "      <td>Student (T), Prg Stud</td>\n",
       "    </tr>\n",
       "    <tr>\n",
       "      <th>4</th>\n",
       "      <td>100354.0</td>\n",
       "      <td>Gaster, Eve</td>\n",
       "      <td>Toddler</td>\n",
       "      <td>60626</td>\n",
       "      <td>&lt;None Specified&gt;</td>\n",
       "      <td>EN: Newly Enrolled</td>\n",
       "      <td>Student (T)</td>\n",
       "    </tr>\n",
       "  </tbody>\n",
       "</table>\n",
       "</div>"
      ],
      "text/plain": [
       "   Person ID           Full Name Current Grade  Zip Code         Ethnicity  \\\n",
       "0   100314.0     Bechard, Declan       Toddler     60640         Caucasian   \n",
       "1   100318.0  Carrigan, JonMateo       Toddler     60660      Multi-racial   \n",
       "2   100319.0      Ciardi, Nelson       Toddler     60625             Asian   \n",
       "3   100320.0      Elkington, Max       Toddler     60640         Caucasian   \n",
       "4   100354.0         Gaster, Eve       Toddler     60626  <None Specified>   \n",
       "\n",
       "    Enrollment Status                  Roles  \n",
       "0  EN: Newly Enrolled  Student (T), Prg Stud  \n",
       "1  EN: Newly Enrolled  Student (T), Prg Stud  \n",
       "2  EN: Newly Enrolled  Student (T), Prg Stud  \n",
       "3  EN: Newly Enrolled  Student (T), Prg Stud  \n",
       "4  EN: Newly Enrolled            Student (T)  "
      ]
     },
     "execution_count": 43,
     "metadata": {},
     "output_type": "execute_result"
    }
   ],
   "source": [
    "student_program_zip.head()"
   ]
  },
  {
   "cell_type": "code",
   "execution_count": 44,
   "metadata": {},
   "outputs": [],
   "source": [
    "student_program_zip = student_program_zip.dropna(how='all')"
   ]
  },
  {
   "cell_type": "code",
   "execution_count": 45,
   "metadata": {},
   "outputs": [
    {
     "data": {
      "text/plain": [
       "(361, 7)"
      ]
     },
     "execution_count": 45,
     "metadata": {},
     "output_type": "execute_result"
    }
   ],
   "source": [
    "student_program_zip.shape"
   ]
  },
  {
   "cell_type": "code",
   "execution_count": 47,
   "metadata": {},
   "outputs": [],
   "source": [
    "import pgeocode"
   ]
  },
  {
   "cell_type": "code",
   "execution_count": 49,
   "metadata": {},
   "outputs": [],
   "source": [
    "nomi = pgeocode.Nominatim('us')"
   ]
  },
  {
   "cell_type": "code",
   "execution_count": 54,
   "metadata": {},
   "outputs": [],
   "source": [
    "student_program_zip['latitude'] = student_program_zip['Zip Code'].apply(lambda x: nomi.query_postal_code(x).latitude)"
   ]
  },
  {
   "cell_type": "code",
   "execution_count": 55,
   "metadata": {},
   "outputs": [],
   "source": [
    "student_program_zip['longitude'] = student_program_zip['Zip Code'].apply(lambda x: nomi.query_postal_code(x).longitude)"
   ]
  },
  {
   "cell_type": "code",
   "execution_count": 56,
   "metadata": {},
   "outputs": [
    {
     "data": {
      "text/html": [
       "<div>\n",
       "<style scoped>\n",
       "    .dataframe tbody tr th:only-of-type {\n",
       "        vertical-align: middle;\n",
       "    }\n",
       "\n",
       "    .dataframe tbody tr th {\n",
       "        vertical-align: top;\n",
       "    }\n",
       "\n",
       "    .dataframe thead th {\n",
       "        text-align: right;\n",
       "    }\n",
       "</style>\n",
       "<table border=\"1\" class=\"dataframe\">\n",
       "  <thead>\n",
       "    <tr style=\"text-align: right;\">\n",
       "      <th></th>\n",
       "      <th>Person ID</th>\n",
       "      <th>Full Name</th>\n",
       "      <th>Current Grade</th>\n",
       "      <th>Zip Code</th>\n",
       "      <th>Ethnicity</th>\n",
       "      <th>Enrollment Status</th>\n",
       "      <th>Roles</th>\n",
       "      <th>latitude</th>\n",
       "      <th>longitude</th>\n",
       "    </tr>\n",
       "  </thead>\n",
       "  <tbody>\n",
       "    <tr>\n",
       "      <th>0</th>\n",
       "      <td>100314.0</td>\n",
       "      <td>Bechard, Declan</td>\n",
       "      <td>Toddler</td>\n",
       "      <td>60640</td>\n",
       "      <td>Caucasian</td>\n",
       "      <td>EN: Newly Enrolled</td>\n",
       "      <td>Student (T), Prg Stud</td>\n",
       "      <td>41.9719</td>\n",
       "      <td>-87.6624</td>\n",
       "    </tr>\n",
       "    <tr>\n",
       "      <th>1</th>\n",
       "      <td>100318.0</td>\n",
       "      <td>Carrigan, JonMateo</td>\n",
       "      <td>Toddler</td>\n",
       "      <td>60660</td>\n",
       "      <td>Multi-racial</td>\n",
       "      <td>EN: Newly Enrolled</td>\n",
       "      <td>Student (T), Prg Stud</td>\n",
       "      <td>41.9909</td>\n",
       "      <td>-87.6629</td>\n",
       "    </tr>\n",
       "    <tr>\n",
       "      <th>2</th>\n",
       "      <td>100319.0</td>\n",
       "      <td>Ciardi, Nelson</td>\n",
       "      <td>Toddler</td>\n",
       "      <td>60625</td>\n",
       "      <td>Asian</td>\n",
       "      <td>EN: Newly Enrolled</td>\n",
       "      <td>Student (T), Prg Stud</td>\n",
       "      <td>41.9703</td>\n",
       "      <td>-87.7042</td>\n",
       "    </tr>\n",
       "    <tr>\n",
       "      <th>3</th>\n",
       "      <td>100320.0</td>\n",
       "      <td>Elkington, Max</td>\n",
       "      <td>Toddler</td>\n",
       "      <td>60640</td>\n",
       "      <td>Caucasian</td>\n",
       "      <td>EN: Newly Enrolled</td>\n",
       "      <td>Student (T), Prg Stud</td>\n",
       "      <td>41.9719</td>\n",
       "      <td>-87.6624</td>\n",
       "    </tr>\n",
       "    <tr>\n",
       "      <th>4</th>\n",
       "      <td>100354.0</td>\n",
       "      <td>Gaster, Eve</td>\n",
       "      <td>Toddler</td>\n",
       "      <td>60626</td>\n",
       "      <td>&lt;None Specified&gt;</td>\n",
       "      <td>EN: Newly Enrolled</td>\n",
       "      <td>Student (T)</td>\n",
       "      <td>42.0095</td>\n",
       "      <td>-87.6689</td>\n",
       "    </tr>\n",
       "  </tbody>\n",
       "</table>\n",
       "</div>"
      ],
      "text/plain": [
       "   Person ID           Full Name Current Grade  Zip Code         Ethnicity  \\\n",
       "0   100314.0     Bechard, Declan       Toddler     60640         Caucasian   \n",
       "1   100318.0  Carrigan, JonMateo       Toddler     60660      Multi-racial   \n",
       "2   100319.0      Ciardi, Nelson       Toddler     60625             Asian   \n",
       "3   100320.0      Elkington, Max       Toddler     60640         Caucasian   \n",
       "4   100354.0         Gaster, Eve       Toddler     60626  <None Specified>   \n",
       "\n",
       "    Enrollment Status                  Roles  latitude  longitude  \n",
       "0  EN: Newly Enrolled  Student (T), Prg Stud   41.9719   -87.6624  \n",
       "1  EN: Newly Enrolled  Student (T), Prg Stud   41.9909   -87.6629  \n",
       "2  EN: Newly Enrolled  Student (T), Prg Stud   41.9703   -87.7042  \n",
       "3  EN: Newly Enrolled  Student (T), Prg Stud   41.9719   -87.6624  \n",
       "4  EN: Newly Enrolled            Student (T)   42.0095   -87.6689  "
      ]
     },
     "execution_count": 56,
     "metadata": {},
     "output_type": "execute_result"
    }
   ],
   "source": [
    "student_program_zip.head()"
   ]
  },
  {
   "cell_type": "code",
   "execution_count": 57,
   "metadata": {},
   "outputs": [],
   "source": [
    "student_locations = student_program_zip[['latitude', 'longitude']]"
   ]
  },
  {
   "cell_type": "code",
   "execution_count": 58,
   "metadata": {},
   "outputs": [],
   "source": [
    "student_locations.to_csv('data/student_locations.csv', index=False)"
   ]
  },
  {
   "cell_type": "code",
   "execution_count": null,
   "metadata": {},
   "outputs": [],
   "source": []
  }
 ],
 "metadata": {
  "kernelspec": {
   "display_name": "Python 3",
   "language": "python",
   "name": "python3"
  },
  "language_info": {
   "codemirror_mode": {
    "name": "ipython",
    "version": 3
   },
   "file_extension": ".py",
   "mimetype": "text/x-python",
   "name": "python",
   "nbconvert_exporter": "python",
   "pygments_lexer": "ipython3",
   "version": "3.8.3"
  }
 },
 "nbformat": 4,
 "nbformat_minor": 4
}