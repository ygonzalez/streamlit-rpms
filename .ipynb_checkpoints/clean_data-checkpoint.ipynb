{
 "cells": [
  {
   "cell_type": "code",
   "execution_count": 1,
   "metadata": {},
   "outputs": [],
   "source": [
    "import pandas as pd"
   ]
  },
  {
   "cell_type": "markdown",
   "metadata": {},
   "source": [
    "## Import Raw Files"
   ]
  },
  {
   "cell_type": "code",
   "execution_count": 125,
   "metadata": {},
   "outputs": [],
   "source": [
    "student_list = pd.read_csv('data/student_list.csv', skiprows=[1])"
   ]
  },
  {
   "cell_type": "code",
   "execution_count": 126,
   "metadata": {},
   "outputs": [],
   "source": [
    "historical = pd.read_csv('data/Historical Demographic Data.csv', header=1)"
   ]
  },
  {
   "cell_type": "code",
   "execution_count": 127,
   "metadata": {},
   "outputs": [],
   "source": [
    "student_program = pd.read_csv('data/Student Query Name and Program.csv')"
   ]
  },
  {
   "cell_type": "code",
   "execution_count": 128,
   "metadata": {},
   "outputs": [
    {
     "data": {
      "text/html": [
       "<div>\n",
       "<style scoped>\n",
       "    .dataframe tbody tr th:only-of-type {\n",
       "        vertical-align: middle;\n",
       "    }\n",
       "\n",
       "    .dataframe tbody tr th {\n",
       "        vertical-align: top;\n",
       "    }\n",
       "\n",
       "    .dataframe thead th {\n",
       "        text-align: right;\n",
       "    }\n",
       "</style>\n",
       "<table border=\"1\" class=\"dataframe\">\n",
       "  <thead>\n",
       "    <tr style=\"text-align: right;\">\n",
       "      <th></th>\n",
       "      <th>name</th>\n",
       "      <th>name_title</th>\n",
       "      <th>ethnicity</th>\n",
       "    </tr>\n",
       "  </thead>\n",
       "  <tbody>\n",
       "    <tr>\n",
       "      <th>0</th>\n",
       "      <td>Omar M. Barakat</td>\n",
       "      <td>NaN</td>\n",
       "      <td>Asian</td>\n",
       "    </tr>\n",
       "    <tr>\n",
       "      <th>1</th>\n",
       "      <td>Lucas Breit</td>\n",
       "      <td>NaN</td>\n",
       "      <td>Asian</td>\n",
       "    </tr>\n",
       "    <tr>\n",
       "      <th>2</th>\n",
       "      <td>Stella Breit</td>\n",
       "      <td>NaN</td>\n",
       "      <td>Asian</td>\n",
       "    </tr>\n",
       "    <tr>\n",
       "      <th>3</th>\n",
       "      <td>Julian Rizk Callahan</td>\n",
       "      <td>NaN</td>\n",
       "      <td>Asian</td>\n",
       "    </tr>\n",
       "    <tr>\n",
       "      <th>4</th>\n",
       "      <td>Magnolia Ciardi</td>\n",
       "      <td>NaN</td>\n",
       "      <td>Asian</td>\n",
       "    </tr>\n",
       "  </tbody>\n",
       "</table>\n",
       "</div>"
      ],
      "text/plain": [
       "                   name  name_title ethnicity\n",
       "0       Omar M. Barakat         NaN     Asian\n",
       "1           Lucas Breit         NaN     Asian\n",
       "2          Stella Breit         NaN     Asian\n",
       "3  Julian Rizk Callahan         NaN     Asian\n",
       "4       Magnolia Ciardi         NaN     Asian"
      ]
     },
     "execution_count": 128,
     "metadata": {},
     "output_type": "execute_result"
    }
   ],
   "source": [
    "student_list.head()"
   ]
  },
  {
   "cell_type": "code",
   "execution_count": 129,
   "metadata": {},
   "outputs": [
    {
     "data": {
      "text/plain": [
       "(338, 3)"
      ]
     },
     "execution_count": 129,
     "metadata": {},
     "output_type": "execute_result"
    }
   ],
   "source": [
    "student_list.shape"
   ]
  },
  {
   "cell_type": "code",
   "execution_count": 130,
   "metadata": {},
   "outputs": [
    {
     "data": {
      "text/html": [
       "<div>\n",
       "<style scoped>\n",
       "    .dataframe tbody tr th:only-of-type {\n",
       "        vertical-align: middle;\n",
       "    }\n",
       "\n",
       "    .dataframe tbody tr th {\n",
       "        vertical-align: top;\n",
       "    }\n",
       "\n",
       "    .dataframe thead th {\n",
       "        text-align: right;\n",
       "    }\n",
       "</style>\n",
       "<table border=\"1\" class=\"dataframe\">\n",
       "  <thead>\n",
       "    <tr style=\"text-align: right;\">\n",
       "      <th></th>\n",
       "      <th>Year</th>\n",
       "      <th>Enrollment</th>\n",
       "      <th>Asian</th>\n",
       "      <th>AA</th>\n",
       "      <th>Latino</th>\n",
       "      <th>White</th>\n",
       "      <th>total non-white</th>\n",
       "      <th>%</th>\n",
       "      <th>Unnamed: 8</th>\n",
       "      <th>Same Gender Parents</th>\n",
       "    </tr>\n",
       "  </thead>\n",
       "  <tbody>\n",
       "    <tr>\n",
       "      <th>0</th>\n",
       "      <td>2008-2009</td>\n",
       "      <td>295</td>\n",
       "      <td>30.0</td>\n",
       "      <td>6.0</td>\n",
       "      <td>23.0</td>\n",
       "      <td>236.0</td>\n",
       "      <td>59.0</td>\n",
       "      <td>20.00%</td>\n",
       "      <td>NaN</td>\n",
       "      <td>4.0</td>\n",
       "    </tr>\n",
       "    <tr>\n",
       "      <th>1</th>\n",
       "      <td>2009-2010</td>\n",
       "      <td>316</td>\n",
       "      <td>30.0</td>\n",
       "      <td>7.0</td>\n",
       "      <td>22.0</td>\n",
       "      <td>257.0</td>\n",
       "      <td>59.0</td>\n",
       "      <td>18.67%</td>\n",
       "      <td>NaN</td>\n",
       "      <td>6.0</td>\n",
       "    </tr>\n",
       "    <tr>\n",
       "      <th>2</th>\n",
       "      <td>2010-2011</td>\n",
       "      <td>334</td>\n",
       "      <td>39.0</td>\n",
       "      <td>4.0</td>\n",
       "      <td>25.0</td>\n",
       "      <td>266.0</td>\n",
       "      <td>68.0</td>\n",
       "      <td>20.36%</td>\n",
       "      <td>NaN</td>\n",
       "      <td>6.0</td>\n",
       "    </tr>\n",
       "    <tr>\n",
       "      <th>3</th>\n",
       "      <td>2011-2012</td>\n",
       "      <td>350</td>\n",
       "      <td>41.0</td>\n",
       "      <td>7.0</td>\n",
       "      <td>22.0</td>\n",
       "      <td>280.0</td>\n",
       "      <td>70.0</td>\n",
       "      <td>20.00%</td>\n",
       "      <td>NaN</td>\n",
       "      <td>8.0</td>\n",
       "    </tr>\n",
       "    <tr>\n",
       "      <th>4</th>\n",
       "      <td>2012-2013</td>\n",
       "      <td>371</td>\n",
       "      <td>55.0</td>\n",
       "      <td>10.0</td>\n",
       "      <td>27.0</td>\n",
       "      <td>279.0</td>\n",
       "      <td>92.0</td>\n",
       "      <td>24.80%</td>\n",
       "      <td>NaN</td>\n",
       "      <td>11.0</td>\n",
       "    </tr>\n",
       "    <tr>\n",
       "      <th>5</th>\n",
       "      <td>2013-2014</td>\n",
       "      <td>376</td>\n",
       "      <td>49.0</td>\n",
       "      <td>12.0</td>\n",
       "      <td>30.0</td>\n",
       "      <td>285.0</td>\n",
       "      <td>91.0</td>\n",
       "      <td>24.20%</td>\n",
       "      <td>NaN</td>\n",
       "      <td>11.0</td>\n",
       "    </tr>\n",
       "    <tr>\n",
       "      <th>6</th>\n",
       "      <td>2014-2015</td>\n",
       "      <td>383</td>\n",
       "      <td>47.0</td>\n",
       "      <td>13.0</td>\n",
       "      <td>32.0</td>\n",
       "      <td>291.0</td>\n",
       "      <td>92.0</td>\n",
       "      <td>24.02%</td>\n",
       "      <td>NaN</td>\n",
       "      <td>13.0</td>\n",
       "    </tr>\n",
       "    <tr>\n",
       "      <th>7</th>\n",
       "      <td>2015-2016</td>\n",
       "      <td>397</td>\n",
       "      <td>55.0</td>\n",
       "      <td>16.0</td>\n",
       "      <td>32.0</td>\n",
       "      <td>294.0</td>\n",
       "      <td>103.0</td>\n",
       "      <td>25.94%</td>\n",
       "      <td>NaN</td>\n",
       "      <td>16.0</td>\n",
       "    </tr>\n",
       "    <tr>\n",
       "      <th>8</th>\n",
       "      <td>2016-2017</td>\n",
       "      <td>405</td>\n",
       "      <td>59.0</td>\n",
       "      <td>17.0</td>\n",
       "      <td>36.0</td>\n",
       "      <td>293.0</td>\n",
       "      <td>112.0</td>\n",
       "      <td>27.65%</td>\n",
       "      <td>NaN</td>\n",
       "      <td>17.0</td>\n",
       "    </tr>\n",
       "    <tr>\n",
       "      <th>9</th>\n",
       "      <td>2017-2018</td>\n",
       "      <td>410</td>\n",
       "      <td>58.0</td>\n",
       "      <td>20.0</td>\n",
       "      <td>40.0</td>\n",
       "      <td>292.0</td>\n",
       "      <td>118.0</td>\n",
       "      <td>28.78%</td>\n",
       "      <td>NaN</td>\n",
       "      <td>25.0</td>\n",
       "    </tr>\n",
       "    <tr>\n",
       "      <th>10</th>\n",
       "      <td>2018-2019</td>\n",
       "      <td>411</td>\n",
       "      <td>55.0</td>\n",
       "      <td>20.0</td>\n",
       "      <td>41.0</td>\n",
       "      <td>295.0</td>\n",
       "      <td>116.0</td>\n",
       "      <td>28.22%</td>\n",
       "      <td>NaN</td>\n",
       "      <td>21.0</td>\n",
       "    </tr>\n",
       "    <tr>\n",
       "      <th>11</th>\n",
       "      <td>2019-2020</td>\n",
       "      <td>391</td>\n",
       "      <td>59.0</td>\n",
       "      <td>16.0</td>\n",
       "      <td>44.0</td>\n",
       "      <td>272.0</td>\n",
       "      <td>119.0</td>\n",
       "      <td>30.40%</td>\n",
       "      <td>NaN</td>\n",
       "      <td>17.0</td>\n",
       "    </tr>\n",
       "    <tr>\n",
       "      <th>12</th>\n",
       "      <td>2020-2021</td>\n",
       "      <td>333</td>\n",
       "      <td>45.0</td>\n",
       "      <td>10.0</td>\n",
       "      <td>37.0</td>\n",
       "      <td>241.0</td>\n",
       "      <td>92.0</td>\n",
       "      <td>27.60%</td>\n",
       "      <td>NaN</td>\n",
       "      <td>9.0</td>\n",
       "    </tr>\n",
       "    <tr>\n",
       "      <th>13</th>\n",
       "      <td>2021-2022</td>\n",
       "      <td>365</td>\n",
       "      <td>NaN</td>\n",
       "      <td>NaN</td>\n",
       "      <td>NaN</td>\n",
       "      <td>NaN</td>\n",
       "      <td>NaN</td>\n",
       "      <td>NaN</td>\n",
       "      <td>NaN</td>\n",
       "      <td>NaN</td>\n",
       "    </tr>\n",
       "  </tbody>\n",
       "</table>\n",
       "</div>"
      ],
      "text/plain": [
       "         Year   Enrollment   Asian    AA  Latino  White  total non-white  \\\n",
       "0   2008-2009           295   30.0   6.0    23.0  236.0             59.0   \n",
       "1   2009-2010           316   30.0   7.0    22.0  257.0             59.0   \n",
       "2   2010-2011           334   39.0   4.0    25.0  266.0             68.0   \n",
       "3   2011-2012           350   41.0   7.0    22.0  280.0             70.0   \n",
       "4   2012-2013           371   55.0  10.0    27.0  279.0             92.0   \n",
       "5   2013-2014           376   49.0  12.0    30.0  285.0             91.0   \n",
       "6   2014-2015           383   47.0  13.0    32.0  291.0             92.0   \n",
       "7   2015-2016           397   55.0  16.0    32.0  294.0            103.0   \n",
       "8   2016-2017           405   59.0  17.0    36.0  293.0            112.0   \n",
       "9   2017-2018           410   58.0  20.0    40.0  292.0            118.0   \n",
       "10  2018-2019           411   55.0  20.0    41.0  295.0            116.0   \n",
       "11  2019-2020           391   59.0  16.0    44.0  272.0            119.0   \n",
       "12   2020-2021          333   45.0  10.0    37.0  241.0             92.0   \n",
       "13   2021-2022          365    NaN   NaN     NaN    NaN              NaN   \n",
       "\n",
       "        %   Unnamed: 8  Same Gender Parents  \n",
       "0   20.00%         NaN                  4.0  \n",
       "1   18.67%         NaN                  6.0  \n",
       "2   20.36%         NaN                  6.0  \n",
       "3   20.00%         NaN                  8.0  \n",
       "4   24.80%         NaN                 11.0  \n",
       "5   24.20%         NaN                 11.0  \n",
       "6   24.02%         NaN                 13.0  \n",
       "7   25.94%         NaN                 16.0  \n",
       "8   27.65%         NaN                 17.0  \n",
       "9   28.78%         NaN                 25.0  \n",
       "10  28.22%         NaN                 21.0  \n",
       "11  30.40%         NaN                 17.0  \n",
       "12  27.60%         NaN                  9.0  \n",
       "13     NaN         NaN                  NaN  "
      ]
     },
     "execution_count": 130,
     "metadata": {},
     "output_type": "execute_result"
    }
   ],
   "source": [
    "historical"
   ]
  },
  {
   "cell_type": "code",
   "execution_count": 131,
   "metadata": {},
   "outputs": [
    {
     "data": {
      "text/html": [
       "<div>\n",
       "<style scoped>\n",
       "    .dataframe tbody tr th:only-of-type {\n",
       "        vertical-align: middle;\n",
       "    }\n",
       "\n",
       "    .dataframe tbody tr th {\n",
       "        vertical-align: top;\n",
       "    }\n",
       "\n",
       "    .dataframe thead th {\n",
       "        text-align: right;\n",
       "    }\n",
       "</style>\n",
       "<table border=\"1\" class=\"dataframe\">\n",
       "  <thead>\n",
       "    <tr style=\"text-align: right;\">\n",
       "      <th></th>\n",
       "      <th>Person ID</th>\n",
       "      <th>Full Name</th>\n",
       "      <th>Current Grade</th>\n",
       "      <th>Ethnicity</th>\n",
       "      <th>Enrollment Status</th>\n",
       "      <th>Roles</th>\n",
       "    </tr>\n",
       "  </thead>\n",
       "  <tbody>\n",
       "    <tr>\n",
       "      <th>0</th>\n",
       "      <td>100314.0</td>\n",
       "      <td>Bechard, Declan</td>\n",
       "      <td>Toddler</td>\n",
       "      <td>Caucasian</td>\n",
       "      <td>EN: Newly Enrolled</td>\n",
       "      <td>Student (T), Prg Stud</td>\n",
       "    </tr>\n",
       "    <tr>\n",
       "      <th>1</th>\n",
       "      <td>100318.0</td>\n",
       "      <td>Carrigan, JonMateo</td>\n",
       "      <td>Toddler</td>\n",
       "      <td>Multi-racial</td>\n",
       "      <td>EN: Newly Enrolled</td>\n",
       "      <td>Student (T), Prg Stud</td>\n",
       "    </tr>\n",
       "    <tr>\n",
       "      <th>2</th>\n",
       "      <td>100319.0</td>\n",
       "      <td>Ciardi, Nelson</td>\n",
       "      <td>Toddler</td>\n",
       "      <td>Asian</td>\n",
       "      <td>EN: Newly Enrolled</td>\n",
       "      <td>Student (T), Prg Stud</td>\n",
       "    </tr>\n",
       "    <tr>\n",
       "      <th>3</th>\n",
       "      <td>100320.0</td>\n",
       "      <td>Elkington, Max</td>\n",
       "      <td>Toddler</td>\n",
       "      <td>Caucasian</td>\n",
       "      <td>EN: Newly Enrolled</td>\n",
       "      <td>Student (T), Prg Stud</td>\n",
       "    </tr>\n",
       "    <tr>\n",
       "      <th>4</th>\n",
       "      <td>100354.0</td>\n",
       "      <td>Gaster, Eve</td>\n",
       "      <td>Toddler</td>\n",
       "      <td>&lt;None Specified&gt;</td>\n",
       "      <td>EN: Newly Enrolled</td>\n",
       "      <td>Student (T)</td>\n",
       "    </tr>\n",
       "  </tbody>\n",
       "</table>\n",
       "</div>"
      ],
      "text/plain": [
       "   Person ID           Full Name Current Grade         Ethnicity  \\\n",
       "0   100314.0     Bechard, Declan       Toddler         Caucasian   \n",
       "1   100318.0  Carrigan, JonMateo       Toddler      Multi-racial   \n",
       "2   100319.0      Ciardi, Nelson       Toddler             Asian   \n",
       "3   100320.0      Elkington, Max       Toddler         Caucasian   \n",
       "4   100354.0         Gaster, Eve       Toddler  <None Specified>   \n",
       "\n",
       "    Enrollment Status                  Roles  \n",
       "0  EN: Newly Enrolled  Student (T), Prg Stud  \n",
       "1  EN: Newly Enrolled  Student (T), Prg Stud  \n",
       "2  EN: Newly Enrolled  Student (T), Prg Stud  \n",
       "3  EN: Newly Enrolled  Student (T), Prg Stud  \n",
       "4  EN: Newly Enrolled            Student (T)  "
      ]
     },
     "execution_count": 131,
     "metadata": {},
     "output_type": "execute_result"
    }
   ],
   "source": [
    "student_program.head()"
   ]
  },
  {
   "cell_type": "code",
   "execution_count": 132,
   "metadata": {},
   "outputs": [
    {
     "data": {
      "text/plain": [
       "(365, 6)"
      ]
     },
     "execution_count": 132,
     "metadata": {},
     "output_type": "execute_result"
    }
   ],
   "source": [
    "student_program.shape"
   ]
  },
  {
   "cell_type": "code",
   "execution_count": 133,
   "metadata": {},
   "outputs": [],
   "source": [
    "names = student_program['Full Name'].str.split(',', expand=True)"
   ]
  },
  {
   "cell_type": "code",
   "execution_count": 134,
   "metadata": {},
   "outputs": [
    {
     "data": {
      "text/html": [
       "<div>\n",
       "<style scoped>\n",
       "    .dataframe tbody tr th:only-of-type {\n",
       "        vertical-align: middle;\n",
       "    }\n",
       "\n",
       "    .dataframe tbody tr th {\n",
       "        vertical-align: top;\n",
       "    }\n",
       "\n",
       "    .dataframe thead th {\n",
       "        text-align: right;\n",
       "    }\n",
       "</style>\n",
       "<table border=\"1\" class=\"dataframe\">\n",
       "  <thead>\n",
       "    <tr style=\"text-align: right;\">\n",
       "      <th></th>\n",
       "      <th>0</th>\n",
       "      <th>1</th>\n",
       "    </tr>\n",
       "  </thead>\n",
       "  <tbody>\n",
       "    <tr>\n",
       "      <th>0</th>\n",
       "      <td>Bechard</td>\n",
       "      <td>Declan</td>\n",
       "    </tr>\n",
       "    <tr>\n",
       "      <th>1</th>\n",
       "      <td>Carrigan</td>\n",
       "      <td>JonMateo</td>\n",
       "    </tr>\n",
       "  </tbody>\n",
       "</table>\n",
       "</div>"
      ],
      "text/plain": [
       "          0          1\n",
       "0   Bechard     Declan\n",
       "1  Carrigan   JonMateo"
      ]
     },
     "execution_count": 134,
     "metadata": {},
     "output_type": "execute_result"
    }
   ],
   "source": [
    "names.head(2)"
   ]
  },
  {
   "cell_type": "code",
   "execution_count": 135,
   "metadata": {},
   "outputs": [],
   "source": [
    "student_program['Last Name'] = names[0]"
   ]
  },
  {
   "cell_type": "code",
   "execution_count": 136,
   "metadata": {},
   "outputs": [],
   "source": [
    "student_program['First Name'] = names[1]"
   ]
  },
  {
   "cell_type": "code",
   "execution_count": 137,
   "metadata": {},
   "outputs": [
    {
     "data": {
      "text/html": [
       "<div>\n",
       "<style scoped>\n",
       "    .dataframe tbody tr th:only-of-type {\n",
       "        vertical-align: middle;\n",
       "    }\n",
       "\n",
       "    .dataframe tbody tr th {\n",
       "        vertical-align: top;\n",
       "    }\n",
       "\n",
       "    .dataframe thead th {\n",
       "        text-align: right;\n",
       "    }\n",
       "</style>\n",
       "<table border=\"1\" class=\"dataframe\">\n",
       "  <thead>\n",
       "    <tr style=\"text-align: right;\">\n",
       "      <th></th>\n",
       "      <th>0</th>\n",
       "      <th>1</th>\n",
       "      <th>2</th>\n",
       "      <th>3</th>\n",
       "    </tr>\n",
       "  </thead>\n",
       "  <tbody>\n",
       "    <tr>\n",
       "      <th>0</th>\n",
       "      <td>Omar</td>\n",
       "      <td>M.</td>\n",
       "      <td>Barakat</td>\n",
       "      <td>None</td>\n",
       "    </tr>\n",
       "    <tr>\n",
       "      <th>1</th>\n",
       "      <td>Lucas</td>\n",
       "      <td>Breit</td>\n",
       "      <td>None</td>\n",
       "      <td>None</td>\n",
       "    </tr>\n",
       "    <tr>\n",
       "      <th>2</th>\n",
       "      <td>Stella</td>\n",
       "      <td>Breit</td>\n",
       "      <td>None</td>\n",
       "      <td>None</td>\n",
       "    </tr>\n",
       "    <tr>\n",
       "      <th>3</th>\n",
       "      <td>Julian</td>\n",
       "      <td>Rizk</td>\n",
       "      <td>Callahan</td>\n",
       "      <td>None</td>\n",
       "    </tr>\n",
       "    <tr>\n",
       "      <th>4</th>\n",
       "      <td>Magnolia</td>\n",
       "      <td>Ciardi</td>\n",
       "      <td>None</td>\n",
       "      <td>None</td>\n",
       "    </tr>\n",
       "    <tr>\n",
       "      <th>...</th>\n",
       "      <td>...</td>\n",
       "      <td>...</td>\n",
       "      <td>...</td>\n",
       "      <td>...</td>\n",
       "    </tr>\n",
       "    <tr>\n",
       "      <th>333</th>\n",
       "      <td>Rebecca</td>\n",
       "      <td>Asher</td>\n",
       "      <td>Wilson</td>\n",
       "      <td>None</td>\n",
       "    </tr>\n",
       "    <tr>\n",
       "      <th>334</th>\n",
       "      <td>Ava</td>\n",
       "      <td>Wise</td>\n",
       "      <td>None</td>\n",
       "      <td>None</td>\n",
       "    </tr>\n",
       "    <tr>\n",
       "      <th>335</th>\n",
       "      <td>Asa</td>\n",
       "      <td>Trussell</td>\n",
       "      <td>Wolfson</td>\n",
       "      <td>None</td>\n",
       "    </tr>\n",
       "    <tr>\n",
       "      <th>336</th>\n",
       "      <td>Alec</td>\n",
       "      <td>Younger</td>\n",
       "      <td>None</td>\n",
       "      <td>None</td>\n",
       "    </tr>\n",
       "    <tr>\n",
       "      <th>337</th>\n",
       "      <td>Annabel</td>\n",
       "      <td>Zolner</td>\n",
       "      <td>None</td>\n",
       "      <td>None</td>\n",
       "    </tr>\n",
       "  </tbody>\n",
       "</table>\n",
       "<p>338 rows × 4 columns</p>\n",
       "</div>"
      ],
      "text/plain": [
       "            0         1         2     3\n",
       "0        Omar        M.   Barakat  None\n",
       "1       Lucas     Breit      None  None\n",
       "2      Stella     Breit      None  None\n",
       "3      Julian      Rizk  Callahan  None\n",
       "4    Magnolia    Ciardi      None  None\n",
       "..        ...       ...       ...   ...\n",
       "333   Rebecca     Asher    Wilson  None\n",
       "334       Ava      Wise      None  None\n",
       "335       Asa  Trussell   Wolfson  None\n",
       "336      Alec   Younger      None  None\n",
       "337   Annabel    Zolner      None  None\n",
       "\n",
       "[338 rows x 4 columns]"
      ]
     },
     "execution_count": 137,
     "metadata": {},
     "output_type": "execute_result"
    }
   ],
   "source": [
    "student_list['name'].str.split(' ', expand=True)"
   ]
  },
  {
   "cell_type": "code",
   "execution_count": 138,
   "metadata": {},
   "outputs": [
    {
     "data": {
      "text/html": [
       "<div>\n",
       "<style scoped>\n",
       "    .dataframe tbody tr th:only-of-type {\n",
       "        vertical-align: middle;\n",
       "    }\n",
       "\n",
       "    .dataframe tbody tr th {\n",
       "        vertical-align: top;\n",
       "    }\n",
       "\n",
       "    .dataframe thead th {\n",
       "        text-align: right;\n",
       "    }\n",
       "</style>\n",
       "<table border=\"1\" class=\"dataframe\">\n",
       "  <thead>\n",
       "    <tr style=\"text-align: right;\">\n",
       "      <th></th>\n",
       "      <th>name</th>\n",
       "      <th>name_title</th>\n",
       "      <th>ethnicity</th>\n",
       "    </tr>\n",
       "  </thead>\n",
       "  <tbody>\n",
       "    <tr>\n",
       "      <th>0</th>\n",
       "      <td>Omar M. Barakat</td>\n",
       "      <td>NaN</td>\n",
       "      <td>Asian</td>\n",
       "    </tr>\n",
       "    <tr>\n",
       "      <th>1</th>\n",
       "      <td>Lucas Breit</td>\n",
       "      <td>NaN</td>\n",
       "      <td>Asian</td>\n",
       "    </tr>\n",
       "    <tr>\n",
       "      <th>2</th>\n",
       "      <td>Stella Breit</td>\n",
       "      <td>NaN</td>\n",
       "      <td>Asian</td>\n",
       "    </tr>\n",
       "  </tbody>\n",
       "</table>\n",
       "</div>"
      ],
      "text/plain": [
       "              name  name_title ethnicity\n",
       "0  Omar M. Barakat         NaN     Asian\n",
       "1      Lucas Breit         NaN     Asian\n",
       "2     Stella Breit         NaN     Asian"
      ]
     },
     "execution_count": 138,
     "metadata": {},
     "output_type": "execute_result"
    }
   ],
   "source": [
    "student_list.head(3)"
   ]
  },
  {
   "cell_type": "code",
   "execution_count": 139,
   "metadata": {},
   "outputs": [
    {
     "data": {
      "text/plain": [
       "0           Omar M. Barakat\n",
       "1               Lucas Breit\n",
       "2              Stella Breit\n",
       "3      Julian Rizk Callahan\n",
       "4           Magnolia Ciardi\n",
       "               ...         \n",
       "333    Rebecca Asher Wilson\n",
       "334                Ava Wise\n",
       "335    Asa Trussell Wolfson\n",
       "336            Alec Younger\n",
       "337          Annabel Zolner\n",
       "Name: name, Length: 338, dtype: object"
      ]
     },
     "execution_count": 139,
     "metadata": {},
     "output_type": "execute_result"
    }
   ],
   "source": [
    "student_list['name']"
   ]
  },
  {
   "cell_type": "code",
   "execution_count": 140,
   "metadata": {},
   "outputs": [],
   "source": [
    "p = r'^(?P<First_Name>.*) \\b\\s*(?P<Middle_Name>.*) (?P<Last_Name>\\S+)' \n",
    "middle = student_list['name'].str.extract(p)"
   ]
  },
  {
   "cell_type": "code",
   "execution_count": 141,
   "metadata": {},
   "outputs": [],
   "source": [
    "middle = middle.dropna()"
   ]
  },
  {
   "cell_type": "code",
   "execution_count": 142,
   "metadata": {},
   "outputs": [],
   "source": [
    "p = r'^(?P<First_Name>.*) (?P<Last_Name>\\S+)' \n",
    "last = student_list['name'].str.extract(p)"
   ]
  },
  {
   "cell_type": "code",
   "execution_count": 143,
   "metadata": {},
   "outputs": [],
   "source": [
    "student_list_combined = pd.merge(student_list, last, how='left',left_index=True, right_index=True)"
   ]
  },
  {
   "cell_type": "code",
   "execution_count": 144,
   "metadata": {},
   "outputs": [],
   "source": [
    "student_list_combined = pd.merge(student_list_combined, middle, how='left',left_index=True, right_index=True)"
   ]
  },
  {
   "cell_type": "code",
   "execution_count": 145,
   "metadata": {},
   "outputs": [
    {
     "data": {
      "text/html": [
       "<div>\n",
       "<style scoped>\n",
       "    .dataframe tbody tr th:only-of-type {\n",
       "        vertical-align: middle;\n",
       "    }\n",
       "\n",
       "    .dataframe tbody tr th {\n",
       "        vertical-align: top;\n",
       "    }\n",
       "\n",
       "    .dataframe thead th {\n",
       "        text-align: right;\n",
       "    }\n",
       "</style>\n",
       "<table border=\"1\" class=\"dataframe\">\n",
       "  <thead>\n",
       "    <tr style=\"text-align: right;\">\n",
       "      <th></th>\n",
       "      <th>name</th>\n",
       "      <th>name_title</th>\n",
       "      <th>ethnicity</th>\n",
       "      <th>First_Name_x</th>\n",
       "      <th>Last_Name_x</th>\n",
       "      <th>First_Name_y</th>\n",
       "      <th>Middle_Name</th>\n",
       "      <th>Last_Name_y</th>\n",
       "    </tr>\n",
       "  </thead>\n",
       "  <tbody>\n",
       "    <tr>\n",
       "      <th>0</th>\n",
       "      <td>Omar M. Barakat</td>\n",
       "      <td>NaN</td>\n",
       "      <td>Asian</td>\n",
       "      <td>Omar M.</td>\n",
       "      <td>Barakat</td>\n",
       "      <td>Omar</td>\n",
       "      <td>M.</td>\n",
       "      <td>Barakat</td>\n",
       "    </tr>\n",
       "    <tr>\n",
       "      <th>1</th>\n",
       "      <td>Lucas Breit</td>\n",
       "      <td>NaN</td>\n",
       "      <td>Asian</td>\n",
       "      <td>Lucas</td>\n",
       "      <td>Breit</td>\n",
       "      <td>NaN</td>\n",
       "      <td>NaN</td>\n",
       "      <td>NaN</td>\n",
       "    </tr>\n",
       "    <tr>\n",
       "      <th>2</th>\n",
       "      <td>Stella Breit</td>\n",
       "      <td>NaN</td>\n",
       "      <td>Asian</td>\n",
       "      <td>Stella</td>\n",
       "      <td>Breit</td>\n",
       "      <td>NaN</td>\n",
       "      <td>NaN</td>\n",
       "      <td>NaN</td>\n",
       "    </tr>\n",
       "    <tr>\n",
       "      <th>3</th>\n",
       "      <td>Julian Rizk Callahan</td>\n",
       "      <td>NaN</td>\n",
       "      <td>Asian</td>\n",
       "      <td>Julian Rizk</td>\n",
       "      <td>Callahan</td>\n",
       "      <td>Julian</td>\n",
       "      <td>Rizk</td>\n",
       "      <td>Callahan</td>\n",
       "    </tr>\n",
       "    <tr>\n",
       "      <th>4</th>\n",
       "      <td>Magnolia Ciardi</td>\n",
       "      <td>NaN</td>\n",
       "      <td>Asian</td>\n",
       "      <td>Magnolia</td>\n",
       "      <td>Ciardi</td>\n",
       "      <td>NaN</td>\n",
       "      <td>NaN</td>\n",
       "      <td>NaN</td>\n",
       "    </tr>\n",
       "  </tbody>\n",
       "</table>\n",
       "</div>"
      ],
      "text/plain": [
       "                   name  name_title ethnicity First_Name_x Last_Name_x  \\\n",
       "0       Omar M. Barakat         NaN     Asian      Omar M.     Barakat   \n",
       "1           Lucas Breit         NaN     Asian        Lucas       Breit   \n",
       "2          Stella Breit         NaN     Asian       Stella       Breit   \n",
       "3  Julian Rizk Callahan         NaN     Asian  Julian Rizk    Callahan   \n",
       "4       Magnolia Ciardi         NaN     Asian     Magnolia      Ciardi   \n",
       "\n",
       "  First_Name_y Middle_Name Last_Name_y  \n",
       "0         Omar          M.     Barakat  \n",
       "1          NaN         NaN         NaN  \n",
       "2          NaN         NaN         NaN  \n",
       "3       Julian        Rizk    Callahan  \n",
       "4          NaN         NaN         NaN  "
      ]
     },
     "execution_count": 145,
     "metadata": {},
     "output_type": "execute_result"
    }
   ],
   "source": [
    "student_list_combined.head()"
   ]
  },
  {
   "cell_type": "code",
   "execution_count": 146,
   "metadata": {},
   "outputs": [],
   "source": [
    "student_list_combined.loc[student_list_combined['First_Name_y'].isnull(), 'First_Name_y'] = student_list_combined['First_Name_x']"
   ]
  },
  {
   "cell_type": "code",
   "execution_count": 147,
   "metadata": {},
   "outputs": [],
   "source": [
    "student_list_combined.loc[student_list_combined['Last_Name_y'].isnull(), 'Last_Name_y'] = student_list_combined['Last_Name_x']"
   ]
  },
  {
   "cell_type": "code",
   "execution_count": 148,
   "metadata": {},
   "outputs": [
    {
     "data": {
      "text/html": [
       "<div>\n",
       "<style scoped>\n",
       "    .dataframe tbody tr th:only-of-type {\n",
       "        vertical-align: middle;\n",
       "    }\n",
       "\n",
       "    .dataframe tbody tr th {\n",
       "        vertical-align: top;\n",
       "    }\n",
       "\n",
       "    .dataframe thead th {\n",
       "        text-align: right;\n",
       "    }\n",
       "</style>\n",
       "<table border=\"1\" class=\"dataframe\">\n",
       "  <thead>\n",
       "    <tr style=\"text-align: right;\">\n",
       "      <th></th>\n",
       "      <th>name</th>\n",
       "      <th>name_title</th>\n",
       "      <th>ethnicity</th>\n",
       "      <th>First_Name_x</th>\n",
       "      <th>Last_Name_x</th>\n",
       "      <th>First_Name_y</th>\n",
       "      <th>Middle_Name</th>\n",
       "      <th>Last_Name_y</th>\n",
       "    </tr>\n",
       "  </thead>\n",
       "  <tbody>\n",
       "    <tr>\n",
       "      <th>0</th>\n",
       "      <td>Omar M. Barakat</td>\n",
       "      <td>NaN</td>\n",
       "      <td>Asian</td>\n",
       "      <td>Omar M.</td>\n",
       "      <td>Barakat</td>\n",
       "      <td>Omar</td>\n",
       "      <td>M.</td>\n",
       "      <td>Barakat</td>\n",
       "    </tr>\n",
       "    <tr>\n",
       "      <th>1</th>\n",
       "      <td>Lucas Breit</td>\n",
       "      <td>NaN</td>\n",
       "      <td>Asian</td>\n",
       "      <td>Lucas</td>\n",
       "      <td>Breit</td>\n",
       "      <td>Lucas</td>\n",
       "      <td>NaN</td>\n",
       "      <td>Breit</td>\n",
       "    </tr>\n",
       "    <tr>\n",
       "      <th>2</th>\n",
       "      <td>Stella Breit</td>\n",
       "      <td>NaN</td>\n",
       "      <td>Asian</td>\n",
       "      <td>Stella</td>\n",
       "      <td>Breit</td>\n",
       "      <td>Stella</td>\n",
       "      <td>NaN</td>\n",
       "      <td>Breit</td>\n",
       "    </tr>\n",
       "    <tr>\n",
       "      <th>3</th>\n",
       "      <td>Julian Rizk Callahan</td>\n",
       "      <td>NaN</td>\n",
       "      <td>Asian</td>\n",
       "      <td>Julian Rizk</td>\n",
       "      <td>Callahan</td>\n",
       "      <td>Julian</td>\n",
       "      <td>Rizk</td>\n",
       "      <td>Callahan</td>\n",
       "    </tr>\n",
       "    <tr>\n",
       "      <th>4</th>\n",
       "      <td>Magnolia Ciardi</td>\n",
       "      <td>NaN</td>\n",
       "      <td>Asian</td>\n",
       "      <td>Magnolia</td>\n",
       "      <td>Ciardi</td>\n",
       "      <td>Magnolia</td>\n",
       "      <td>NaN</td>\n",
       "      <td>Ciardi</td>\n",
       "    </tr>\n",
       "  </tbody>\n",
       "</table>\n",
       "</div>"
      ],
      "text/plain": [
       "                   name  name_title ethnicity First_Name_x Last_Name_x  \\\n",
       "0       Omar M. Barakat         NaN     Asian      Omar M.     Barakat   \n",
       "1           Lucas Breit         NaN     Asian        Lucas       Breit   \n",
       "2          Stella Breit         NaN     Asian       Stella       Breit   \n",
       "3  Julian Rizk Callahan         NaN     Asian  Julian Rizk    Callahan   \n",
       "4       Magnolia Ciardi         NaN     Asian     Magnolia      Ciardi   \n",
       "\n",
       "  First_Name_y Middle_Name Last_Name_y  \n",
       "0         Omar          M.     Barakat  \n",
       "1        Lucas         NaN       Breit  \n",
       "2       Stella         NaN       Breit  \n",
       "3       Julian        Rizk    Callahan  \n",
       "4     Magnolia         NaN      Ciardi  "
      ]
     },
     "execution_count": 148,
     "metadata": {},
     "output_type": "execute_result"
    }
   ],
   "source": [
    "student_list_combined.head()"
   ]
  },
  {
   "cell_type": "code",
   "execution_count": 149,
   "metadata": {},
   "outputs": [],
   "source": [
    "student_list_combined = student_list_combined.drop(columns=['First_Name_x','Last_Name_x'], index=1)"
   ]
  },
  {
   "cell_type": "code",
   "execution_count": 150,
   "metadata": {},
   "outputs": [
    {
     "data": {
      "text/plain": [
       "Index(['name', 'name_title', 'ethnicity', 'First_Name_y', 'Middle_Name',\n",
       "       'Last_Name_y'],\n",
       "      dtype='object')"
      ]
     },
     "execution_count": 150,
     "metadata": {},
     "output_type": "execute_result"
    }
   ],
   "source": [
    "student_list_combined.columns"
   ]
  },
  {
   "cell_type": "code",
   "execution_count": 151,
   "metadata": {},
   "outputs": [],
   "source": [
    "student_list_combined.columns = ['name', 'name_title', 'ethnicity', 'First Name', 'Middle Name',\n",
    "       'Last Name']"
   ]
  },
  {
   "cell_type": "code",
   "execution_count": 152,
   "metadata": {},
   "outputs": [
    {
     "data": {
      "text/plain": [
       "Index(['name', 'name_title', 'ethnicity', 'First Name', 'Middle Name',\n",
       "       'Last Name'],\n",
       "      dtype='object')"
      ]
     },
     "execution_count": 152,
     "metadata": {},
     "output_type": "execute_result"
    }
   ],
   "source": [
    "student_list_combined.columns"
   ]
  },
  {
   "cell_type": "code",
   "execution_count": 153,
   "metadata": {},
   "outputs": [],
   "source": [
    "student_list_combined['First Name'] = student_list_combined['First Name'].str.strip()\n",
    "student_list_combined['Last Name'] = student_list_combined['Last Name'].str.strip()\n",
    "student_program['First Name'] = student_program['First Name'].str.strip()\n",
    "student_program['Last Name'] = student_program['Last Name'].str.strip()"
   ]
  },
  {
   "cell_type": "code",
   "execution_count": 154,
   "metadata": {},
   "outputs": [
    {
     "data": {
      "text/html": [
       "<div>\n",
       "<style scoped>\n",
       "    .dataframe tbody tr th:only-of-type {\n",
       "        vertical-align: middle;\n",
       "    }\n",
       "\n",
       "    .dataframe tbody tr th {\n",
       "        vertical-align: top;\n",
       "    }\n",
       "\n",
       "    .dataframe thead th {\n",
       "        text-align: right;\n",
       "    }\n",
       "</style>\n",
       "<table border=\"1\" class=\"dataframe\">\n",
       "  <thead>\n",
       "    <tr style=\"text-align: right;\">\n",
       "      <th></th>\n",
       "      <th>name</th>\n",
       "      <th>name_title</th>\n",
       "      <th>ethnicity</th>\n",
       "      <th>First Name</th>\n",
       "      <th>Middle Name</th>\n",
       "      <th>Last Name</th>\n",
       "    </tr>\n",
       "  </thead>\n",
       "  <tbody>\n",
       "    <tr>\n",
       "      <th>0</th>\n",
       "      <td>Omar M. Barakat</td>\n",
       "      <td>NaN</td>\n",
       "      <td>Asian</td>\n",
       "      <td>Omar</td>\n",
       "      <td>M.</td>\n",
       "      <td>Barakat</td>\n",
       "    </tr>\n",
       "    <tr>\n",
       "      <th>2</th>\n",
       "      <td>Stella Breit</td>\n",
       "      <td>NaN</td>\n",
       "      <td>Asian</td>\n",
       "      <td>Stella</td>\n",
       "      <td>NaN</td>\n",
       "      <td>Breit</td>\n",
       "    </tr>\n",
       "    <tr>\n",
       "      <th>3</th>\n",
       "      <td>Julian Rizk Callahan</td>\n",
       "      <td>NaN</td>\n",
       "      <td>Asian</td>\n",
       "      <td>Julian</td>\n",
       "      <td>Rizk</td>\n",
       "      <td>Callahan</td>\n",
       "    </tr>\n",
       "    <tr>\n",
       "      <th>4</th>\n",
       "      <td>Magnolia Ciardi</td>\n",
       "      <td>NaN</td>\n",
       "      <td>Asian</td>\n",
       "      <td>Magnolia</td>\n",
       "      <td>NaN</td>\n",
       "      <td>Ciardi</td>\n",
       "    </tr>\n",
       "    <tr>\n",
       "      <th>5</th>\n",
       "      <td>Nelson D Ciardi</td>\n",
       "      <td>NaN</td>\n",
       "      <td>Asian</td>\n",
       "      <td>Nelson</td>\n",
       "      <td>D</td>\n",
       "      <td>Ciardi</td>\n",
       "    </tr>\n",
       "  </tbody>\n",
       "</table>\n",
       "</div>"
      ],
      "text/plain": [
       "                   name  name_title ethnicity First Name Middle Name Last Name\n",
       "0       Omar M. Barakat         NaN     Asian       Omar          M.   Barakat\n",
       "2          Stella Breit         NaN     Asian     Stella         NaN     Breit\n",
       "3  Julian Rizk Callahan         NaN     Asian     Julian        Rizk  Callahan\n",
       "4       Magnolia Ciardi         NaN     Asian   Magnolia         NaN    Ciardi\n",
       "5       Nelson D Ciardi         NaN     Asian     Nelson           D    Ciardi"
      ]
     },
     "execution_count": 154,
     "metadata": {},
     "output_type": "execute_result"
    }
   ],
   "source": [
    "student_list_combined.head()"
   ]
  },
  {
   "cell_type": "code",
   "execution_count": 155,
   "metadata": {},
   "outputs": [
    {
     "data": {
      "text/html": [
       "<div>\n",
       "<style scoped>\n",
       "    .dataframe tbody tr th:only-of-type {\n",
       "        vertical-align: middle;\n",
       "    }\n",
       "\n",
       "    .dataframe tbody tr th {\n",
       "        vertical-align: top;\n",
       "    }\n",
       "\n",
       "    .dataframe thead th {\n",
       "        text-align: right;\n",
       "    }\n",
       "</style>\n",
       "<table border=\"1\" class=\"dataframe\">\n",
       "  <thead>\n",
       "    <tr style=\"text-align: right;\">\n",
       "      <th></th>\n",
       "      <th>Person ID</th>\n",
       "      <th>Full Name</th>\n",
       "      <th>Current Grade</th>\n",
       "      <th>Ethnicity</th>\n",
       "      <th>Enrollment Status</th>\n",
       "      <th>Roles</th>\n",
       "      <th>Last Name</th>\n",
       "      <th>First Name</th>\n",
       "    </tr>\n",
       "  </thead>\n",
       "  <tbody>\n",
       "    <tr>\n",
       "      <th>0</th>\n",
       "      <td>100314.0</td>\n",
       "      <td>Bechard, Declan</td>\n",
       "      <td>Toddler</td>\n",
       "      <td>Caucasian</td>\n",
       "      <td>EN: Newly Enrolled</td>\n",
       "      <td>Student (T), Prg Stud</td>\n",
       "      <td>Bechard</td>\n",
       "      <td>Declan</td>\n",
       "    </tr>\n",
       "    <tr>\n",
       "      <th>1</th>\n",
       "      <td>100318.0</td>\n",
       "      <td>Carrigan, JonMateo</td>\n",
       "      <td>Toddler</td>\n",
       "      <td>Multi-racial</td>\n",
       "      <td>EN: Newly Enrolled</td>\n",
       "      <td>Student (T), Prg Stud</td>\n",
       "      <td>Carrigan</td>\n",
       "      <td>JonMateo</td>\n",
       "    </tr>\n",
       "    <tr>\n",
       "      <th>2</th>\n",
       "      <td>100319.0</td>\n",
       "      <td>Ciardi, Nelson</td>\n",
       "      <td>Toddler</td>\n",
       "      <td>Asian</td>\n",
       "      <td>EN: Newly Enrolled</td>\n",
       "      <td>Student (T), Prg Stud</td>\n",
       "      <td>Ciardi</td>\n",
       "      <td>Nelson</td>\n",
       "    </tr>\n",
       "    <tr>\n",
       "      <th>3</th>\n",
       "      <td>100320.0</td>\n",
       "      <td>Elkington, Max</td>\n",
       "      <td>Toddler</td>\n",
       "      <td>Caucasian</td>\n",
       "      <td>EN: Newly Enrolled</td>\n",
       "      <td>Student (T), Prg Stud</td>\n",
       "      <td>Elkington</td>\n",
       "      <td>Max</td>\n",
       "    </tr>\n",
       "    <tr>\n",
       "      <th>4</th>\n",
       "      <td>100354.0</td>\n",
       "      <td>Gaster, Eve</td>\n",
       "      <td>Toddler</td>\n",
       "      <td>&lt;None Specified&gt;</td>\n",
       "      <td>EN: Newly Enrolled</td>\n",
       "      <td>Student (T)</td>\n",
       "      <td>Gaster</td>\n",
       "      <td>Eve</td>\n",
       "    </tr>\n",
       "  </tbody>\n",
       "</table>\n",
       "</div>"
      ],
      "text/plain": [
       "   Person ID           Full Name Current Grade         Ethnicity  \\\n",
       "0   100314.0     Bechard, Declan       Toddler         Caucasian   \n",
       "1   100318.0  Carrigan, JonMateo       Toddler      Multi-racial   \n",
       "2   100319.0      Ciardi, Nelson       Toddler             Asian   \n",
       "3   100320.0      Elkington, Max       Toddler         Caucasian   \n",
       "4   100354.0         Gaster, Eve       Toddler  <None Specified>   \n",
       "\n",
       "    Enrollment Status                  Roles  Last Name First Name  \n",
       "0  EN: Newly Enrolled  Student (T), Prg Stud    Bechard     Declan  \n",
       "1  EN: Newly Enrolled  Student (T), Prg Stud   Carrigan   JonMateo  \n",
       "2  EN: Newly Enrolled  Student (T), Prg Stud     Ciardi     Nelson  \n",
       "3  EN: Newly Enrolled  Student (T), Prg Stud  Elkington        Max  \n",
       "4  EN: Newly Enrolled            Student (T)     Gaster        Eve  "
      ]
     },
     "execution_count": 155,
     "metadata": {},
     "output_type": "execute_result"
    }
   ],
   "source": [
    "student_program.head()"
   ]
  },
  {
   "cell_type": "code",
   "execution_count": 159,
   "metadata": {},
   "outputs": [],
   "source": [
    "combined_student_list = pd.merge(student_program, student_list_combined, how='left',\n",
    "                                 on =['First Name','Last Name'])"
   ]
  },
  {
   "cell_type": "code",
   "execution_count": 160,
   "metadata": {},
   "outputs": [
    {
     "data": {
      "text/plain": [
       "(365, 12)"
      ]
     },
     "execution_count": 160,
     "metadata": {},
     "output_type": "execute_result"
    }
   ],
   "source": [
    "combined_student_list.shape"
   ]
  },
  {
   "cell_type": "code",
   "execution_count": 174,
   "metadata": {},
   "outputs": [
    {
     "data": {
      "text/html": [
       "<div>\n",
       "<style scoped>\n",
       "    .dataframe tbody tr th:only-of-type {\n",
       "        vertical-align: middle;\n",
       "    }\n",
       "\n",
       "    .dataframe tbody tr th {\n",
       "        vertical-align: top;\n",
       "    }\n",
       "\n",
       "    .dataframe thead th {\n",
       "        text-align: right;\n",
       "    }\n",
       "</style>\n",
       "<table border=\"1\" class=\"dataframe\">\n",
       "  <thead>\n",
       "    <tr style=\"text-align: right;\">\n",
       "      <th></th>\n",
       "      <th>Person ID</th>\n",
       "      <th>Full Name</th>\n",
       "      <th>Current Grade</th>\n",
       "      <th>Ethnicity</th>\n",
       "      <th>Enrollment Status</th>\n",
       "      <th>Roles</th>\n",
       "      <th>Last Name</th>\n",
       "      <th>First Name</th>\n",
       "      <th>name</th>\n",
       "      <th>name_title</th>\n",
       "      <th>ethnicity</th>\n",
       "      <th>Middle Name</th>\n",
       "    </tr>\n",
       "  </thead>\n",
       "  <tbody>\n",
       "    <tr>\n",
       "      <th>0</th>\n",
       "      <td>100314.0</td>\n",
       "      <td>Bechard, Declan</td>\n",
       "      <td>Toddler</td>\n",
       "      <td>Caucasian</td>\n",
       "      <td>EN: Newly Enrolled</td>\n",
       "      <td>Student (T), Prg Stud</td>\n",
       "      <td>Bechard</td>\n",
       "      <td>Declan</td>\n",
       "      <td>Declan Bechard</td>\n",
       "      <td>NaN</td>\n",
       "      <td>White</td>\n",
       "      <td>NaN</td>\n",
       "    </tr>\n",
       "    <tr>\n",
       "      <th>1</th>\n",
       "      <td>100318.0</td>\n",
       "      <td>Carrigan, JonMateo</td>\n",
       "      <td>Toddler</td>\n",
       "      <td>Multi-racial</td>\n",
       "      <td>EN: Newly Enrolled</td>\n",
       "      <td>Student (T), Prg Stud</td>\n",
       "      <td>Carrigan</td>\n",
       "      <td>JonMateo</td>\n",
       "      <td>NaN</td>\n",
       "      <td>NaN</td>\n",
       "      <td>NaN</td>\n",
       "      <td>NaN</td>\n",
       "    </tr>\n",
       "    <tr>\n",
       "      <th>2</th>\n",
       "      <td>100319.0</td>\n",
       "      <td>Ciardi, Nelson</td>\n",
       "      <td>Toddler</td>\n",
       "      <td>Asian</td>\n",
       "      <td>EN: Newly Enrolled</td>\n",
       "      <td>Student (T), Prg Stud</td>\n",
       "      <td>Ciardi</td>\n",
       "      <td>Nelson</td>\n",
       "      <td>Nelson D Ciardi</td>\n",
       "      <td>NaN</td>\n",
       "      <td>Asian</td>\n",
       "      <td>D</td>\n",
       "    </tr>\n",
       "    <tr>\n",
       "      <th>3</th>\n",
       "      <td>100320.0</td>\n",
       "      <td>Elkington, Max</td>\n",
       "      <td>Toddler</td>\n",
       "      <td>Caucasian</td>\n",
       "      <td>EN: Newly Enrolled</td>\n",
       "      <td>Student (T), Prg Stud</td>\n",
       "      <td>Elkington</td>\n",
       "      <td>Max</td>\n",
       "      <td>Max Elkington</td>\n",
       "      <td>NaN</td>\n",
       "      <td>White</td>\n",
       "      <td>NaN</td>\n",
       "    </tr>\n",
       "    <tr>\n",
       "      <th>4</th>\n",
       "      <td>100354.0</td>\n",
       "      <td>Gaster, Eve</td>\n",
       "      <td>Toddler</td>\n",
       "      <td>&lt;None Specified&gt;</td>\n",
       "      <td>EN: Newly Enrolled</td>\n",
       "      <td>Student (T)</td>\n",
       "      <td>Gaster</td>\n",
       "      <td>Eve</td>\n",
       "      <td>Eve Gaster</td>\n",
       "      <td>NaN</td>\n",
       "      <td>Prefer Not To Answer</td>\n",
       "      <td>NaN</td>\n",
       "    </tr>\n",
       "  </tbody>\n",
       "</table>\n",
       "</div>"
      ],
      "text/plain": [
       "   Person ID           Full Name Current Grade         Ethnicity  \\\n",
       "0   100314.0     Bechard, Declan       Toddler         Caucasian   \n",
       "1   100318.0  Carrigan, JonMateo       Toddler      Multi-racial   \n",
       "2   100319.0      Ciardi, Nelson       Toddler             Asian   \n",
       "3   100320.0      Elkington, Max       Toddler         Caucasian   \n",
       "4   100354.0         Gaster, Eve       Toddler  <None Specified>   \n",
       "\n",
       "    Enrollment Status                  Roles  Last Name First Name  \\\n",
       "0  EN: Newly Enrolled  Student (T), Prg Stud    Bechard     Declan   \n",
       "1  EN: Newly Enrolled  Student (T), Prg Stud   Carrigan   JonMateo   \n",
       "2  EN: Newly Enrolled  Student (T), Prg Stud     Ciardi     Nelson   \n",
       "3  EN: Newly Enrolled  Student (T), Prg Stud  Elkington        Max   \n",
       "4  EN: Newly Enrolled            Student (T)     Gaster        Eve   \n",
       "\n",
       "              name  name_title             ethnicity Middle Name  \n",
       "0   Declan Bechard         NaN                 White         NaN  \n",
       "1              NaN         NaN                   NaN         NaN  \n",
       "2  Nelson D Ciardi         NaN                 Asian           D  \n",
       "3    Max Elkington         NaN                 White         NaN  \n",
       "4       Eve Gaster         NaN  Prefer Not To Answer         NaN  "
      ]
     },
     "execution_count": 174,
     "metadata": {},
     "output_type": "execute_result"
    }
   ],
   "source": [
    "combined_student_list.head()"
   ]
  },
  {
   "cell_type": "code",
   "execution_count": 168,
   "metadata": {},
   "outputs": [],
   "source": [
    "combined_student_list = combined_student_list.dropna(how='all')"
   ]
  },
  {
   "cell_type": "code",
   "execution_count": 172,
   "metadata": {},
   "outputs": [],
   "source": [
    "# combined_student_list[combined_student_list['ethnicity'].isnull()]"
   ]
  },
  {
   "cell_type": "code",
   "execution_count": 173,
   "metadata": {},
   "outputs": [
    {
     "data": {
      "text/plain": [
       "Index(['Person ID', 'Full Name', 'Current Grade', 'Ethnicity',\n",
       "       'Enrollment Status', 'Roles', 'Last Name', 'First Name', 'name',\n",
       "       'name_title', 'ethnicity', 'Middle Name'],\n",
       "      dtype='object')"
      ]
     },
     "execution_count": 173,
     "metadata": {},
     "output_type": "execute_result"
    }
   ],
   "source": [
    "combined_student_list.columns"
   ]
  },
  {
   "cell_type": "code",
   "execution_count": 175,
   "metadata": {},
   "outputs": [],
   "source": [
    "final_student_list = combined_student_list[['First Name', 'Last Name', 'ethnicity', 'Current Grade']]"
   ]
  },
  {
   "cell_type": "code",
   "execution_count": 183,
   "metadata": {},
   "outputs": [
    {
     "data": {
      "text/plain": [
       "(361, 4)"
      ]
     },
     "execution_count": 183,
     "metadata": {},
     "output_type": "execute_result"
    }
   ],
   "source": [
    "final_student_list.shape"
   ]
  },
  {
   "cell_type": "code",
   "execution_count": 177,
   "metadata": {},
   "outputs": [],
   "source": [
    "final_student_list.to_csv('data/final_student_list.csv', index=False)"
   ]
  },
  {
   "cell_type": "code",
   "execution_count": 180,
   "metadata": {},
   "outputs": [
    {
     "data": {
      "text/plain": [
       "(323, 4)"
      ]
     },
     "execution_count": 180,
     "metadata": {},
     "output_type": "execute_result"
    }
   ],
   "source": [
    "final_student_list[~final_student_list['ethnicity'].isnull()].shape"
   ]
  },
  {
   "cell_type": "code",
   "execution_count": null,
   "metadata": {},
   "outputs": [],
   "source": [
    "final_student_list['ethnicity'].value_counts()"
   ]
  },
  {
   "cell_type": "markdown",
   "metadata": {},
   "source": [
    "## Map"
   ]
  },
  {
   "cell_type": "code",
   "execution_count": 8,
   "metadata": {},
   "outputs": [],
   "source": [
    "import geopandas as gpd\n",
    "import matplotlib.pyplot as plt\n",
    "import pyproj\n",
    "import plotly.graph_objs as go"
   ]
  },
  {
   "cell_type": "code",
   "execution_count": 9,
   "metadata": {},
   "outputs": [],
   "source": [
    "chi_zips = gpd.read_file(r\"Boundaries - ZIP Codes/geo_export_a9707f61-f834-4e7b-b8a5-0f0ff4c8412d.shp\")\n"
   ]
  },
  {
   "cell_type": "code",
   "execution_count": 10,
   "metadata": {},
   "outputs": [],
   "source": [
    "map_df = chi_zips \n",
    "map_df.to_crs(pyproj.CRS.from_epsg(4326), inplace=True)"
   ]
  },
  {
   "cell_type": "code",
   "execution_count": 12,
   "metadata": {},
   "outputs": [
    {
     "data": {
      "text/html": [
       "<div>\n",
       "<style scoped>\n",
       "    .dataframe tbody tr th:only-of-type {\n",
       "        vertical-align: middle;\n",
       "    }\n",
       "\n",
       "    .dataframe tbody tr th {\n",
       "        vertical-align: top;\n",
       "    }\n",
       "\n",
       "    .dataframe thead th {\n",
       "        text-align: right;\n",
       "    }\n",
       "</style>\n",
       "<table border=\"1\" class=\"dataframe\">\n",
       "  <thead>\n",
       "    <tr style=\"text-align: right;\">\n",
       "      <th></th>\n",
       "      <th>objectid</th>\n",
       "      <th>shape_area</th>\n",
       "      <th>shape_len</th>\n",
       "      <th>zip</th>\n",
       "      <th>geometry</th>\n",
       "    </tr>\n",
       "  </thead>\n",
       "  <tbody>\n",
       "    <tr>\n",
       "      <th>0</th>\n",
       "      <td>33.0</td>\n",
       "      <td>1.060523e+08</td>\n",
       "      <td>42720.044406</td>\n",
       "      <td>60647</td>\n",
       "      <td>POLYGON ((-87.67762 41.91776, -87.67761 41.917...</td>\n",
       "    </tr>\n",
       "    <tr>\n",
       "      <th>1</th>\n",
       "      <td>34.0</td>\n",
       "      <td>1.274761e+08</td>\n",
       "      <td>48103.782721</td>\n",
       "      <td>60639</td>\n",
       "      <td>POLYGON ((-87.72683 41.92265, -87.72693 41.922...</td>\n",
       "    </tr>\n",
       "    <tr>\n",
       "      <th>2</th>\n",
       "      <td>35.0</td>\n",
       "      <td>4.506904e+07</td>\n",
       "      <td>27288.609612</td>\n",
       "      <td>60707</td>\n",
       "      <td>POLYGON ((-87.78500 41.90915, -87.78531 41.909...</td>\n",
       "    </tr>\n",
       "    <tr>\n",
       "      <th>3</th>\n",
       "      <td>36.0</td>\n",
       "      <td>7.085383e+07</td>\n",
       "      <td>42527.989679</td>\n",
       "      <td>60622</td>\n",
       "      <td>POLYGON ((-87.66707 41.88885, -87.66707 41.888...</td>\n",
       "    </tr>\n",
       "    <tr>\n",
       "      <th>4</th>\n",
       "      <td>37.0</td>\n",
       "      <td>9.903962e+07</td>\n",
       "      <td>47970.140153</td>\n",
       "      <td>60651</td>\n",
       "      <td>POLYGON ((-87.70656 41.89555, -87.70672 41.895...</td>\n",
       "    </tr>\n",
       "  </tbody>\n",
       "</table>\n",
       "</div>"
      ],
      "text/plain": [
       "   objectid    shape_area     shape_len    zip  \\\n",
       "0      33.0  1.060523e+08  42720.044406  60647   \n",
       "1      34.0  1.274761e+08  48103.782721  60639   \n",
       "2      35.0  4.506904e+07  27288.609612  60707   \n",
       "3      36.0  7.085383e+07  42527.989679  60622   \n",
       "4      37.0  9.903962e+07  47970.140153  60651   \n",
       "\n",
       "                                            geometry  \n",
       "0  POLYGON ((-87.67762 41.91776, -87.67761 41.917...  \n",
       "1  POLYGON ((-87.72683 41.92265, -87.72693 41.922...  \n",
       "2  POLYGON ((-87.78500 41.90915, -87.78531 41.909...  \n",
       "3  POLYGON ((-87.66707 41.88885, -87.66707 41.888...  \n",
       "4  POLYGON ((-87.70656 41.89555, -87.70672 41.895...  "
      ]
     },
     "execution_count": 12,
     "metadata": {},
     "output_type": "execute_result"
    }
   ],
   "source": [
    "map_df.head()"
   ]
  },
  {
   "cell_type": "code",
   "execution_count": 15,
   "metadata": {},
   "outputs": [],
   "source": [
    "import folium\n",
    "import branca.colormap as cm"
   ]
  },
  {
   "cell_type": "code",
   "execution_count": 16,
   "metadata": {},
   "outputs": [
    {
     "name": "stderr",
     "output_type": "stream",
     "text": [
      "<ipython-input-16-e3ebea0728f0>:1: UserWarning: Geometry is in a geographic CRS. Results from 'centroid' are likely incorrect. Use 'GeoSeries.to_crs()' to re-project geometries to a projected CRS before this operation.\n",
      "\n",
      "  x_map=map_df.centroid.x.mean()\n",
      "<ipython-input-16-e3ebea0728f0>:2: UserWarning: Geometry is in a geographic CRS. Results from 'centroid' are likely incorrect. Use 'GeoSeries.to_crs()' to re-project geometries to a projected CRS before this operation.\n",
      "\n",
      "  y_map=map_df.centroid.y.mean()\n"
     ]
    }
   ],
   "source": [
    "x_map=map_df.centroid.x.mean()-1\n",
    "y_map=map_df.centroid.y.mean()-1"
   ]
  },
  {
   "cell_type": "code",
   "execution_count": 25,
   "metadata": {},
   "outputs": [
    {
     "data": {
      "text/html": [
       "<div style=\"width:100%;\"><div style=\"position:relative;width:100%;height:0;padding-bottom:60%;\"><span style=\"color:#565656\">Make this Notebook Trusted to load map: File -> Trust Notebook</span><iframe src=\"about:blank\" style=\"position:absolute;width:100%;height:100%;left:0;top:0;border:none !important;\" data-html=%3C%21DOCTYPE%20html%3E%0A%3Chead%3E%20%20%20%20%0A%20%20%20%20%3Cmeta%20http-equiv%3D%22content-type%22%20content%3D%22text/html%3B%20charset%3DUTF-8%22%20/%3E%0A%20%20%20%20%0A%20%20%20%20%20%20%20%20%3Cscript%3E%0A%20%20%20%20%20%20%20%20%20%20%20%20L_NO_TOUCH%20%3D%20false%3B%0A%20%20%20%20%20%20%20%20%20%20%20%20L_DISABLE_3D%20%3D%20false%3B%0A%20%20%20%20%20%20%20%20%3C/script%3E%0A%20%20%20%20%0A%20%20%20%20%3Cstyle%3Ehtml%2C%20body%20%7Bwidth%3A%20100%25%3Bheight%3A%20100%25%3Bmargin%3A%200%3Bpadding%3A%200%3B%7D%3C/style%3E%0A%20%20%20%20%3Cstyle%3E%23map%20%7Bposition%3Aabsolute%3Btop%3A0%3Bbottom%3A0%3Bright%3A0%3Bleft%3A0%3B%7D%3C/style%3E%0A%20%20%20%20%3Cscript%20src%3D%22https%3A//cdn.jsdelivr.net/npm/leaflet%401.6.0/dist/leaflet.js%22%3E%3C/script%3E%0A%20%20%20%20%3Cscript%20src%3D%22https%3A//code.jquery.com/jquery-1.12.4.min.js%22%3E%3C/script%3E%0A%20%20%20%20%3Cscript%20src%3D%22https%3A//maxcdn.bootstrapcdn.com/bootstrap/3.2.0/js/bootstrap.min.js%22%3E%3C/script%3E%0A%20%20%20%20%3Cscript%20src%3D%22https%3A//cdnjs.cloudflare.com/ajax/libs/Leaflet.awesome-markers/2.0.2/leaflet.awesome-markers.js%22%3E%3C/script%3E%0A%20%20%20%20%3Clink%20rel%3D%22stylesheet%22%20href%3D%22https%3A//cdn.jsdelivr.net/npm/leaflet%401.6.0/dist/leaflet.css%22/%3E%0A%20%20%20%20%3Clink%20rel%3D%22stylesheet%22%20href%3D%22https%3A//maxcdn.bootstrapcdn.com/bootstrap/3.2.0/css/bootstrap.min.css%22/%3E%0A%20%20%20%20%3Clink%20rel%3D%22stylesheet%22%20href%3D%22https%3A//maxcdn.bootstrapcdn.com/bootstrap/3.2.0/css/bootstrap-theme.min.css%22/%3E%0A%20%20%20%20%3Clink%20rel%3D%22stylesheet%22%20href%3D%22https%3A//maxcdn.bootstrapcdn.com/font-awesome/4.6.3/css/font-awesome.min.css%22/%3E%0A%20%20%20%20%3Clink%20rel%3D%22stylesheet%22%20href%3D%22https%3A//cdnjs.cloudflare.com/ajax/libs/Leaflet.awesome-markers/2.0.2/leaflet.awesome-markers.css%22/%3E%0A%20%20%20%20%3Clink%20rel%3D%22stylesheet%22%20href%3D%22https%3A//cdn.jsdelivr.net/gh/python-visualization/folium/folium/templates/leaflet.awesome.rotate.min.css%22/%3E%0A%20%20%20%20%0A%20%20%20%20%20%20%20%20%20%20%20%20%3Cmeta%20name%3D%22viewport%22%20content%3D%22width%3Ddevice-width%2C%0A%20%20%20%20%20%20%20%20%20%20%20%20%20%20%20%20initial-scale%3D1.0%2C%20maximum-scale%3D1.0%2C%20user-scalable%3Dno%22%20/%3E%0A%20%20%20%20%20%20%20%20%20%20%20%20%3Cstyle%3E%0A%20%20%20%20%20%20%20%20%20%20%20%20%20%20%20%20%23map_46d03b768c834003aebac9dbd9623ab7%20%7B%0A%20%20%20%20%20%20%20%20%20%20%20%20%20%20%20%20%20%20%20%20position%3A%20relative%3B%0A%20%20%20%20%20%20%20%20%20%20%20%20%20%20%20%20%20%20%20%20width%3A%20100.0%25%3B%0A%20%20%20%20%20%20%20%20%20%20%20%20%20%20%20%20%20%20%20%20height%3A%20100.0%25%3B%0A%20%20%20%20%20%20%20%20%20%20%20%20%20%20%20%20%20%20%20%20left%3A%200.0%25%3B%0A%20%20%20%20%20%20%20%20%20%20%20%20%20%20%20%20%20%20%20%20top%3A%200.0%25%3B%0A%20%20%20%20%20%20%20%20%20%20%20%20%20%20%20%20%7D%0A%20%20%20%20%20%20%20%20%20%20%20%20%3C/style%3E%0A%20%20%20%20%20%20%20%20%0A%3C/head%3E%0A%3Cbody%3E%20%20%20%20%0A%20%20%20%20%0A%20%20%20%20%20%20%20%20%20%20%20%20%3Cdiv%20class%3D%22folium-map%22%20id%3D%22map_46d03b768c834003aebac9dbd9623ab7%22%20%3E%3C/div%3E%0A%20%20%20%20%20%20%20%20%0A%3C/body%3E%0A%3Cscript%3E%20%20%20%20%0A%20%20%20%20%0A%20%20%20%20%20%20%20%20%20%20%20%20var%20map_46d03b768c834003aebac9dbd9623ab7%20%3D%20L.map%28%0A%20%20%20%20%20%20%20%20%20%20%20%20%20%20%20%20%22map_46d03b768c834003aebac9dbd9623ab7%22%2C%0A%20%20%20%20%20%20%20%20%20%20%20%20%20%20%20%20%7B%0A%20%20%20%20%20%20%20%20%20%20%20%20%20%20%20%20%20%20%20%20center%3A%20%5B41.86444427823137%2C%20-87.68069815738576%5D%2C%0A%20%20%20%20%20%20%20%20%20%20%20%20%20%20%20%20%20%20%20%20crs%3A%20L.CRS.EPSG3857%2C%0A%20%20%20%20%20%20%20%20%20%20%20%20%20%20%20%20%20%20%20%20zoom%3A%2012%2C%0A%20%20%20%20%20%20%20%20%20%20%20%20%20%20%20%20%20%20%20%20zoomControl%3A%20true%2C%0A%20%20%20%20%20%20%20%20%20%20%20%20%20%20%20%20%20%20%20%20preferCanvas%3A%20false%2C%0A%20%20%20%20%20%20%20%20%20%20%20%20%20%20%20%20%7D%0A%20%20%20%20%20%20%20%20%20%20%20%20%29%3B%0A%0A%20%20%20%20%20%20%20%20%20%20%20%20%0A%0A%20%20%20%20%20%20%20%20%0A%20%20%20%20%0A%20%20%20%20%20%20%20%20%20%20%20%20var%20tile_layer_62cbe949fcf14ef296ab72897bfcf867%20%3D%20L.tileLayer%28%0A%20%20%20%20%20%20%20%20%20%20%20%20%20%20%20%20%22https%3A//cartodb-basemaps-%7Bs%7D.global.ssl.fastly.net/light_all/%7Bz%7D/%7Bx%7D/%7By%7D.png%22%2C%0A%20%20%20%20%20%20%20%20%20%20%20%20%20%20%20%20%7B%22attribution%22%3A%20%22%5Cu0026copy%3B%20%5Cu003ca%20href%3D%5C%22http%3A//www.openstreetmap.org/copyright%5C%22%5Cu003eOpenStreetMap%5Cu003c/a%5Cu003e%20contributors%20%5Cu0026copy%3B%20%5Cu003ca%20href%3D%5C%22http%3A//cartodb.com/attributions%5C%22%5Cu003eCartoDB%5Cu003c/a%5Cu003e%2C%20CartoDB%20%5Cu003ca%20href%20%3D%5C%22http%3A//cartodb.com/attributions%5C%22%5Cu003eattributions%5Cu003c/a%5Cu003e%22%2C%20%22detectRetina%22%3A%20false%2C%20%22maxNativeZoom%22%3A%2018%2C%20%22maxZoom%22%3A%2018%2C%20%22minZoom%22%3A%200%2C%20%22noWrap%22%3A%20false%2C%20%22opacity%22%3A%201%2C%20%22subdomains%22%3A%20%22abc%22%2C%20%22tms%22%3A%20false%7D%0A%20%20%20%20%20%20%20%20%20%20%20%20%29.addTo%28map_46d03b768c834003aebac9dbd9623ab7%29%3B%0A%20%20%20%20%20%20%20%20%0A%3C/script%3E onload=\"this.contentDocument.open();this.contentDocument.write(    decodeURIComponent(this.getAttribute('data-html')));this.contentDocument.close();\" allowfullscreen webkitallowfullscreen mozallowfullscreen></iframe></div></div>"
      ],
      "text/plain": [
       "<folium.folium.Map at 0x7fa730d1d4f0>"
      ]
     },
     "execution_count": 25,
     "metadata": {},
     "output_type": "execute_result"
    }
   ],
   "source": [
    "mymap = folium.Map(location=[y_map, x_map], zoom_start=12,tiles=None)\n",
    "folium.TileLayer('CartoDB positron',name=\"Light Map\",control=False).add_to(mymap)\n",
    "mymap"
   ]
  },
  {
   "cell_type": "code",
   "execution_count": null,
   "metadata": {},
   "outputs": [],
   "source": []
  }
 ],
 "metadata": {
  "kernelspec": {
   "display_name": "Python 3",
   "language": "python",
   "name": "python3"
  },
  "language_info": {
   "codemirror_mode": {
    "name": "ipython",
    "version": 3
   },
   "file_extension": ".py",
   "mimetype": "text/x-python",
   "name": "python",
   "nbconvert_exporter": "python",
   "pygments_lexer": "ipython3",
   "version": "3.8.3"
  }
 },
 "nbformat": 4,
 "nbformat_minor": 4
}
