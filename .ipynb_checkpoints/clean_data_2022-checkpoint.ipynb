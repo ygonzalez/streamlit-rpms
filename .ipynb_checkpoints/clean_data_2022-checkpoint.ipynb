{
 "cells": [
  {
   "cell_type": "code",
   "execution_count": 2,
   "id": "2ea2d58a-c062-4cd1-b58b-4dd1b7c3a6b9",
   "metadata": {},
   "outputs": [],
   "source": [
    "import pandas as pd"
   ]
  },
  {
   "cell_type": "markdown",
   "id": "94941ae3-e89b-421e-bc82-53f6eef36982",
   "metadata": {},
   "source": [
    "## Import Old Files\n",
    "- data/Historical Demographic Data.csv\n",
    "- data/final_student_list.csv\n",
    "- Boundaries - ZIP Codes/geo_export_a9707f61-f834-4e7b-b8a5-0f0ff4c8412d.shp\n",
    "- data/zip_demos.csv\n",
    "- data/student_locations.csv"
   ]
  },
  {
   "cell_type": "code",
   "execution_count": 59,
   "id": "e911cec0-afa0-4760-ab8c-b622920c3e39",
   "metadata": {},
   "outputs": [
    {
     "data": {
      "text/html": [
       "<div>\n",
       "<style scoped>\n",
       "    .dataframe tbody tr th:only-of-type {\n",
       "        vertical-align: middle;\n",
       "    }\n",
       "\n",
       "    .dataframe tbody tr th {\n",
       "        vertical-align: top;\n",
       "    }\n",
       "\n",
       "    .dataframe thead th {\n",
       "        text-align: right;\n",
       "    }\n",
       "</style>\n",
       "<table border=\"1\" class=\"dataframe\">\n",
       "  <thead>\n",
       "    <tr style=\"text-align: right;\">\n",
       "      <th></th>\n",
       "      <th>Year</th>\n",
       "      <th>Enrollment</th>\n",
       "      <th>White</th>\n",
       "      <th>Asian</th>\n",
       "      <th>African American</th>\n",
       "      <th>Latino</th>\n",
       "      <th>Multi-racial</th>\n",
       "      <th>Prefer Not To Answer</th>\n",
       "      <th>total non-white</th>\n",
       "      <th>Percent</th>\n",
       "      <th>Same Gender Parents</th>\n",
       "      <th>White %</th>\n",
       "      <th>Asian %</th>\n",
       "      <th>African American %</th>\n",
       "      <th>Latino %</th>\n",
       "      <th>Multi-racial %</th>\n",
       "    </tr>\n",
       "  </thead>\n",
       "  <tbody>\n",
       "    <tr>\n",
       "      <th>0</th>\n",
       "      <td>2008-2009</td>\n",
       "      <td>295</td>\n",
       "      <td>236</td>\n",
       "      <td>30</td>\n",
       "      <td>6</td>\n",
       "      <td>23</td>\n",
       "      <td>0</td>\n",
       "      <td>NaN</td>\n",
       "      <td>59</td>\n",
       "      <td>20.00</td>\n",
       "      <td>4.0</td>\n",
       "      <td>80.00</td>\n",
       "      <td>10.17</td>\n",
       "      <td>2.03</td>\n",
       "      <td>7.80</td>\n",
       "      <td>0.0</td>\n",
       "    </tr>\n",
       "    <tr>\n",
       "      <th>1</th>\n",
       "      <td>2009-2010</td>\n",
       "      <td>316</td>\n",
       "      <td>257</td>\n",
       "      <td>30</td>\n",
       "      <td>7</td>\n",
       "      <td>22</td>\n",
       "      <td>0</td>\n",
       "      <td>NaN</td>\n",
       "      <td>59</td>\n",
       "      <td>18.67</td>\n",
       "      <td>6.0</td>\n",
       "      <td>81.33</td>\n",
       "      <td>9.49</td>\n",
       "      <td>2.22</td>\n",
       "      <td>6.96</td>\n",
       "      <td>0.0</td>\n",
       "    </tr>\n",
       "  </tbody>\n",
       "</table>\n",
       "</div>"
      ],
      "text/plain": [
       "         Year  Enrollment  White  Asian  African American  Latino  \\\n",
       "0  2008-2009          295    236     30                 6      23   \n",
       "1  2009-2010          316    257     30                 7      22   \n",
       "\n",
       "   Multi-racial  Prefer Not To Answer  total non-white  Percent  \\\n",
       "0             0                   NaN               59    20.00   \n",
       "1             0                   NaN               59    18.67   \n",
       "\n",
       "   Same Gender Parents  White %  Asian %  African American %  Latino %  \\\n",
       "0                  4.0    80.00    10.17                2.03      7.80   \n",
       "1                  6.0    81.33     9.49                2.22      6.96   \n",
       "\n",
       "   Multi-racial %  \n",
       "0             0.0  \n",
       "1             0.0  "
      ]
     },
     "execution_count": 59,
     "metadata": {},
     "output_type": "execute_result"
    }
   ],
   "source": [
    "demo_hist = pd.read_csv('data/Historical Demographic Data.csv')\n",
    "demo_hist.drop('Unnamed: 8', inplace=True, axis=1)\n",
    "demo_hist.head(2)"
   ]
  },
  {
   "cell_type": "code",
   "execution_count": 60,
   "id": "e2384241-ee65-496a-8bed-2375a7a85f7c",
   "metadata": {},
   "outputs": [
    {
     "data": {
      "text/plain": [
       "2008-2009     1\n",
       "2009-2010     1\n",
       "2010-2011     1\n",
       "2011-2012     1\n",
       "2012-2013     1\n",
       "2013-2014     1\n",
       "2014-2015     1\n",
       "2015-2016     1\n",
       "2016-2017     1\n",
       "2017-2018     1\n",
       "2018-2019     1\n",
       "2019-2020     1\n",
       "2020-2021     1\n",
       "2021-2022     1\n",
       "2022-2023     1\n",
       "Name: Year, dtype: int64"
      ]
     },
     "execution_count": 60,
     "metadata": {},
     "output_type": "execute_result"
    }
   ],
   "source": [
    "demo_hist.Year.value_counts()"
   ]
  },
  {
   "cell_type": "code",
   "execution_count": 7,
   "id": "67252c1b-7b73-4da6-9c3d-7925405a7b07",
   "metadata": {},
   "outputs": [
    {
     "data": {
      "text/html": [
       "<div>\n",
       "<style scoped>\n",
       "    .dataframe tbody tr th:only-of-type {\n",
       "        vertical-align: middle;\n",
       "    }\n",
       "\n",
       "    .dataframe tbody tr th {\n",
       "        vertical-align: top;\n",
       "    }\n",
       "\n",
       "    .dataframe thead th {\n",
       "        text-align: right;\n",
       "    }\n",
       "</style>\n",
       "<table border=\"1\" class=\"dataframe\">\n",
       "  <thead>\n",
       "    <tr style=\"text-align: right;\">\n",
       "      <th></th>\n",
       "      <th>First Name</th>\n",
       "      <th>Last Name</th>\n",
       "      <th>ethnicity</th>\n",
       "      <th>Current Grade</th>\n",
       "    </tr>\n",
       "  </thead>\n",
       "  <tbody>\n",
       "    <tr>\n",
       "      <th>0</th>\n",
       "      <td>Declan</td>\n",
       "      <td>Bechard</td>\n",
       "      <td>White</td>\n",
       "      <td>Toddler</td>\n",
       "    </tr>\n",
       "    <tr>\n",
       "      <th>1</th>\n",
       "      <td>JonMateo</td>\n",
       "      <td>Carrigan</td>\n",
       "      <td>Multi-racial</td>\n",
       "      <td>Toddler</td>\n",
       "    </tr>\n",
       "  </tbody>\n",
       "</table>\n",
       "</div>"
      ],
      "text/plain": [
       "  First Name Last Name     ethnicity Current Grade\n",
       "0     Declan   Bechard         White       Toddler\n",
       "1   JonMateo  Carrigan  Multi-racial       Toddler"
      ]
     },
     "execution_count": 7,
     "metadata": {},
     "output_type": "execute_result"
    }
   ],
   "source": [
    "student_list = pd.read_csv('data/final_student_list.csv')\n",
    "student_list.head(2)"
   ]
  },
  {
   "cell_type": "code",
   "execution_count": 32,
   "id": "3686c3a5-a757-4b2a-8bcb-29bbf5a73d3a",
   "metadata": {},
   "outputs": [
    {
     "data": {
      "text/plain": [
       "(361, 4)"
      ]
     },
     "execution_count": 32,
     "metadata": {},
     "output_type": "execute_result"
    }
   ],
   "source": [
    "student_list.shape"
   ]
  },
  {
   "cell_type": "code",
   "execution_count": 11,
   "id": "fd233814-e876-4816-9d14-696625828d60",
   "metadata": {},
   "outputs": [
    {
     "data": {
      "text/plain": [
       "Index(['First Name', 'Last Name', 'ethnicity', 'Current Grade'], dtype='object')"
      ]
     },
     "execution_count": 11,
     "metadata": {},
     "output_type": "execute_result"
    }
   ],
   "source": [
    "student_list.columns"
   ]
  },
  {
   "cell_type": "code",
   "execution_count": 8,
   "id": "202e4333-09e3-4821-ac24-9264b8509090",
   "metadata": {},
   "outputs": [
    {
     "data": {
      "text/plain": [
       "Kindergarten            39\n",
       "First                   35\n",
       "Second                  35\n",
       "Children's House 4YO    33\n",
       "Third                   31\n",
       "Fourth                  31\n",
       "Seventh                 31\n",
       "Children's House 3YO    30\n",
       "Fifth                   30\n",
       "Eighth                  25\n",
       "Sixth                   22\n",
       "Toddler                 19\n",
       "Name: Current Grade, dtype: int64"
      ]
     },
     "execution_count": 8,
     "metadata": {},
     "output_type": "execute_result"
    }
   ],
   "source": [
    "student_list['Current Grade'].value_counts()"
   ]
  },
  {
   "cell_type": "code",
   "execution_count": 30,
   "id": "76617976-7843-4efb-948d-6ffa57e8bcb5",
   "metadata": {},
   "outputs": [
    {
     "data": {
      "text/plain": [
       "12"
      ]
     },
     "execution_count": 30,
     "metadata": {},
     "output_type": "execute_result"
    }
   ],
   "source": [
    "student_list['Current Grade'].nunique()"
   ]
  },
  {
   "cell_type": "code",
   "execution_count": 28,
   "id": "3252217c-fdd1-4e27-b8d8-562abb4dc9a8",
   "metadata": {},
   "outputs": [
    {
     "data": {
      "text/html": [
       "<div>\n",
       "<style scoped>\n",
       "    .dataframe tbody tr th:only-of-type {\n",
       "        vertical-align: middle;\n",
       "    }\n",
       "\n",
       "    .dataframe tbody tr th {\n",
       "        vertical-align: top;\n",
       "    }\n",
       "\n",
       "    .dataframe thead th {\n",
       "        text-align: right;\n",
       "    }\n",
       "</style>\n",
       "<table border=\"1\" class=\"dataframe\">\n",
       "  <thead>\n",
       "    <tr style=\"text-align: right;\">\n",
       "      <th></th>\n",
       "      <th>Full Name</th>\n",
       "      <th>Ethnicity</th>\n",
       "      <th>Current Grade</th>\n",
       "      <th>Zip (5-digit)</th>\n",
       "    </tr>\n",
       "  </thead>\n",
       "  <tbody>\n",
       "    <tr>\n",
       "      <th>0</th>\n",
       "      <td>Arbach , Alexo</td>\n",
       "      <td>Caucasian</td>\n",
       "      <td>Children's House 3YO</td>\n",
       "      <td>60640</td>\n",
       "    </tr>\n",
       "    <tr>\n",
       "      <th>1</th>\n",
       "      <td>Gaster , Eve</td>\n",
       "      <td>Caucasian</td>\n",
       "      <td>Children's House 3YO</td>\n",
       "      <td>60660</td>\n",
       "    </tr>\n",
       "  </tbody>\n",
       "</table>\n",
       "</div>"
      ],
      "text/plain": [
       "         Full Name   Ethnicity         Current Grade  Zip (5-digit)\n",
       "0  Arbach , Alexo   Caucasian   Children's House 3YO          60640\n",
       "1    Gaster , Eve   Caucasian   Children's House 3YO          60660"
      ]
     },
     "execution_count": 28,
     "metadata": {},
     "output_type": "execute_result"
    }
   ],
   "source": [
    "# Read in 2022 student list\n",
    "student_list_2022 = pd.read_csv('data/2022/2022_student_list.csv')\n",
    "student_list_2022.head(2)"
   ]
  },
  {
   "cell_type": "code",
   "execution_count": 33,
   "id": "638f10bb-3c6c-46d8-add0-3f6084125746",
   "metadata": {},
   "outputs": [
    {
     "data": {
      "text/plain": [
       "(346, 4)"
      ]
     },
     "execution_count": 33,
     "metadata": {},
     "output_type": "execute_result"
    }
   ],
   "source": [
    "student_list_2022.shape"
   ]
  },
  {
   "cell_type": "code",
   "execution_count": 34,
   "id": "eb5fcbe8-4068-4445-8a0e-dc6f8a2c2475",
   "metadata": {},
   "outputs": [
    {
     "data": {
      "text/plain": [
       "Index(['Year', 'Enrollment', 'White', 'Asian', 'African American', 'Latino',\n",
       "       'Multi-racial', 'Prefer Not To Answer', 'total non-white', 'Percent',\n",
       "       'Same Gender Parents', 'White %', 'Asian %', 'African American %',\n",
       "       'Latino %', 'Multi-racial %'],\n",
       "      dtype='object')"
      ]
     },
     "execution_count": 34,
     "metadata": {},
     "output_type": "execute_result"
    }
   ],
   "source": [
    "demo_hist.columns"
   ]
  },
  {
   "cell_type": "code",
   "execution_count": null,
   "id": "9aebc2da-28cf-456c-a744-cf5112388be4",
   "metadata": {},
   "outputs": [],
   "source": []
  },
  {
   "cell_type": "markdown",
   "id": "42846a02-8ca6-4a35-8951-fcabfa22bccb",
   "metadata": {},
   "source": [
    "___"
   ]
  },
  {
   "cell_type": "code",
   "execution_count": 13,
   "id": "37336c28-d457-4803-85d7-b6a6568968aa",
   "metadata": {},
   "outputs": [],
   "source": [
    "area_stats = pd.read_csv('data/zip_demos.csv', dtype={'zip':str})"
   ]
  },
  {
   "cell_type": "code",
   "execution_count": 14,
   "id": "89a12d83-2ff3-4c1b-9889-01a958fcf349",
   "metadata": {},
   "outputs": [
    {
     "data": {
      "text/html": [
       "<div>\n",
       "<style scoped>\n",
       "    .dataframe tbody tr th:only-of-type {\n",
       "        vertical-align: middle;\n",
       "    }\n",
       "\n",
       "    .dataframe tbody tr th {\n",
       "        vertical-align: top;\n",
       "    }\n",
       "\n",
       "    .dataframe thead th {\n",
       "        text-align: right;\n",
       "    }\n",
       "</style>\n",
       "<table border=\"1\" class=\"dataframe\">\n",
       "  <thead>\n",
       "    <tr style=\"text-align: right;\">\n",
       "      <th></th>\n",
       "      <th>zip</th>\n",
       "      <th>White</th>\n",
       "      <th>Black</th>\n",
       "      <th>Latino</th>\n",
       "      <th>Asian</th>\n",
       "    </tr>\n",
       "  </thead>\n",
       "  <tbody>\n",
       "    <tr>\n",
       "      <th>0</th>\n",
       "      <td>60601</td>\n",
       "      <td>65.05</td>\n",
       "      <td>10.22</td>\n",
       "      <td>6.78</td>\n",
       "      <td>17.00</td>\n",
       "    </tr>\n",
       "    <tr>\n",
       "      <th>1</th>\n",
       "      <td>60602</td>\n",
       "      <td>67.04</td>\n",
       "      <td>1.68</td>\n",
       "      <td>14.14</td>\n",
       "      <td>15.54</td>\n",
       "    </tr>\n",
       "  </tbody>\n",
       "</table>\n",
       "</div>"
      ],
      "text/plain": [
       "     zip  White  Black  Latino  Asian\n",
       "0  60601  65.05  10.22    6.78  17.00\n",
       "1  60602  67.04   1.68   14.14  15.54"
      ]
     },
     "execution_count": 14,
     "metadata": {},
     "output_type": "execute_result"
    }
   ],
   "source": [
    "area_stats.head(2)"
   ]
  },
  {
   "cell_type": "markdown",
   "id": "db1cd796-dbe1-4e82-9c81-95fe9a40553a",
   "metadata": {},
   "source": [
    "___"
   ]
  },
  {
   "cell_type": "code",
   "execution_count": 15,
   "id": "c0e43a72-ab9d-4895-a713-8d4fc23cc465",
   "metadata": {},
   "outputs": [],
   "source": [
    "student_locations = pd.read_csv('data/student_locations.csv')"
   ]
  },
  {
   "cell_type": "code",
   "execution_count": 16,
   "id": "eb4f1e52-b2c1-461c-beac-6964549a6fd3",
   "metadata": {},
   "outputs": [
    {
     "data": {
      "text/html": [
       "<div>\n",
       "<style scoped>\n",
       "    .dataframe tbody tr th:only-of-type {\n",
       "        vertical-align: middle;\n",
       "    }\n",
       "\n",
       "    .dataframe tbody tr th {\n",
       "        vertical-align: top;\n",
       "    }\n",
       "\n",
       "    .dataframe thead th {\n",
       "        text-align: right;\n",
       "    }\n",
       "</style>\n",
       "<table border=\"1\" class=\"dataframe\">\n",
       "  <thead>\n",
       "    <tr style=\"text-align: right;\">\n",
       "      <th></th>\n",
       "      <th>latitude</th>\n",
       "      <th>longitude</th>\n",
       "    </tr>\n",
       "  </thead>\n",
       "  <tbody>\n",
       "    <tr>\n",
       "      <th>0</th>\n",
       "      <td>41.9719</td>\n",
       "      <td>-87.6624</td>\n",
       "    </tr>\n",
       "    <tr>\n",
       "      <th>1</th>\n",
       "      <td>41.9909</td>\n",
       "      <td>-87.6629</td>\n",
       "    </tr>\n",
       "  </tbody>\n",
       "</table>\n",
       "</div>"
      ],
      "text/plain": [
       "   latitude  longitude\n",
       "0   41.9719   -87.6624\n",
       "1   41.9909   -87.6629"
      ]
     },
     "execution_count": 16,
     "metadata": {},
     "output_type": "execute_result"
    }
   ],
   "source": [
    "student_locations.head(2)"
   ]
  },
  {
   "cell_type": "markdown",
   "id": "221ec796-4678-4d8b-874e-2b7a0e03c009",
   "metadata": {},
   "source": [
    "## Create new lat longs"
   ]
  },
  {
   "cell_type": "code",
   "execution_count": 47,
   "id": "8886f4cf-b454-4936-9651-fea850bf9d1e",
   "metadata": {},
   "outputs": [],
   "source": [
    "import pgeocode"
   ]
  },
  {
   "cell_type": "code",
   "execution_count": 49,
   "id": "d410d724-1681-47f1-b346-c3057fd137bf",
   "metadata": {},
   "outputs": [],
   "source": [
    "nomi = pgeocode.Nominatim('us')"
   ]
  },
  {
   "cell_type": "code",
   "execution_count": 54,
   "id": "fa89e1ae-7283-4577-84c7-e6f30ba4a48e",
   "metadata": {},
   "outputs": [],
   "source": [
    "student_program_zip['latitude'] = student_program_zip['Zip Code'].apply(lambda x: nomi.query_postal_code(x).latitude)"
   ]
  },
  {
   "cell_type": "code",
   "execution_count": 55,
   "id": "69ffdbbb-2796-4cd2-8483-9f3dfd320f19",
   "metadata": {},
   "outputs": [],
   "source": [
    "student_program_zip['longitude'] = student_program_zip['Zip Code'].apply(lambda x: nomi.query_postal_code(x).longitude)"
   ]
  },
  {
   "cell_type": "code",
   "execution_count": 56,
   "id": "33c9c769-9585-47e0-90a9-eb81e601c335",
   "metadata": {},
   "outputs": [
    {
     "data": {
      "text/html": [
       "<div>\n",
       "<style scoped>\n",
       "    .dataframe tbody tr th:only-of-type {\n",
       "        vertical-align: middle;\n",
       "    }\n",
       "\n",
       "    .dataframe tbody tr th {\n",
       "        vertical-align: top;\n",
       "    }\n",
       "\n",
       "    .dataframe thead th {\n",
       "        text-align: right;\n",
       "    }\n",
       "</style>\n",
       "<table border=\"1\" class=\"dataframe\">\n",
       "  <thead>\n",
       "    <tr style=\"text-align: right;\">\n",
       "      <th></th>\n",
       "      <th>Person ID</th>\n",
       "      <th>Full Name</th>\n",
       "      <th>Current Grade</th>\n",
       "      <th>Zip Code</th>\n",
       "      <th>Ethnicity</th>\n",
       "      <th>Enrollment Status</th>\n",
       "      <th>Roles</th>\n",
       "      <th>latitude</th>\n",
       "      <th>longitude</th>\n",
       "    </tr>\n",
       "  </thead>\n",
       "  <tbody>\n",
       "    <tr>\n",
       "      <th>0</th>\n",
       "      <td>100314.0</td>\n",
       "      <td>Bechard, Declan</td>\n",
       "      <td>Toddler</td>\n",
       "      <td>60640</td>\n",
       "      <td>Caucasian</td>\n",
       "      <td>EN: Newly Enrolled</td>\n",
       "      <td>Student (T), Prg Stud</td>\n",
       "      <td>41.9719</td>\n",
       "      <td>-87.6624</td>\n",
       "    </tr>\n",
       "    <tr>\n",
       "      <th>1</th>\n",
       "      <td>100318.0</td>\n",
       "      <td>Carrigan, JonMateo</td>\n",
       "      <td>Toddler</td>\n",
       "      <td>60660</td>\n",
       "      <td>Multi-racial</td>\n",
       "      <td>EN: Newly Enrolled</td>\n",
       "      <td>Student (T), Prg Stud</td>\n",
       "      <td>41.9909</td>\n",
       "      <td>-87.6629</td>\n",
       "    </tr>\n",
       "    <tr>\n",
       "      <th>2</th>\n",
       "      <td>100319.0</td>\n",
       "      <td>Ciardi, Nelson</td>\n",
       "      <td>Toddler</td>\n",
       "      <td>60625</td>\n",
       "      <td>Asian</td>\n",
       "      <td>EN: Newly Enrolled</td>\n",
       "      <td>Student (T), Prg Stud</td>\n",
       "      <td>41.9703</td>\n",
       "      <td>-87.7042</td>\n",
       "    </tr>\n",
       "    <tr>\n",
       "      <th>3</th>\n",
       "      <td>100320.0</td>\n",
       "      <td>Elkington, Max</td>\n",
       "      <td>Toddler</td>\n",
       "      <td>60640</td>\n",
       "      <td>Caucasian</td>\n",
       "      <td>EN: Newly Enrolled</td>\n",
       "      <td>Student (T), Prg Stud</td>\n",
       "      <td>41.9719</td>\n",
       "      <td>-87.6624</td>\n",
       "    </tr>\n",
       "    <tr>\n",
       "      <th>4</th>\n",
       "      <td>100354.0</td>\n",
       "      <td>Gaster, Eve</td>\n",
       "      <td>Toddler</td>\n",
       "      <td>60626</td>\n",
       "      <td>&lt;None Specified&gt;</td>\n",
       "      <td>EN: Newly Enrolled</td>\n",
       "      <td>Student (T)</td>\n",
       "      <td>42.0095</td>\n",
       "      <td>-87.6689</td>\n",
       "    </tr>\n",
       "  </tbody>\n",
       "</table>\n",
       "</div>"
      ],
      "text/plain": [
       "   Person ID           Full Name Current Grade  Zip Code         Ethnicity  \\\n",
       "0   100314.0     Bechard, Declan       Toddler     60640         Caucasian   \n",
       "1   100318.0  Carrigan, JonMateo       Toddler     60660      Multi-racial   \n",
       "2   100319.0      Ciardi, Nelson       Toddler     60625             Asian   \n",
       "3   100320.0      Elkington, Max       Toddler     60640         Caucasian   \n",
       "4   100354.0         Gaster, Eve       Toddler     60626  <None Specified>   \n",
       "\n",
       "    Enrollment Status                  Roles  latitude  longitude  \n",
       "0  EN: Newly Enrolled  Student (T), Prg Stud   41.9719   -87.6624  \n",
       "1  EN: Newly Enrolled  Student (T), Prg Stud   41.9909   -87.6629  \n",
       "2  EN: Newly Enrolled  Student (T), Prg Stud   41.9703   -87.7042  \n",
       "3  EN: Newly Enrolled  Student (T), Prg Stud   41.9719   -87.6624  \n",
       "4  EN: Newly Enrolled            Student (T)   42.0095   -87.6689  "
      ]
     },
     "execution_count": 56,
     "metadata": {},
     "output_type": "execute_result"
    }
   ],
   "source": [
    "student_program_zip.head()"
   ]
  },
  {
   "cell_type": "code",
   "execution_count": 57,
   "id": "2b345119-0d81-4deb-9daa-0a102213a99b",
   "metadata": {},
   "outputs": [],
   "source": [
    "student_locations = student_program_zip[['latitude', 'longitude']]"
   ]
  },
  {
   "cell_type": "code",
   "execution_count": 58,
   "id": "fc113ecb-1e7d-4699-9151-24caed3b13f3",
   "metadata": {},
   "outputs": [],
   "source": [
    "student_locations.to_csv('data/2022/student_locations.csv', index=False)"
   ]
  },
  {
   "cell_type": "markdown",
   "id": "92f1f3dd-a63e-4ee6-9923-bacfcca5b902",
   "metadata": {},
   "source": [
    "___"
   ]
  }
 ],
 "metadata": {
  "kernelspec": {
   "display_name": "Python 3 (ipykernel)",
   "language": "python",
   "name": "python3"
  },
  "language_info": {
   "codemirror_mode": {
    "name": "ipython",
    "version": 3
   },
   "file_extension": ".py",
   "mimetype": "text/x-python",
   "name": "python",
   "nbconvert_exporter": "python",
   "pygments_lexer": "ipython3",
   "version": "3.9.13"
  }
 },
 "nbformat": 4,
 "nbformat_minor": 5
}
